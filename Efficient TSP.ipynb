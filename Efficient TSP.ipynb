{
 "cells": [
  {
   "cell_type": "code",
   "execution_count": 28,
   "id": "4602daa3",
   "metadata": {},
   "outputs": [
    {
     "name": "stderr",
     "output_type": "stream",
     "text": [
      "\u001b[32m\u001b[1m    Updating\u001b[22m\u001b[39m registry at `~/.julia/registries/General.toml`\n",
      "\u001b[32m\u001b[1m   Resolving\u001b[22m\u001b[39m package versions...\n",
      "\u001b[32m\u001b[1m  No Changes\u001b[22m\u001b[39m to `~/.julia/environments/v1.7/Project.toml`\n",
      "\u001b[32m\u001b[1m  No Changes\u001b[22m\u001b[39m to `~/.julia/environments/v1.7/Manifest.toml`\n",
      "\u001b[32m\u001b[1m   Resolving\u001b[22m\u001b[39m package versions...\n",
      "\u001b[32m\u001b[1m  No Changes\u001b[22m\u001b[39m to `~/.julia/environments/v1.7/Project.toml`\n",
      "\u001b[32m\u001b[1m  No Changes\u001b[22m\u001b[39m to `~/.julia/environments/v1.7/Manifest.toml`\n",
      "\u001b[32m\u001b[1m   Resolving\u001b[22m\u001b[39m package versions...\n",
      "\u001b[32m\u001b[1m  No Changes\u001b[22m\u001b[39m to `~/.julia/environments/v1.7/Project.toml`\n",
      "\u001b[32m\u001b[1m  No Changes\u001b[22m\u001b[39m to `~/.julia/environments/v1.7/Manifest.toml`\n",
      "\u001b[32m\u001b[1m   Resolving\u001b[22m\u001b[39m package versions...\n",
      "\u001b[32m\u001b[1m  No Changes\u001b[22m\u001b[39m to `~/.julia/environments/v1.7/Project.toml`\n",
      "\u001b[32m\u001b[1m  No Changes\u001b[22m\u001b[39m to `~/.julia/environments/v1.7/Manifest.toml`\n",
      "\u001b[32m\u001b[1m   Resolving\u001b[22m\u001b[39m package versions...\n",
      "\u001b[32m\u001b[1m  No Changes\u001b[22m\u001b[39m to `~/.julia/environments/v1.7/Project.toml`\n",
      "\u001b[32m\u001b[1m  No Changes\u001b[22m\u001b[39m to `~/.julia/environments/v1.7/Manifest.toml`\n",
      "\u001b[32m\u001b[1m   Resolving\u001b[22m\u001b[39m package versions...\n",
      "\u001b[32m\u001b[1m  No Changes\u001b[22m\u001b[39m to `~/.julia/environments/v1.7/Project.toml`\n",
      "\u001b[32m\u001b[1m  No Changes\u001b[22m\u001b[39m to `~/.julia/environments/v1.7/Manifest.toml`\n",
      "\u001b[32m\u001b[1m   Resolving\u001b[22m\u001b[39m package versions...\n",
      "\u001b[32m\u001b[1m  No Changes\u001b[22m\u001b[39m to `~/.julia/environments/v1.7/Project.toml`\n",
      "\u001b[32m\u001b[1m  No Changes\u001b[22m\u001b[39m to `~/.julia/environments/v1.7/Manifest.toml`\n",
      "\u001b[32m\u001b[1m    Building\u001b[22m\u001b[39m Gurobi → `~/.julia/scratchspaces/44cfe95a-1eb2-52ea-b672-e2afdf69b78f/87c018cbd2fd33e6d2462d486abee53a27c91c91/build.log`\n",
      "\u001b[32m\u001b[1mPrecompiling\u001b[22m\u001b[39m project...\n",
      "\u001b[33m  ✓ \u001b[39mGurobi\n",
      "  1 dependency successfully precompiled in 4 seconds (222 already precompiled, 1 skipped during auto due to previous errors)\n",
      "  \u001b[33m1\u001b[39m dependency precompiled but a different version is currently loaded. Restart julia to access the new version\n"
     ]
    }
   ],
   "source": [
    "using Pkg\n",
    "\n",
    "Pkg.add(\"Graphs\")\n",
    "Pkg.add(\"JuMP\")\n",
    "Pkg.add(\"GLPK\")\n",
    "Pkg.add(\"HiGHS\")\n",
    "Pkg.add(\"EAGO\")\n",
    "Pkg.add(\"BenchmarkTools\")\n",
    "Pkg.add(\"Distances\")\n",
    "Pkg.add(\"Plots\")\n",
    "ENV[\"GUROBI_HOME\"] = \"/Library/gurobi952/macos_universal2/\"\n",
    "Pkg.add(\"Gurobi\")\n",
    "Pkg.build(\"Gurobi\")"
   ]
  },
  {
   "cell_type": "code",
   "execution_count": 1,
   "id": "8fe06e97",
   "metadata": {},
   "outputs": [
    {
     "data": {
      "text/plain": [
       "calc_travelmatrix (generic function with 1 method)"
      ]
     },
     "execution_count": 1,
     "metadata": {},
     "output_type": "execute_result"
    }
   ],
   "source": [
    "struct Delivery\n",
    "    x::Float64\n",
    "    y::Float64\n",
    "end;\n",
    "function random_delivery()\n",
    "    x = rand(0.0:0.1:100.0)\n",
    "    y = rand(0.0:0.1:100.0)\n",
    "    return Delivery(x, y)\n",
    "end;\n",
    "\n",
    "struct TSProblem\n",
    "    deliveries::Array{Delivery}\n",
    "end;\n",
    "\n",
    "function random_instance(n_deliveries)\n",
    "    deliveries = [random_delivery() for _=1:n_deliveries]\n",
    "    problem = TSProblem(deliveries)\n",
    "    return problem\n",
    "end;\n",
    "\n",
    "function dist(del1::Delivery, del2::Delivery)\n",
    "    return sqrt((del1.x - del2.x)^2 + (del1.y - del2.y)^2)\n",
    "end\n",
    "function calc_travelmatrix(deliveries::Array{Delivery})\n",
    "    tm = zeros(Float64, length(deliveries), length(deliveries))\n",
    "    for i = 1:length(deliveries)\n",
    "        for j = 1:length(deliveries)\n",
    "            tm[i, j] = dist(deliveries[i], deliveries[j])\n",
    "        end\n",
    "    end\n",
    "    return tm\n",
    "end\n"
   ]
  },
  {
   "cell_type": "code",
   "execution_count": 5,
   "id": "6739c23b",
   "metadata": {},
   "outputs": [
    {
     "data": {
      "text/plain": [
       "\u001b[32m\u001b[1mTest Passed\u001b[22m\u001b[39m\n",
       "  Expression: shortest_subtour(test_m) == [1, 2]\n",
       "   Evaluated: [1, 2] == [1, 2]"
      ]
     },
     "execution_count": 5,
     "metadata": {},
     "output_type": "execute_result"
    }
   ],
   "source": [
    "# import Graph\n",
    "using Graphs\n",
    "using Test\n",
    "\n",
    "\n",
    "test_m = [0 1 0 0; \n",
    "          1 0 0 0;\n",
    "          0 0 0 1;\n",
    "          0 0 1 0;]\n",
    "\"\"\"\n",
    "given an incidence matrix of a tsp route return nodes of the shortest cycle\n",
    "\"\"\"\n",
    "function shortest_subtour(matrix::Matrix{Int64})\n",
    "    g = Graphs.SimpleDiGraph(matrix)\n",
    "    cycles = []\n",
    "    max_cycle_len = Graphs.nv(g)\n",
    "    for node in Graphs.vertices(g)\n",
    "        push!(cycles, Graphs.neighborhood(g, node, max_cycle_len))\n",
    "    end\n",
    "    cycles = filter(x -> max_cycle_len > length(x) > 1, cycles)\n",
    "    if isempty(cycles)\n",
    "        return []\n",
    "    end\n",
    "    return sort(cycles, by=length)[1]\n",
    "end\n",
    "@test shortest_subtour(test_m) == [1, 2]"
   ]
  },
  {
   "cell_type": "code",
   "execution_count": 6,
   "id": "4c3722fa",
   "metadata": {},
   "outputs": [
    {
     "data": {
      "text/plain": [
       "\u001b[32m\u001b[1mTest Passed\u001b[22m\u001b[39m\n",
       "  Expression: shortest_subtour(test_m_empty) == []\n",
       "   Evaluated: Any[] == Any[]"
      ]
     },
     "execution_count": 6,
     "metadata": {},
     "output_type": "execute_result"
    }
   ],
   "source": [
    "test_m_empty = [0 0 0 0; \n",
    "          0 0 0 0;\n",
    "          0 0 0 0;\n",
    "          0 0 0 0;]\n",
    "@test shortest_subtour(test_m_empty) == []"
   ]
  },
  {
   "cell_type": "code",
   "execution_count": 7,
   "id": "92df2415",
   "metadata": {},
   "outputs": [
    {
     "data": {
      "text/plain": [
       "\u001b[32m\u001b[1mTest Passed\u001b[22m\u001b[39m\n",
       "  Expression: shortest_subtour(test_m_empty) == []\n",
       "   Evaluated: Any[] == Any[]"
      ]
     },
     "execution_count": 7,
     "metadata": {},
     "output_type": "execute_result"
    }
   ],
   "source": [
    "test_m_no_subtours = \n",
    "         [0 1 0 0; \n",
    "          0 0 1 0;\n",
    "          0 0 0 1;\n",
    "          1 0 0 0;]\n",
    "@test shortest_subtour(test_m_empty) == []"
   ]
  },
  {
   "cell_type": "code",
   "execution_count": 8,
   "id": "8c5c5a39",
   "metadata": {},
   "outputs": [
    {
     "data": {
      "text/plain": [
       "\u001b[32m\u001b[1mTest Passed\u001b[22m\u001b[39m\n",
       "  Expression: shortest_subtour(test_subtours) == [1, 3, 6]\n",
       "   Evaluated: [1, 3, 6] == [1, 3, 6]"
      ]
     },
     "execution_count": 8,
     "metadata": {},
     "output_type": "execute_result"
    }
   ],
   "source": [
    "test_subtours = \n",
    "    [0 0 1 0 0 0;\n",
    "     0 0 0 0 1 0;\n",
    "     0 0 0 0 0 1;\n",
    "     0 1 0 0 0 0;\n",
    "     0 0 0 1 0 0;\n",
    "     1 0 0 0 0 0]\n",
    "@test shortest_subtour(test_subtours) == [1, 3, 6]"
   ]
  },
  {
   "cell_type": "code",
   "execution_count": 9,
   "id": "5f5f9ca5",
   "metadata": {},
   "outputs": [
    {
     "data": {
      "text/plain": [
       "\u001b[32m\u001b[1mTest Passed\u001b[22m\u001b[39m\n",
       "  Expression: shortest_subtour(test_subtours2) == []\n",
       "   Evaluated: Any[] == Any[]"
      ]
     },
     "execution_count": 9,
     "metadata": {},
     "output_type": "execute_result"
    }
   ],
   "source": [
    "test_subtours2 = \n",
    "   [0 0 1 0 0; \n",
    "    1 0 0 0 0;\n",
    "    0 0 0 0 1;\n",
    "    0 1 0 0 0;\n",
    "    0 0 0 1 0]\n",
    "@test shortest_subtour(test_subtours2) == []"
   ]
  },
  {
   "cell_type": "code",
   "execution_count": 78,
   "id": "363db71d",
   "metadata": {},
   "outputs": [
    {
     "name": "stdout",
     "output_type": "stream",
     "text": [
      "  2.387122 seconds (2.59 M allocations: 86.831 MiB, 0.84% gc time, 23.57% compilation time)\n"
     ]
    },
    {
     "data": {
      "image/svg+xml": [
       "<?xml version=\"1.0\" encoding=\"utf-8\"?>\n",
       "<svg xmlns=\"http://www.w3.org/2000/svg\" xmlns:xlink=\"http://www.w3.org/1999/xlink\" width=\"600\" height=\"400\" viewBox=\"0 0 2400 1600\">\n",
       "<defs>\n",
       "  <clipPath id=\"clip780\">\n",
       "    <rect x=\"0\" y=\"0\" width=\"2400\" height=\"1600\"/>\n",
       "  </clipPath>\n",
       "</defs>\n",
       "<path clip-path=\"url(#clip780)\" d=\"\n",
       "M0 1600 L2400 1600 L2400 0 L0 0  Z\n",
       "  \" fill=\"#ffffff\" fill-rule=\"evenodd\" fill-opacity=\"1\"/>\n",
       "<defs>\n",
       "  <clipPath id=\"clip781\">\n",
       "    <rect x=\"480\" y=\"0\" width=\"1681\" height=\"1600\"/>\n",
       "  </clipPath>\n",
       "</defs>\n",
       "<path clip-path=\"url(#clip780)\" d=\"\n",
       "M169.121 1486.45 L2352.76 1486.45 L2352.76 47.2441 L169.121 47.2441  Z\n",
       "  \" fill=\"#ffffff\" fill-rule=\"evenodd\" fill-opacity=\"1\"/>\n",
       "<defs>\n",
       "  <clipPath id=\"clip782\">\n",
       "    <rect x=\"169\" y=\"47\" width=\"2185\" height=\"1440\"/>\n",
       "  </clipPath>\n",
       "</defs>\n",
       "<polyline clip-path=\"url(#clip782)\" style=\"stroke:#000000; stroke-linecap:butt; stroke-linejoin:round; stroke-width:2; stroke-opacity:0.1; fill:none\" points=\"\n",
       "  607.487,1486.45 607.487,47.2441 \n",
       "  \"/>\n",
       "<polyline clip-path=\"url(#clip782)\" style=\"stroke:#000000; stroke-linecap:butt; stroke-linejoin:round; stroke-width:2; stroke-opacity:0.1; fill:none\" points=\"\n",
       "  1050.51,1486.45 1050.51,47.2441 \n",
       "  \"/>\n",
       "<polyline clip-path=\"url(#clip782)\" style=\"stroke:#000000; stroke-linecap:butt; stroke-linejoin:round; stroke-width:2; stroke-opacity:0.1; fill:none\" points=\"\n",
       "  1493.52,1486.45 1493.52,47.2441 \n",
       "  \"/>\n",
       "<polyline clip-path=\"url(#clip782)\" style=\"stroke:#000000; stroke-linecap:butt; stroke-linejoin:round; stroke-width:2; stroke-opacity:0.1; fill:none\" points=\"\n",
       "  1936.54,1486.45 1936.54,47.2441 \n",
       "  \"/>\n",
       "<polyline clip-path=\"url(#clip780)\" style=\"stroke:#000000; stroke-linecap:butt; stroke-linejoin:round; stroke-width:4; stroke-opacity:1; fill:none\" points=\"\n",
       "  169.121,1486.45 2352.76,1486.45 \n",
       "  \"/>\n",
       "<polyline clip-path=\"url(#clip780)\" style=\"stroke:#000000; stroke-linecap:butt; stroke-linejoin:round; stroke-width:4; stroke-opacity:1; fill:none\" points=\"\n",
       "  607.487,1486.45 607.487,1467.55 \n",
       "  \"/>\n",
       "<polyline clip-path=\"url(#clip780)\" style=\"stroke:#000000; stroke-linecap:butt; stroke-linejoin:round; stroke-width:4; stroke-opacity:1; fill:none\" points=\"\n",
       "  1050.51,1486.45 1050.51,1467.55 \n",
       "  \"/>\n",
       "<polyline clip-path=\"url(#clip780)\" style=\"stroke:#000000; stroke-linecap:butt; stroke-linejoin:round; stroke-width:4; stroke-opacity:1; fill:none\" points=\"\n",
       "  1493.52,1486.45 1493.52,1467.55 \n",
       "  \"/>\n",
       "<polyline clip-path=\"url(#clip780)\" style=\"stroke:#000000; stroke-linecap:butt; stroke-linejoin:round; stroke-width:4; stroke-opacity:1; fill:none\" points=\"\n",
       "  1936.54,1486.45 1936.54,1467.55 \n",
       "  \"/>\n",
       "<path clip-path=\"url(#clip780)\" d=\"M586.261 1544.91 L602.58 1544.91 L602.58 1548.85 L580.636 1548.85 L580.636 1544.91 Q583.298 1542.16 587.881 1537.53 Q592.487 1532.88 593.668 1531.53 Q595.913 1529.01 596.793 1527.27 Q597.696 1525.51 597.696 1523.82 Q597.696 1521.07 595.751 1519.33 Q593.83 1517.6 590.728 1517.6 Q588.529 1517.6 586.075 1518.36 Q583.645 1519.13 580.867 1520.68 L580.867 1515.95 Q583.691 1514.82 586.145 1514.24 Q588.599 1513.66 590.636 1513.66 Q596.006 1513.66 599.2 1516.35 Q602.395 1519.03 602.395 1523.52 Q602.395 1525.65 601.585 1527.57 Q600.798 1529.47 598.691 1532.07 Q598.112 1532.74 595.011 1535.95 Q591.909 1539.15 586.261 1544.91 Z\" fill=\"#000000\" fill-rule=\"evenodd\" fill-opacity=\"1\" /><path clip-path=\"url(#clip780)\" d=\"M622.395 1517.37 Q618.784 1517.37 616.955 1520.93 Q615.149 1524.47 615.149 1531.6 Q615.149 1538.71 616.955 1542.27 Q618.784 1545.82 622.395 1545.82 Q626.029 1545.82 627.835 1542.27 Q629.663 1538.71 629.663 1531.6 Q629.663 1524.47 627.835 1520.93 Q626.029 1517.37 622.395 1517.37 M622.395 1513.66 Q628.205 1513.66 631.26 1518.27 Q634.339 1522.85 634.339 1531.6 Q634.339 1540.33 631.26 1544.94 Q628.205 1549.52 622.395 1549.52 Q616.585 1549.52 613.506 1544.94 Q610.45 1540.33 610.45 1531.6 Q610.45 1522.85 613.506 1518.27 Q616.585 1513.66 622.395 1513.66 Z\" fill=\"#000000\" fill-rule=\"evenodd\" fill-opacity=\"1\" /><path clip-path=\"url(#clip780)\" d=\"M1038.68 1518.36 L1026.87 1536.81 L1038.68 1536.81 L1038.68 1518.36 M1037.45 1514.29 L1043.33 1514.29 L1043.33 1536.81 L1048.26 1536.81 L1048.26 1540.7 L1043.33 1540.7 L1043.33 1548.85 L1038.68 1548.85 L1038.68 1540.7 L1023.07 1540.7 L1023.07 1536.19 L1037.45 1514.29 Z\" fill=\"#000000\" fill-rule=\"evenodd\" fill-opacity=\"1\" /><path clip-path=\"url(#clip780)\" d=\"M1065.99 1517.37 Q1062.38 1517.37 1060.55 1520.93 Q1058.75 1524.47 1058.75 1531.6 Q1058.75 1538.71 1060.55 1542.27 Q1062.38 1545.82 1065.99 1545.82 Q1069.63 1545.82 1071.43 1542.27 Q1073.26 1538.71 1073.26 1531.6 Q1073.26 1524.47 1071.43 1520.93 Q1069.63 1517.37 1065.99 1517.37 M1065.99 1513.66 Q1071.8 1513.66 1074.86 1518.27 Q1077.94 1522.85 1077.94 1531.6 Q1077.94 1540.33 1074.86 1544.94 Q1071.8 1549.52 1065.99 1549.52 Q1060.18 1549.52 1057.1 1544.94 Q1054.05 1540.33 1054.05 1531.6 Q1054.05 1522.85 1057.1 1518.27 Q1060.18 1513.66 1065.99 1513.66 Z\" fill=\"#000000\" fill-rule=\"evenodd\" fill-opacity=\"1\" /><path clip-path=\"url(#clip780)\" d=\"M1478.93 1529.7 Q1475.78 1529.7 1473.93 1531.86 Q1472.1 1534.01 1472.1 1537.76 Q1472.1 1541.49 1473.93 1543.66 Q1475.78 1545.82 1478.93 1545.82 Q1482.08 1545.82 1483.9 1543.66 Q1485.76 1541.49 1485.76 1537.76 Q1485.76 1534.01 1483.9 1531.86 Q1482.08 1529.7 1478.93 1529.7 M1488.21 1515.05 L1488.21 1519.31 Q1486.45 1518.48 1484.65 1518.04 Q1482.86 1517.6 1481.1 1517.6 Q1476.47 1517.6 1474.02 1520.72 Q1471.59 1523.85 1471.24 1530.17 Q1472.61 1528.15 1474.67 1527.09 Q1476.73 1526 1479.21 1526 Q1484.41 1526 1487.42 1529.17 Q1490.46 1532.32 1490.46 1537.76 Q1490.46 1543.08 1487.31 1546.3 Q1484.16 1549.52 1478.93 1549.52 Q1472.93 1549.52 1469.76 1544.94 Q1466.59 1540.33 1466.59 1531.6 Q1466.59 1523.41 1470.48 1518.55 Q1474.37 1513.66 1480.92 1513.66 Q1482.68 1513.66 1484.46 1514.01 Q1486.27 1514.36 1488.21 1515.05 Z\" fill=\"#000000\" fill-rule=\"evenodd\" fill-opacity=\"1\" /><path clip-path=\"url(#clip780)\" d=\"M1508.51 1517.37 Q1504.9 1517.37 1503.07 1520.93 Q1501.27 1524.47 1501.27 1531.6 Q1501.27 1538.71 1503.07 1542.27 Q1504.9 1545.82 1508.51 1545.82 Q1512.15 1545.82 1513.95 1542.27 Q1515.78 1538.71 1515.78 1531.6 Q1515.78 1524.47 1513.95 1520.93 Q1512.15 1517.37 1508.51 1517.37 M1508.51 1513.66 Q1514.32 1513.66 1517.38 1518.27 Q1520.46 1522.85 1520.46 1531.6 Q1520.46 1540.33 1517.38 1544.94 Q1514.32 1549.52 1508.51 1549.52 Q1502.7 1549.52 1499.62 1544.94 Q1496.57 1540.33 1496.57 1531.6 Q1496.57 1522.85 1499.62 1518.27 Q1502.7 1513.66 1508.51 1513.66 Z\" fill=\"#000000\" fill-rule=\"evenodd\" fill-opacity=\"1\" /><path clip-path=\"url(#clip780)\" d=\"M1921.41 1532.44 Q1918.08 1532.44 1916.16 1534.22 Q1914.26 1536 1914.26 1539.13 Q1914.26 1542.25 1916.16 1544.03 Q1918.08 1545.82 1921.41 1545.82 Q1924.75 1545.82 1926.67 1544.03 Q1928.59 1542.23 1928.59 1539.13 Q1928.59 1536 1926.67 1534.22 Q1924.77 1532.44 1921.41 1532.44 M1916.74 1530.45 Q1913.73 1529.7 1912.04 1527.64 Q1910.37 1525.58 1910.37 1522.62 Q1910.37 1518.48 1913.31 1516.07 Q1916.27 1513.66 1921.41 1513.66 Q1926.58 1513.66 1929.52 1516.07 Q1932.46 1518.48 1932.46 1522.62 Q1932.46 1525.58 1930.77 1527.64 Q1929.1 1529.7 1926.11 1530.45 Q1929.49 1531.23 1931.37 1533.52 Q1933.27 1535.82 1933.27 1539.13 Q1933.27 1544.15 1930.19 1546.83 Q1927.13 1549.52 1921.41 1549.52 Q1915.7 1549.52 1912.62 1546.83 Q1909.56 1544.15 1909.56 1539.13 Q1909.56 1535.82 1911.46 1533.52 Q1913.36 1531.23 1916.74 1530.45 M1915.02 1523.06 Q1915.02 1525.75 1916.69 1527.25 Q1918.38 1528.76 1921.41 1528.76 Q1924.42 1528.76 1926.11 1527.25 Q1927.83 1525.75 1927.83 1523.06 Q1927.83 1520.38 1926.11 1518.87 Q1924.42 1517.37 1921.41 1517.37 Q1918.38 1517.37 1916.69 1518.87 Q1915.02 1520.38 1915.02 1523.06 Z\" fill=\"#000000\" fill-rule=\"evenodd\" fill-opacity=\"1\" /><path clip-path=\"url(#clip780)\" d=\"M1951.58 1517.37 Q1947.96 1517.37 1946.14 1520.93 Q1944.33 1524.47 1944.33 1531.6 Q1944.33 1538.71 1946.14 1542.27 Q1947.96 1545.82 1951.58 1545.82 Q1955.21 1545.82 1957.02 1542.27 Q1958.84 1538.71 1958.84 1531.6 Q1958.84 1524.47 1957.02 1520.93 Q1955.21 1517.37 1951.58 1517.37 M1951.58 1513.66 Q1957.39 1513.66 1960.44 1518.27 Q1963.52 1522.85 1963.52 1531.6 Q1963.52 1540.33 1960.44 1544.94 Q1957.39 1549.52 1951.58 1549.52 Q1945.77 1549.52 1942.69 1544.94 Q1939.63 1540.33 1939.63 1531.6 Q1939.63 1522.85 1942.69 1518.27 Q1945.77 1513.66 1951.58 1513.66 Z\" fill=\"#000000\" fill-rule=\"evenodd\" fill-opacity=\"1\" /><polyline clip-path=\"url(#clip782)\" style=\"stroke:#000000; stroke-linecap:butt; stroke-linejoin:round; stroke-width:2; stroke-opacity:0.1; fill:none\" points=\"\n",
       "  169.121,1451.21 2352.76,1451.21 \n",
       "  \"/>\n",
       "<polyline clip-path=\"url(#clip782)\" style=\"stroke:#000000; stroke-linecap:butt; stroke-linejoin:round; stroke-width:2; stroke-opacity:0.1; fill:none\" points=\"\n",
       "  169.121,1108 2352.76,1108 \n",
       "  \"/>\n",
       "<polyline clip-path=\"url(#clip782)\" style=\"stroke:#000000; stroke-linecap:butt; stroke-linejoin:round; stroke-width:2; stroke-opacity:0.1; fill:none\" points=\"\n",
       "  169.121,764.787 2352.76,764.787 \n",
       "  \"/>\n",
       "<polyline clip-path=\"url(#clip782)\" style=\"stroke:#000000; stroke-linecap:butt; stroke-linejoin:round; stroke-width:2; stroke-opacity:0.1; fill:none\" points=\"\n",
       "  169.121,421.577 2352.76,421.577 \n",
       "  \"/>\n",
       "<polyline clip-path=\"url(#clip782)\" style=\"stroke:#000000; stroke-linecap:butt; stroke-linejoin:round; stroke-width:2; stroke-opacity:0.1; fill:none\" points=\"\n",
       "  169.121,78.3664 2352.76,78.3664 \n",
       "  \"/>\n",
       "<polyline clip-path=\"url(#clip780)\" style=\"stroke:#000000; stroke-linecap:butt; stroke-linejoin:round; stroke-width:4; stroke-opacity:1; fill:none\" points=\"\n",
       "  169.121,1486.45 169.121,47.2441 \n",
       "  \"/>\n",
       "<polyline clip-path=\"url(#clip780)\" style=\"stroke:#000000; stroke-linecap:butt; stroke-linejoin:round; stroke-width:4; stroke-opacity:1; fill:none\" points=\"\n",
       "  169.121,1451.21 188.019,1451.21 \n",
       "  \"/>\n",
       "<polyline clip-path=\"url(#clip780)\" style=\"stroke:#000000; stroke-linecap:butt; stroke-linejoin:round; stroke-width:4; stroke-opacity:1; fill:none\" points=\"\n",
       "  169.121,1108 188.019,1108 \n",
       "  \"/>\n",
       "<polyline clip-path=\"url(#clip780)\" style=\"stroke:#000000; stroke-linecap:butt; stroke-linejoin:round; stroke-width:4; stroke-opacity:1; fill:none\" points=\"\n",
       "  169.121,764.787 188.019,764.787 \n",
       "  \"/>\n",
       "<polyline clip-path=\"url(#clip780)\" style=\"stroke:#000000; stroke-linecap:butt; stroke-linejoin:round; stroke-width:4; stroke-opacity:1; fill:none\" points=\"\n",
       "  169.121,421.577 188.019,421.577 \n",
       "  \"/>\n",
       "<polyline clip-path=\"url(#clip780)\" style=\"stroke:#000000; stroke-linecap:butt; stroke-linejoin:round; stroke-width:4; stroke-opacity:1; fill:none\" points=\"\n",
       "  169.121,78.3664 188.019,78.3664 \n",
       "  \"/>\n",
       "<path clip-path=\"url(#clip780)\" d=\"M121.177 1437.01 Q117.566 1437.01 115.737 1440.57 Q113.932 1444.11 113.932 1451.24 Q113.932 1458.35 115.737 1461.91 Q117.566 1465.45 121.177 1465.45 Q124.811 1465.45 126.617 1461.91 Q128.445 1458.35 128.445 1451.24 Q128.445 1444.11 126.617 1440.57 Q124.811 1437.01 121.177 1437.01 M121.177 1433.3 Q126.987 1433.3 130.043 1437.91 Q133.121 1442.49 133.121 1451.24 Q133.121 1459.97 130.043 1464.58 Q126.987 1469.16 121.177 1469.16 Q115.367 1469.16 112.288 1464.58 Q109.233 1459.97 109.233 1451.24 Q109.233 1442.49 112.288 1437.91 Q115.367 1433.3 121.177 1433.3 Z\" fill=\"#000000\" fill-rule=\"evenodd\" fill-opacity=\"1\" /><path clip-path=\"url(#clip780)\" d=\"M86.0382 1121.34 L102.358 1121.34 L102.358 1125.28 L80.4133 1125.28 L80.4133 1121.34 Q83.0753 1118.59 87.6586 1113.96 Q92.2651 1109.3 93.4456 1107.96 Q95.691 1105.44 96.5706 1103.7 Q97.4734 1101.94 97.4734 1100.25 Q97.4734 1097.5 95.5289 1095.76 Q93.6076 1094.03 90.5058 1094.03 Q88.3067 1094.03 85.8531 1094.79 Q83.4225 1095.55 80.6447 1097.11 L80.6447 1092.38 Q83.4688 1091.25 85.9225 1090.67 Q88.3762 1090.09 90.4132 1090.09 Q95.7836 1090.09 98.978 1092.78 Q102.172 1095.46 102.172 1099.95 Q102.172 1102.08 101.362 1104 Q100.575 1105.9 98.4687 1108.49 Q97.89 1109.17 94.7882 1112.38 Q91.6864 1115.58 86.0382 1121.34 Z\" fill=\"#000000\" fill-rule=\"evenodd\" fill-opacity=\"1\" /><path clip-path=\"url(#clip780)\" d=\"M112.219 1090.72 L130.575 1090.72 L130.575 1094.65 L116.501 1094.65 L116.501 1103.12 Q117.52 1102.78 118.538 1102.61 Q119.557 1102.43 120.575 1102.43 Q126.362 1102.43 129.742 1105.6 Q133.121 1108.77 133.121 1114.19 Q133.121 1119.77 129.649 1122.87 Q126.177 1125.95 119.857 1125.95 Q117.682 1125.95 115.413 1125.58 Q113.168 1125.21 110.76 1124.47 L110.76 1119.77 Q112.844 1120.9 115.066 1121.46 Q117.288 1122.01 119.765 1122.01 Q123.77 1122.01 126.107 1119.91 Q128.445 1117.8 128.445 1114.19 Q128.445 1110.58 126.107 1108.47 Q123.77 1106.36 119.765 1106.36 Q117.89 1106.36 116.015 1106.78 Q114.163 1107.2 112.219 1108.08 L112.219 1090.72 Z\" fill=\"#000000\" fill-rule=\"evenodd\" fill-opacity=\"1\" /><path clip-path=\"url(#clip780)\" d=\"M81.0614 747.507 L99.4178 747.507 L99.4178 751.442 L85.3438 751.442 L85.3438 759.914 Q86.3623 759.567 87.3808 759.405 Q88.3993 759.22 89.4178 759.22 Q95.2049 759.22 98.5845 762.391 Q101.964 765.562 101.964 770.979 Q101.964 776.557 98.4919 779.659 Q95.0197 782.738 88.7003 782.738 Q86.5243 782.738 84.2558 782.368 Q82.0105 781.997 79.6031 781.257 L79.6031 776.557 Q81.6864 777.692 83.9086 778.247 Q86.1308 778.803 88.6077 778.803 Q92.6123 778.803 94.9502 776.696 Q97.2882 774.59 97.2882 770.979 Q97.2882 767.368 94.9502 765.261 Q92.6123 763.155 88.6077 763.155 Q86.7327 763.155 84.8577 763.571 Q83.0058 763.988 81.0614 764.868 L81.0614 747.507 Z\" fill=\"#000000\" fill-rule=\"evenodd\" fill-opacity=\"1\" /><path clip-path=\"url(#clip780)\" d=\"M121.177 750.585 Q117.566 750.585 115.737 754.15 Q113.932 757.692 113.932 764.821 Q113.932 771.928 115.737 775.493 Q117.566 779.034 121.177 779.034 Q124.811 779.034 126.617 775.493 Q128.445 771.928 128.445 764.821 Q128.445 757.692 126.617 754.15 Q124.811 750.585 121.177 750.585 M121.177 746.882 Q126.987 746.882 130.043 751.488 Q133.121 756.071 133.121 764.821 Q133.121 773.548 130.043 778.155 Q126.987 782.738 121.177 782.738 Q115.367 782.738 112.288 778.155 Q109.233 773.548 109.233 764.821 Q109.233 756.071 112.288 751.488 Q115.367 746.882 121.177 746.882 Z\" fill=\"#000000\" fill-rule=\"evenodd\" fill-opacity=\"1\" /><path clip-path=\"url(#clip780)\" d=\"M80.8299 404.297 L103.052 404.297 L103.052 406.287 L90.5058 438.857 L85.6216 438.857 L97.4271 408.232 L80.8299 408.232 L80.8299 404.297 Z\" fill=\"#000000\" fill-rule=\"evenodd\" fill-opacity=\"1\" /><path clip-path=\"url(#clip780)\" d=\"M112.219 404.297 L130.575 404.297 L130.575 408.232 L116.501 408.232 L116.501 416.704 Q117.52 416.357 118.538 416.195 Q119.557 416.009 120.575 416.009 Q126.362 416.009 129.742 419.181 Q133.121 422.352 133.121 427.769 Q133.121 433.347 129.649 436.449 Q126.177 439.528 119.857 439.528 Q117.682 439.528 115.413 439.157 Q113.168 438.787 110.76 438.046 L110.76 433.347 Q112.844 434.482 115.066 435.037 Q117.288 435.593 119.765 435.593 Q123.77 435.593 126.107 433.486 Q128.445 431.38 128.445 427.769 Q128.445 424.158 126.107 422.051 Q123.77 419.945 119.765 419.945 Q117.89 419.945 116.015 420.361 Q114.163 420.778 112.219 421.658 L112.219 404.297 Z\" fill=\"#000000\" fill-rule=\"evenodd\" fill-opacity=\"1\" /><path clip-path=\"url(#clip780)\" d=\"M51.6634 91.7112 L59.3023 91.7112 L59.3023 65.3456 L50.9921 67.0123 L50.9921 62.7531 L59.256 61.0864 L63.9319 61.0864 L63.9319 91.7112 L71.5707 91.7112 L71.5707 95.6464 L51.6634 95.6464 L51.6634 91.7112 Z\" fill=\"#000000\" fill-rule=\"evenodd\" fill-opacity=\"1\" /><path clip-path=\"url(#clip780)\" d=\"M91.0151 64.1651 Q87.404 64.1651 85.5753 67.7299 Q83.7697 71.2715 83.7697 78.4011 Q83.7697 85.5076 85.5753 89.0724 Q87.404 92.614 91.0151 92.614 Q94.6493 92.614 96.4548 89.0724 Q98.2835 85.5076 98.2835 78.4011 Q98.2835 71.2715 96.4548 67.7299 Q94.6493 64.1651 91.0151 64.1651 M91.0151 60.4614 Q96.8252 60.4614 99.8808 65.0679 Q102.959 69.6512 102.959 78.4011 Q102.959 87.1279 99.8808 91.7344 Q96.8252 96.3177 91.0151 96.3177 Q85.2049 96.3177 82.1262 91.7344 Q79.0707 87.1279 79.0707 78.4011 Q79.0707 69.6512 82.1262 65.0679 Q85.2049 60.4614 91.0151 60.4614 Z\" fill=\"#000000\" fill-rule=\"evenodd\" fill-opacity=\"1\" /><path clip-path=\"url(#clip780)\" d=\"M121.177 64.1651 Q117.566 64.1651 115.737 67.7299 Q113.932 71.2715 113.932 78.4011 Q113.932 85.5076 115.737 89.0724 Q117.566 92.614 121.177 92.614 Q124.811 92.614 126.617 89.0724 Q128.445 85.5076 128.445 78.4011 Q128.445 71.2715 126.617 67.7299 Q124.811 64.1651 121.177 64.1651 M121.177 60.4614 Q126.987 60.4614 130.043 65.0679 Q133.121 69.6512 133.121 78.4011 Q133.121 87.1279 130.043 91.7344 Q126.987 96.3177 121.177 96.3177 Q115.367 96.3177 112.288 91.7344 Q109.233 87.1279 109.233 78.4011 Q109.233 69.6512 112.288 65.0679 Q115.367 60.4614 121.177 60.4614 Z\" fill=\"#000000\" fill-rule=\"evenodd\" fill-opacity=\"1\" /><circle clip-path=\"url(#clip782)\" cx=\"1914.39\" cy=\"1176.64\" r=\"21.6\" fill=\"#009af9\" fill-rule=\"evenodd\" fill-opacity=\"1\" stroke=\"#000000\" stroke-opacity=\"1\" stroke-width=\"3.2\"/>\n",
       "<circle clip-path=\"url(#clip782)\" cx=\"882.158\" cy=\"983.068\" r=\"21.6\" fill=\"#009af9\" fill-rule=\"evenodd\" fill-opacity=\"1\" stroke=\"#000000\" stroke-opacity=\"1\" stroke-width=\"3.2\"/>\n",
       "<circle clip-path=\"url(#clip782)\" cx=\"2014.07\" cy=\"222.515\" r=\"21.6\" fill=\"#009af9\" fill-rule=\"evenodd\" fill-opacity=\"1\" stroke=\"#000000\" stroke-opacity=\"1\" stroke-width=\"3.2\"/>\n",
       "<circle clip-path=\"url(#clip782)\" cx=\"984.053\" cy=\"1046.22\" r=\"21.6\" fill=\"#009af9\" fill-rule=\"evenodd\" fill-opacity=\"1\" stroke=\"#000000\" stroke-opacity=\"1\" stroke-width=\"3.2\"/>\n",
       "<circle clip-path=\"url(#clip782)\" cx=\"1739.4\" cy=\"469.626\" r=\"21.6\" fill=\"#009af9\" fill-rule=\"evenodd\" fill-opacity=\"1\" stroke=\"#000000\" stroke-opacity=\"1\" stroke-width=\"3.2\"/>\n",
       "<circle clip-path=\"url(#clip782)\" cx=\"594.197\" cy=\"214.278\" r=\"21.6\" fill=\"#009af9\" fill-rule=\"evenodd\" fill-opacity=\"1\" stroke=\"#000000\" stroke-opacity=\"1\" stroke-width=\"3.2\"/>\n",
       "<circle clip-path=\"url(#clip782)\" cx=\"2056.16\" cy=\"627.503\" r=\"21.6\" fill=\"#009af9\" fill-rule=\"evenodd\" fill-opacity=\"1\" stroke=\"#000000\" stroke-opacity=\"1\" stroke-width=\"3.2\"/>\n",
       "<circle clip-path=\"url(#clip782)\" cx=\"2290.95\" cy=\"98.959\" r=\"21.6\" fill=\"#009af9\" fill-rule=\"evenodd\" fill-opacity=\"1\" stroke=\"#000000\" stroke-opacity=\"1\" stroke-width=\"3.2\"/>\n",
       "<circle clip-path=\"url(#clip782)\" cx=\"1861.23\" cy=\"357.053\" r=\"21.6\" fill=\"#009af9\" fill-rule=\"evenodd\" fill-opacity=\"1\" stroke=\"#000000\" stroke-opacity=\"1\" stroke-width=\"3.2\"/>\n",
       "<circle clip-path=\"url(#clip782)\" cx=\"2011.85\" cy=\"591.809\" r=\"21.6\" fill=\"#009af9\" fill-rule=\"evenodd\" fill-opacity=\"1\" stroke=\"#000000\" stroke-opacity=\"1\" stroke-width=\"3.2\"/>\n",
       "<circle clip-path=\"url(#clip782)\" cx=\"926.46\" cy=\"560.233\" r=\"21.6\" fill=\"#009af9\" fill-rule=\"evenodd\" fill-opacity=\"1\" stroke=\"#000000\" stroke-opacity=\"1\" stroke-width=\"3.2\"/>\n",
       "<circle clip-path=\"url(#clip782)\" cx=\"1345.11\" cy=\"200.549\" r=\"21.6\" fill=\"#009af9\" fill-rule=\"evenodd\" fill-opacity=\"1\" stroke=\"#000000\" stroke-opacity=\"1\" stroke-width=\"3.2\"/>\n",
       "<circle clip-path=\"url(#clip782)\" cx=\"1185.63\" cy=\"1092.9\" r=\"21.6\" fill=\"#009af9\" fill-rule=\"evenodd\" fill-opacity=\"1\" stroke=\"#000000\" stroke-opacity=\"1\" stroke-width=\"3.2\"/>\n",
       "<circle clip-path=\"url(#clip782)\" cx=\"2133.68\" cy=\"1017.39\" r=\"21.6\" fill=\"#009af9\" fill-rule=\"evenodd\" fill-opacity=\"1\" stroke=\"#000000\" stroke-opacity=\"1\" stroke-width=\"3.2\"/>\n",
       "<circle clip-path=\"url(#clip782)\" cx=\"1526.75\" cy=\"1405.9\" r=\"21.6\" fill=\"#009af9\" fill-rule=\"evenodd\" fill-opacity=\"1\" stroke=\"#000000\" stroke-opacity=\"1\" stroke-width=\"3.2\"/>\n",
       "<circle clip-path=\"url(#clip782)\" cx=\"802.415\" cy=\"167.601\" r=\"21.6\" fill=\"#009af9\" fill-rule=\"evenodd\" fill-opacity=\"1\" stroke=\"#000000\" stroke-opacity=\"1\" stroke-width=\"3.2\"/>\n",
       "<circle clip-path=\"url(#clip782)\" cx=\"1360.62\" cy=\"1381.19\" r=\"21.6\" fill=\"#009af9\" fill-rule=\"evenodd\" fill-opacity=\"1\" stroke=\"#000000\" stroke-opacity=\"1\" stroke-width=\"3.2\"/>\n",
       "<circle clip-path=\"url(#clip782)\" cx=\"2084.95\" cy=\"1254.89\" r=\"21.6\" fill=\"#009af9\" fill-rule=\"evenodd\" fill-opacity=\"1\" stroke=\"#000000\" stroke-opacity=\"1\" stroke-width=\"3.2\"/>\n",
       "<circle clip-path=\"url(#clip782)\" cx=\"2204.57\" cy=\"757.923\" r=\"21.6\" fill=\"#009af9\" fill-rule=\"evenodd\" fill-opacity=\"1\" stroke=\"#000000\" stroke-opacity=\"1\" stroke-width=\"3.2\"/>\n",
       "<circle clip-path=\"url(#clip782)\" cx=\"1586.56\" cy=\"269.191\" r=\"21.6\" fill=\"#009af9\" fill-rule=\"evenodd\" fill-opacity=\"1\" stroke=\"#000000\" stroke-opacity=\"1\" stroke-width=\"3.2\"/>\n",
       "<circle clip-path=\"url(#clip782)\" cx=\"326.171\" cy=\"1278.23\" r=\"21.6\" fill=\"#009af9\" fill-rule=\"evenodd\" fill-opacity=\"1\" stroke=\"#000000\" stroke-opacity=\"1\" stroke-width=\"3.2\"/>\n",
       "<circle clip-path=\"url(#clip782)\" cx=\"1092.59\" cy=\"1304.31\" r=\"21.6\" fill=\"#009af9\" fill-rule=\"evenodd\" fill-opacity=\"1\" stroke=\"#000000\" stroke-opacity=\"1\" stroke-width=\"3.2\"/>\n",
       "<circle clip-path=\"url(#clip782)\" cx=\"693.876\" cy=\"416.085\" r=\"21.6\" fill=\"#009af9\" fill-rule=\"evenodd\" fill-opacity=\"1\" stroke=\"#000000\" stroke-opacity=\"1\" stroke-width=\"3.2\"/>\n",
       "<circle clip-path=\"url(#clip782)\" cx=\"2096.03\" cy=\"1142.32\" r=\"21.6\" fill=\"#009af9\" fill-rule=\"evenodd\" fill-opacity=\"1\" stroke=\"#000000\" stroke-opacity=\"1\" stroke-width=\"3.2\"/>\n",
       "<circle clip-path=\"url(#clip782)\" cx=\"1664.08\" cy=\"284.292\" r=\"21.6\" fill=\"#009af9\" fill-rule=\"evenodd\" fill-opacity=\"1\" stroke=\"#000000\" stroke-opacity=\"1\" stroke-width=\"3.2\"/>\n",
       "<circle clip-path=\"url(#clip782)\" cx=\"809.06\" cy=\"1123.1\" r=\"21.6\" fill=\"#009af9\" fill-rule=\"evenodd\" fill-opacity=\"1\" stroke=\"#000000\" stroke-opacity=\"1\" stroke-width=\"3.2\"/>\n",
       "<circle clip-path=\"url(#clip782)\" cx=\"2202.35\" cy=\"1010.53\" r=\"21.6\" fill=\"#009af9\" fill-rule=\"evenodd\" fill-opacity=\"1\" stroke=\"#000000\" stroke-opacity=\"1\" stroke-width=\"3.2\"/>\n",
       "<circle clip-path=\"url(#clip782)\" cx=\"2266.59\" cy=\"1412.77\" r=\"21.6\" fill=\"#009af9\" fill-rule=\"evenodd\" fill-opacity=\"1\" stroke=\"#000000\" stroke-opacity=\"1\" stroke-width=\"3.2\"/>\n",
       "<circle clip-path=\"url(#clip782)\" cx=\"479.012\" cy=\"470.999\" r=\"21.6\" fill=\"#009af9\" fill-rule=\"evenodd\" fill-opacity=\"1\" stroke=\"#000000\" stroke-opacity=\"1\" stroke-width=\"3.2\"/>\n",
       "<circle clip-path=\"url(#clip782)\" cx=\"680.585\" cy=\"357.053\" r=\"21.6\" fill=\"#009af9\" fill-rule=\"evenodd\" fill-opacity=\"1\" stroke=\"#000000\" stroke-opacity=\"1\" stroke-width=\"3.2\"/>\n",
       "<circle clip-path=\"url(#clip782)\" cx=\"1604.28\" cy=\"1088.78\" r=\"21.6\" fill=\"#009af9\" fill-rule=\"evenodd\" fill-opacity=\"1\" stroke=\"#000000\" stroke-opacity=\"1\" stroke-width=\"3.2\"/>\n",
       "<circle clip-path=\"url(#clip782)\" cx=\"2122.61\" cy=\"921.291\" r=\"21.6\" fill=\"#009af9\" fill-rule=\"evenodd\" fill-opacity=\"1\" stroke=\"#000000\" stroke-opacity=\"1\" stroke-width=\"3.2\"/>\n",
       "<circle clip-path=\"url(#clip782)\" cx=\"587.552\" cy=\"157.991\" r=\"21.6\" fill=\"#009af9\" fill-rule=\"evenodd\" fill-opacity=\"1\" stroke=\"#000000\" stroke-opacity=\"1\" stroke-width=\"3.2\"/>\n",
       "<circle clip-path=\"url(#clip782)\" cx=\"1493.52\" cy=\"735.957\" r=\"21.6\" fill=\"#009af9\" fill-rule=\"evenodd\" fill-opacity=\"1\" stroke=\"#000000\" stroke-opacity=\"1\" stroke-width=\"3.2\"/>\n",
       "<circle clip-path=\"url(#clip782)\" cx=\"1808.07\" cy=\"352.935\" r=\"21.6\" fill=\"#009af9\" fill-rule=\"evenodd\" fill-opacity=\"1\" stroke=\"#000000\" stroke-opacity=\"1\" stroke-width=\"3.2\"/>\n",
       "<circle clip-path=\"url(#clip782)\" cx=\"2166.91\" cy=\"1127.22\" r=\"21.6\" fill=\"#009af9\" fill-rule=\"evenodd\" fill-opacity=\"1\" stroke=\"#000000\" stroke-opacity=\"1\" stroke-width=\"3.2\"/>\n",
       "<circle clip-path=\"url(#clip782)\" cx=\"1790.34\" cy=\"895.207\" r=\"21.6\" fill=\"#009af9\" fill-rule=\"evenodd\" fill-opacity=\"1\" stroke=\"#000000\" stroke-opacity=\"1\" stroke-width=\"3.2\"/>\n",
       "<circle clip-path=\"url(#clip782)\" cx=\"1152.4\" cy=\"87.9763\" r=\"21.6\" fill=\"#009af9\" fill-rule=\"evenodd\" fill-opacity=\"1\" stroke=\"#000000\" stroke-opacity=\"1\" stroke-width=\"3.2\"/>\n",
       "<circle clip-path=\"url(#clip782)\" cx=\"589.767\" cy=\"1361.97\" r=\"21.6\" fill=\"#009af9\" fill-rule=\"evenodd\" fill-opacity=\"1\" stroke=\"#000000\" stroke-opacity=\"1\" stroke-width=\"3.2\"/>\n",
       "<circle clip-path=\"url(#clip782)\" cx=\"1125.82\" cy=\"1250.77\" r=\"21.6\" fill=\"#009af9\" fill-rule=\"evenodd\" fill-opacity=\"1\" stroke=\"#000000\" stroke-opacity=\"1\" stroke-width=\"3.2\"/>\n",
       "<circle clip-path=\"url(#clip782)\" cx=\"279.654\" cy=\"398.238\" r=\"21.6\" fill=\"#009af9\" fill-rule=\"evenodd\" fill-opacity=\"1\" stroke=\"#000000\" stroke-opacity=\"1\" stroke-width=\"3.2\"/>\n",
       "<circle clip-path=\"url(#clip782)\" cx=\"1881.16\" cy=\"225.26\" r=\"21.6\" fill=\"#009af9\" fill-rule=\"evenodd\" fill-opacity=\"1\" stroke=\"#000000\" stroke-opacity=\"1\" stroke-width=\"3.2\"/>\n",
       "<circle clip-path=\"url(#clip782)\" cx=\"656.219\" cy=\"1393.55\" r=\"21.6\" fill=\"#009af9\" fill-rule=\"evenodd\" fill-opacity=\"1\" stroke=\"#000000\" stroke-opacity=\"1\" stroke-width=\"3.2\"/>\n",
       "<circle clip-path=\"url(#clip782)\" cx=\"459.076\" cy=\"892.461\" r=\"21.6\" fill=\"#009af9\" fill-rule=\"evenodd\" fill-opacity=\"1\" stroke=\"#000000\" stroke-opacity=\"1\" stroke-width=\"3.2\"/>\n",
       "<circle clip-path=\"url(#clip782)\" cx=\"2011.85\" cy=\"1035.24\" r=\"21.6\" fill=\"#009af9\" fill-rule=\"evenodd\" fill-opacity=\"1\" stroke=\"#000000\" stroke-opacity=\"1\" stroke-width=\"3.2\"/>\n",
       "<circle clip-path=\"url(#clip782)\" cx=\"1495.74\" cy=\"1445.72\" r=\"21.6\" fill=\"#009af9\" fill-rule=\"evenodd\" fill-opacity=\"1\" stroke=\"#000000\" stroke-opacity=\"1\" stroke-width=\"3.2\"/>\n",
       "<circle clip-path=\"url(#clip782)\" cx=\"1097.02\" cy=\"1289.21\" r=\"21.6\" fill=\"#009af9\" fill-rule=\"evenodd\" fill-opacity=\"1\" stroke=\"#000000\" stroke-opacity=\"1\" stroke-width=\"3.2\"/>\n",
       "<circle clip-path=\"url(#clip782)\" cx=\"230.922\" cy=\"1249.4\" r=\"21.6\" fill=\"#009af9\" fill-rule=\"evenodd\" fill-opacity=\"1\" stroke=\"#000000\" stroke-opacity=\"1\" stroke-width=\"3.2\"/>\n",
       "<circle clip-path=\"url(#clip782)\" cx=\"735.963\" cy=\"1271.36\" r=\"21.6\" fill=\"#009af9\" fill-rule=\"evenodd\" fill-opacity=\"1\" stroke=\"#000000\" stroke-opacity=\"1\" stroke-width=\"3.2\"/>\n",
       "<circle clip-path=\"url(#clip782)\" cx=\"2184.63\" cy=\"292.53\" r=\"21.6\" fill=\"#009af9\" fill-rule=\"evenodd\" fill-opacity=\"1\" stroke=\"#000000\" stroke-opacity=\"1\" stroke-width=\"3.2\"/>\n",
       "<polyline clip-path=\"url(#clip782)\" style=\"stroke:#e26f46; stroke-linecap:butt; stroke-linejoin:round; stroke-width:4; stroke-opacity:1; fill:none\" points=\"\n",
       "  1914.39,1176.64 2084.95,1254.89 \n",
       "  \"/>\n",
       "<polyline clip-path=\"url(#clip782)\" style=\"stroke:#3da44d; stroke-linecap:butt; stroke-linejoin:round; stroke-width:4; stroke-opacity:1; fill:none\" points=\"\n",
       "  882.158,983.068 984.053,1046.22 \n",
       "  \"/>\n",
       "<polyline clip-path=\"url(#clip782)\" style=\"stroke:#c271d2; stroke-linecap:butt; stroke-linejoin:round; stroke-width:4; stroke-opacity:1; fill:none\" points=\"\n",
       "  2014.07,222.515 2290.95,98.959 \n",
       "  \"/>\n",
       "<polyline clip-path=\"url(#clip782)\" style=\"stroke:#ac8d18; stroke-linecap:butt; stroke-linejoin:round; stroke-width:4; stroke-opacity:1; fill:none\" points=\"\n",
       "  984.053,1046.22 1185.63,1092.9 \n",
       "  \"/>\n",
       "<polyline clip-path=\"url(#clip782)\" style=\"stroke:#00a9ad; stroke-linecap:butt; stroke-linejoin:round; stroke-width:4; stroke-opacity:1; fill:none\" points=\"\n",
       "  1739.4,469.626 2011.85,591.809 \n",
       "  \"/>\n",
       "<polyline clip-path=\"url(#clip782)\" style=\"stroke:#ed5d92; stroke-linecap:butt; stroke-linejoin:round; stroke-width:4; stroke-opacity:1; fill:none\" points=\"\n",
       "  594.197,214.278 587.552,157.991 \n",
       "  \"/>\n",
       "<polyline clip-path=\"url(#clip782)\" style=\"stroke:#c68125; stroke-linecap:butt; stroke-linejoin:round; stroke-width:4; stroke-opacity:1; fill:none\" points=\"\n",
       "  2056.16,627.503 2204.57,757.923 \n",
       "  \"/>\n",
       "<polyline clip-path=\"url(#clip782)\" style=\"stroke:#00a98d; stroke-linecap:butt; stroke-linejoin:round; stroke-width:4; stroke-opacity:1; fill:none\" points=\"\n",
       "  2290.95,98.959 2184.63,292.53 \n",
       "  \"/>\n",
       "<polyline clip-path=\"url(#clip782)\" style=\"stroke:#8e971d; stroke-linecap:butt; stroke-linejoin:round; stroke-width:4; stroke-opacity:1; fill:none\" points=\"\n",
       "  1861.23,357.053 1808.07,352.935 \n",
       "  \"/>\n",
       "<polyline clip-path=\"url(#clip782)\" style=\"stroke:#00a8cb; stroke-linecap:butt; stroke-linejoin:round; stroke-width:4; stroke-opacity:1; fill:none\" points=\"\n",
       "  2011.85,591.809 2056.16,627.503 \n",
       "  \"/>\n",
       "<polyline clip-path=\"url(#clip782)\" style=\"stroke:#9b7fe8; stroke-linecap:butt; stroke-linejoin:round; stroke-width:4; stroke-opacity:1; fill:none\" points=\"\n",
       "  926.46,560.233 693.876,416.085 \n",
       "  \"/>\n",
       "<polyline clip-path=\"url(#clip782)\" style=\"stroke:#608cf6; stroke-linecap:butt; stroke-linejoin:round; stroke-width:4; stroke-opacity:1; fill:none\" points=\"\n",
       "  1345.11,200.549 1586.56,269.191 \n",
       "  \"/>\n",
       "<polyline clip-path=\"url(#clip782)\" style=\"stroke:#f05f73; stroke-linecap:butt; stroke-linejoin:round; stroke-width:4; stroke-opacity:1; fill:none\" points=\"\n",
       "  1185.63,1092.9 1604.28,1088.78 \n",
       "  \"/>\n",
       "<polyline clip-path=\"url(#clip782)\" style=\"stroke:#dd64b5; stroke-linecap:butt; stroke-linejoin:round; stroke-width:4; stroke-opacity:1; fill:none\" points=\"\n",
       "  2133.68,1017.39 2011.85,1035.24 \n",
       "  \"/>\n",
       "<polyline clip-path=\"url(#clip782)\" style=\"stroke:#6b9e32; stroke-linecap:butt; stroke-linejoin:round; stroke-width:4; stroke-opacity:1; fill:none\" points=\"\n",
       "  1526.75,1405.9 1495.74,1445.72 \n",
       "  \"/>\n",
       "<polyline clip-path=\"url(#clip782)\" style=\"stroke:#009af9; stroke-linecap:butt; stroke-linejoin:round; stroke-width:4; stroke-opacity:1; fill:none\" points=\"\n",
       "  802.415,167.601 1152.4,87.9763 \n",
       "  \"/>\n",
       "<polyline clip-path=\"url(#clip782)\" style=\"stroke:#e26f46; stroke-linecap:butt; stroke-linejoin:round; stroke-width:4; stroke-opacity:1; fill:none\" points=\"\n",
       "  1360.62,1381.19 1092.59,1304.31 \n",
       "  \"/>\n",
       "<polyline clip-path=\"url(#clip782)\" style=\"stroke:#3da44d; stroke-linecap:butt; stroke-linejoin:round; stroke-width:4; stroke-opacity:1; fill:none\" points=\"\n",
       "  2084.95,1254.89 2266.59,1412.77 \n",
       "  \"/>\n",
       "<polyline clip-path=\"url(#clip782)\" style=\"stroke:#c271d2; stroke-linecap:butt; stroke-linejoin:round; stroke-width:4; stroke-opacity:1; fill:none\" points=\"\n",
       "  2204.57,757.923 2122.61,921.291 \n",
       "  \"/>\n",
       "<polyline clip-path=\"url(#clip782)\" style=\"stroke:#ac8d18; stroke-linecap:butt; stroke-linejoin:round; stroke-width:4; stroke-opacity:1; fill:none\" points=\"\n",
       "  1586.56,269.191 1664.08,284.292 \n",
       "  \"/>\n",
       "<polyline clip-path=\"url(#clip782)\" style=\"stroke:#00a9ad; stroke-linecap:butt; stroke-linejoin:round; stroke-width:4; stroke-opacity:1; fill:none\" points=\"\n",
       "  326.171,1278.23 230.922,1249.4 \n",
       "  \"/>\n",
       "<polyline clip-path=\"url(#clip782)\" style=\"stroke:#ed5d92; stroke-linecap:butt; stroke-linejoin:round; stroke-width:4; stroke-opacity:1; fill:none\" points=\"\n",
       "  1092.59,1304.31 1097.02,1289.21 \n",
       "  \"/>\n",
       "<polyline clip-path=\"url(#clip782)\" style=\"stroke:#c68125; stroke-linecap:butt; stroke-linejoin:round; stroke-width:4; stroke-opacity:1; fill:none\" points=\"\n",
       "  693.876,416.085 680.585,357.053 \n",
       "  \"/>\n",
       "<polyline clip-path=\"url(#clip782)\" style=\"stroke:#00a98d; stroke-linecap:butt; stroke-linejoin:round; stroke-width:4; stroke-opacity:1; fill:none\" points=\"\n",
       "  2096.03,1142.32 1914.39,1176.64 \n",
       "  \"/>\n",
       "<polyline clip-path=\"url(#clip782)\" style=\"stroke:#8e971d; stroke-linecap:butt; stroke-linejoin:round; stroke-width:4; stroke-opacity:1; fill:none\" points=\"\n",
       "  1664.08,284.292 1881.16,225.26 \n",
       "  \"/>\n",
       "<polyline clip-path=\"url(#clip782)\" style=\"stroke:#00a8cb; stroke-linecap:butt; stroke-linejoin:round; stroke-width:4; stroke-opacity:1; fill:none\" points=\"\n",
       "  809.06,1123.1 735.963,1271.36 \n",
       "  \"/>\n",
       "<polyline clip-path=\"url(#clip782)\" style=\"stroke:#9b7fe8; stroke-linecap:butt; stroke-linejoin:round; stroke-width:4; stroke-opacity:1; fill:none\" points=\"\n",
       "  2202.35,1010.53 2133.68,1017.39 \n",
       "  \"/>\n",
       "<polyline clip-path=\"url(#clip782)\" style=\"stroke:#608cf6; stroke-linecap:butt; stroke-linejoin:round; stroke-width:4; stroke-opacity:1; fill:none\" points=\"\n",
       "  2266.59,1412.77 1526.75,1405.9 \n",
       "  \"/>\n",
       "<polyline clip-path=\"url(#clip782)\" style=\"stroke:#f05f73; stroke-linecap:butt; stroke-linejoin:round; stroke-width:4; stroke-opacity:1; fill:none\" points=\"\n",
       "  479.012,470.999 279.654,398.238 \n",
       "  \"/>\n",
       "<polyline clip-path=\"url(#clip782)\" style=\"stroke:#dd64b5; stroke-linecap:butt; stroke-linejoin:round; stroke-width:4; stroke-opacity:1; fill:none\" points=\"\n",
       "  680.585,357.053 479.012,470.999 \n",
       "  \"/>\n",
       "<polyline clip-path=\"url(#clip782)\" style=\"stroke:#6b9e32; stroke-linecap:butt; stroke-linejoin:round; stroke-width:4; stroke-opacity:1; fill:none\" points=\"\n",
       "  1604.28,1088.78 1790.34,895.207 \n",
       "  \"/>\n",
       "<polyline clip-path=\"url(#clip782)\" style=\"stroke:#009af9; stroke-linecap:butt; stroke-linejoin:round; stroke-width:4; stroke-opacity:1; fill:none\" points=\"\n",
       "  2122.61,921.291 2202.35,1010.53 \n",
       "  \"/>\n",
       "<polyline clip-path=\"url(#clip782)\" style=\"stroke:#e26f46; stroke-linecap:butt; stroke-linejoin:round; stroke-width:4; stroke-opacity:1; fill:none\" points=\"\n",
       "  587.552,157.991 802.415,167.601 \n",
       "  \"/>\n",
       "<polyline clip-path=\"url(#clip782)\" style=\"stroke:#3da44d; stroke-linecap:butt; stroke-linejoin:round; stroke-width:4; stroke-opacity:1; fill:none\" points=\"\n",
       "  1493.52,735.957 926.46,560.233 \n",
       "  \"/>\n",
       "<polyline clip-path=\"url(#clip782)\" style=\"stroke:#c271d2; stroke-linecap:butt; stroke-linejoin:round; stroke-width:4; stroke-opacity:1; fill:none\" points=\"\n",
       "  1808.07,352.935 1739.4,469.626 \n",
       "  \"/>\n",
       "<polyline clip-path=\"url(#clip782)\" style=\"stroke:#ac8d18; stroke-linecap:butt; stroke-linejoin:round; stroke-width:4; stroke-opacity:1; fill:none\" points=\"\n",
       "  2166.91,1127.22 2096.03,1142.32 \n",
       "  \"/>\n",
       "<polyline clip-path=\"url(#clip782)\" style=\"stroke:#00a9ad; stroke-linecap:butt; stroke-linejoin:round; stroke-width:4; stroke-opacity:1; fill:none\" points=\"\n",
       "  1790.34,895.207 1493.52,735.957 \n",
       "  \"/>\n",
       "<polyline clip-path=\"url(#clip782)\" style=\"stroke:#ed5d92; stroke-linecap:butt; stroke-linejoin:round; stroke-width:4; stroke-opacity:1; fill:none\" points=\"\n",
       "  1152.4,87.9763 1345.11,200.549 \n",
       "  \"/>\n",
       "<polyline clip-path=\"url(#clip782)\" style=\"stroke:#c68125; stroke-linecap:butt; stroke-linejoin:round; stroke-width:4; stroke-opacity:1; fill:none\" points=\"\n",
       "  589.767,1361.97 326.171,1278.23 \n",
       "  \"/>\n",
       "<polyline clip-path=\"url(#clip782)\" style=\"stroke:#00a98d; stroke-linecap:butt; stroke-linejoin:round; stroke-width:4; stroke-opacity:1; fill:none\" points=\"\n",
       "  1125.82,1250.77 809.06,1123.1 \n",
       "  \"/>\n",
       "<polyline clip-path=\"url(#clip782)\" style=\"stroke:#8e971d; stroke-linecap:butt; stroke-linejoin:round; stroke-width:4; stroke-opacity:1; fill:none\" points=\"\n",
       "  279.654,398.238 594.197,214.278 \n",
       "  \"/>\n",
       "<polyline clip-path=\"url(#clip782)\" style=\"stroke:#00a8cb; stroke-linecap:butt; stroke-linejoin:round; stroke-width:4; stroke-opacity:1; fill:none\" points=\"\n",
       "  1881.16,225.26 2014.07,222.515 \n",
       "  \"/>\n",
       "<polyline clip-path=\"url(#clip782)\" style=\"stroke:#9b7fe8; stroke-linecap:butt; stroke-linejoin:round; stroke-width:4; stroke-opacity:1; fill:none\" points=\"\n",
       "  656.219,1393.55 589.767,1361.97 \n",
       "  \"/>\n",
       "<polyline clip-path=\"url(#clip782)\" style=\"stroke:#608cf6; stroke-linecap:butt; stroke-linejoin:round; stroke-width:4; stroke-opacity:1; fill:none\" points=\"\n",
       "  459.076,892.461 882.158,983.068 \n",
       "  \"/>\n",
       "<polyline clip-path=\"url(#clip782)\" style=\"stroke:#f05f73; stroke-linecap:butt; stroke-linejoin:round; stroke-width:4; stroke-opacity:1; fill:none\" points=\"\n",
       "  2011.85,1035.24 2166.91,1127.22 \n",
       "  \"/>\n",
       "<polyline clip-path=\"url(#clip782)\" style=\"stroke:#dd64b5; stroke-linecap:butt; stroke-linejoin:round; stroke-width:4; stroke-opacity:1; fill:none\" points=\"\n",
       "  1495.74,1445.72 1360.62,1381.19 \n",
       "  \"/>\n",
       "<polyline clip-path=\"url(#clip782)\" style=\"stroke:#6b9e32; stroke-linecap:butt; stroke-linejoin:round; stroke-width:4; stroke-opacity:1; fill:none\" points=\"\n",
       "  1097.02,1289.21 1125.82,1250.77 \n",
       "  \"/>\n",
       "<polyline clip-path=\"url(#clip782)\" style=\"stroke:#009af9; stroke-linecap:butt; stroke-linejoin:round; stroke-width:4; stroke-opacity:1; fill:none\" points=\"\n",
       "  230.922,1249.4 459.076,892.461 \n",
       "  \"/>\n",
       "<polyline clip-path=\"url(#clip782)\" style=\"stroke:#e26f46; stroke-linecap:butt; stroke-linejoin:round; stroke-width:4; stroke-opacity:1; fill:none\" points=\"\n",
       "  735.963,1271.36 656.219,1393.55 \n",
       "  \"/>\n",
       "<polyline clip-path=\"url(#clip782)\" style=\"stroke:#3da44d; stroke-linecap:butt; stroke-linejoin:round; stroke-width:4; stroke-opacity:1; fill:none\" points=\"\n",
       "  2184.63,292.53 1861.23,357.053 \n",
       "  \"/>\n",
       "</svg>\n"
      ]
     },
     "execution_count": 78,
     "metadata": {},
     "output_type": "execute_result"
    }
   ],
   "source": [
    "using JuMP\n",
    "import GLPK\n",
    "import Gurobi\n",
    "import HiGHS\n",
    "import EAGO\n",
    "using BenchmarkTools\n",
    "using Plots\n",
    "\n",
    "function has_sub_tours(m, routes)\n",
    "    x_val = JuMP.value.(routes)\n",
    "    x_val = round.(x_val)\n",
    "    x_val = Int64.(x_val)\n",
    "    cycle = shortest_subtour(x_val)\n",
    "    if length(cycle) <= 1\n",
    "        return false\n",
    "    end\n",
    "    indices_to_ban = [(i, j) for (i, j) in Iterators.product(cycle, cycle) if i != j]\n",
    "    @constraint(m, sum(routes[i, j] for (i,j) in indices_to_ban) <= length(cycle) -1 )\n",
    "    return true\n",
    "end\n",
    "\n",
    "function display_solution(problem, route)\n",
    "    x_pos = [c.x for c in problem.deliveries]\n",
    "    y_pos = [c.y for c in problem.deliveries]\n",
    "    plot_result = scatter(x_pos, y_pos, shape = :circle, markersize = 6)\n",
    "    for i in 1:length(problem.deliveries)\n",
    "        for j in 1:length(problem.deliveries)\n",
    "            val = route[i, j]\n",
    "            if val > 0\n",
    "                del1 = problem.deliveries[i]\n",
    "                del2 = problem.deliveries[j]\n",
    "                plot!([del1.x, del2.x], [del1.y, del2.y], legend = false)\n",
    "            end\n",
    "        end\n",
    "    end\n",
    "    return plot_result\n",
    "end;\n",
    "\n",
    "function solve_tsp(deliveries::Int64, solver, show_viz=false)\n",
    "    problem=random_instance(deliveries)\n",
    "    travelmatrix = calc_travelmatrix(problem.deliveries)\n",
    "    model = Model(solver)\n",
    "    set_silent(model)\n",
    "    # route is an adjence matrix representing a route traveled\n",
    "    route=@variable(model, route[1:length(problem.deliveries), 1:length(problem.deliveries)], Bin)\n",
    "\n",
    "    # ensure all events are planned\n",
    "    @constraint(model, [i = 1:length(problem.deliveries)], sum(route[i, :]) == 1.0)\n",
    "    @constraint(model, [c = 1:length(problem.deliveries)], sum(route[:, c]) == 1.0)\n",
    "    # disallow traveling to itself\n",
    "    @constraint(model, [j = 1:length(problem.deliveries)], route[j, j] == 0)\n",
    "\n",
    "    traveltime = travelmatrix.* route \n",
    "    @objective(model, Min, sum(traveltime))\n",
    "#     set_time_limit_sec(model, 60.0)\n",
    "    optimize!(model)\n",
    "    route_val = JuMP.value.(route)\n",
    "    while has_sub_tours(model, route)\n",
    "        optimize!(model)\n",
    "        route_val = JuMP.value.(route)\n",
    "    end\n",
    "    if show_viz\n",
    "        return display_solution(problem, route_val)\n",
    "    end\n",
    "end\n",
    "\n",
    "@time solve_tsp(50, GLPK.Optimizer, true)\n"
   ]
  },
  {
   "cell_type": "code",
   "execution_count": 63,
   "id": "1f14c480",
   "metadata": {},
   "outputs": [
    {
     "data": {
      "text/plain": [
       "BenchmarkTools.Trial: 20 samples with 3 evaluations.\n",
       " Range \u001b[90m(\u001b[39m\u001b[36m\u001b[1mmin\u001b[22m\u001b[39m … \u001b[35mmax\u001b[39m\u001b[90m):  \u001b[39m\u001b[36m\u001b[1m1.461 s\u001b[22m\u001b[39m … \u001b[35m7.301 s\u001b[39m  \u001b[90m┊\u001b[39m GC \u001b[90m(\u001b[39mmin … max\u001b[90m): \u001b[39m0.29% … 0.06%\n",
       " Time  \u001b[90m(\u001b[39m\u001b[34m\u001b[1mmedian\u001b[22m\u001b[39m\u001b[90m):     \u001b[39m\u001b[34m\u001b[1m2.144 s            \u001b[22m\u001b[39m\u001b[90m┊\u001b[39m GC \u001b[90m(\u001b[39mmedian\u001b[90m):    \u001b[39m0.19%\n",
       " Time  \u001b[90m(\u001b[39m\u001b[32m\u001b[1mmean\u001b[22m\u001b[39m ± \u001b[32mσ\u001b[39m\u001b[90m):   \u001b[39m\u001b[32m\u001b[1m2.759 s\u001b[22m\u001b[39m ± \u001b[32m1.606 s\u001b[39m  \u001b[90m┊\u001b[39m GC \u001b[90m(\u001b[39mmean ± σ\u001b[90m):  \u001b[39m0.14% ± 0.08%\n",
       "\n",
       "  \u001b[39m█\u001b[39m▁\u001b[39m▁\u001b[39m \u001b[39m \u001b[34m \u001b[39m\u001b[39m \u001b[39m \u001b[39m \u001b[39m \u001b[39m \u001b[39m \u001b[32m \u001b[39m\u001b[39m▁\u001b[39m \u001b[39m \u001b[39m \u001b[39m \u001b[39m \u001b[39m \u001b[39m \u001b[39m \u001b[39m \u001b[39m \u001b[39m \u001b[39m \u001b[39m \u001b[39m \u001b[39m \u001b[39m \u001b[39m \u001b[39m \u001b[39m \u001b[39m \u001b[39m \u001b[39m \u001b[39m \u001b[39m \u001b[39m \u001b[39m \u001b[39m \u001b[39m \u001b[39m \u001b[39m \u001b[39m \u001b[39m \u001b[39m \u001b[39m \u001b[39m \u001b[39m \u001b[39m \u001b[39m \u001b[39m \u001b[39m \u001b[39m \u001b[39m \u001b[39m \n",
       "  \u001b[39m█\u001b[39m█\u001b[39m█\u001b[39m▆\u001b[39m▆\u001b[34m▁\u001b[39m\u001b[39m▁\u001b[39m▆\u001b[39m▆\u001b[39m▆\u001b[39m▁\u001b[39m▁\u001b[32m▁\u001b[39m\u001b[39m█\u001b[39m▁\u001b[39m▁\u001b[39m▁\u001b[39m▁\u001b[39m▁\u001b[39m▁\u001b[39m▁\u001b[39m▆\u001b[39m▁\u001b[39m▁\u001b[39m▁\u001b[39m▁\u001b[39m▁\u001b[39m▁\u001b[39m▁\u001b[39m▁\u001b[39m▆\u001b[39m▆\u001b[39m▁\u001b[39m▁\u001b[39m▁\u001b[39m▆\u001b[39m▁\u001b[39m▁\u001b[39m▁\u001b[39m▁\u001b[39m▁\u001b[39m▁\u001b[39m▁\u001b[39m▁\u001b[39m▁\u001b[39m▁\u001b[39m▁\u001b[39m▁\u001b[39m▁\u001b[39m▁\u001b[39m▁\u001b[39m▁\u001b[39m▁\u001b[39m▁\u001b[39m▆\u001b[39m \u001b[39m▁\n",
       "  1.46 s\u001b[90m        Histogram: frequency by time\u001b[39m        7.3 s \u001b[0m\u001b[1m<\u001b[22m\n",
       "\n",
       " Memory estimate\u001b[90m: \u001b[39m\u001b[33m45.99 MiB\u001b[39m, allocs estimate\u001b[90m: \u001b[39m\u001b[33m1854208\u001b[39m."
      ]
     },
     "execution_count": 63,
     "metadata": {},
     "output_type": "execute_result"
    }
   ],
   "source": [
    "@benchmark solve_tsp(50, GLPK.Optimizer) evals=3 samples=20 seconds=3600"
   ]
  },
  {
   "cell_type": "code",
   "execution_count": 64,
   "id": "de08ca22",
   "metadata": {},
   "outputs": [
    {
     "data": {
      "text/plain": [
       "BenchmarkTools.Trial: 20 samples with 3 evaluations.\n",
       " Range \u001b[90m(\u001b[39m\u001b[36m\u001b[1mmin\u001b[22m\u001b[39m … \u001b[35mmax\u001b[39m\u001b[90m):  \u001b[39m\u001b[36m\u001b[1m1.498 s\u001b[22m\u001b[39m … \u001b[35m   3.967 s\u001b[39m  \u001b[90m┊\u001b[39m GC \u001b[90m(\u001b[39mmin … max\u001b[90m): \u001b[39m0.16% … 0.06%\n",
       " Time  \u001b[90m(\u001b[39m\u001b[34m\u001b[1mmedian\u001b[22m\u001b[39m\u001b[90m):     \u001b[39m\u001b[34m\u001b[1m2.286 s               \u001b[22m\u001b[39m\u001b[90m┊\u001b[39m GC \u001b[90m(\u001b[39mmedian\u001b[90m):    \u001b[39m0.20%\n",
       " Time  \u001b[90m(\u001b[39m\u001b[32m\u001b[1mmean\u001b[22m\u001b[39m ± \u001b[32mσ\u001b[39m\u001b[90m):   \u001b[39m\u001b[32m\u001b[1m2.407 s\u001b[22m\u001b[39m ± \u001b[32m635.246 ms\u001b[39m  \u001b[90m┊\u001b[39m GC \u001b[90m(\u001b[39mmean ± σ\u001b[90m):  \u001b[39m0.15% ± 0.05%\n",
       "\n",
       "  \u001b[39m \u001b[39m \u001b[39m \u001b[39m \u001b[39m \u001b[39m \u001b[39m \u001b[39m \u001b[39m \u001b[39m \u001b[39m \u001b[39m█\u001b[39m \u001b[34m▃\u001b[39m\u001b[39m \u001b[39m \u001b[39m \u001b[39m \u001b[39m \u001b[39m \u001b[39m \u001b[32m \u001b[39m\u001b[39m \u001b[39m \u001b[39m \u001b[39m \u001b[39m \u001b[39m \u001b[39m▃\u001b[39m \u001b[39m \u001b[39m \u001b[39m \u001b[39m \u001b[39m \u001b[39m \u001b[39m \u001b[39m \u001b[39m \u001b[39m \u001b[39m \u001b[39m \u001b[39m \u001b[39m \u001b[39m \u001b[39m \u001b[39m \u001b[39m \u001b[39m \u001b[39m \u001b[39m \u001b[39m \u001b[39m \u001b[39m \u001b[39m \u001b[39m \u001b[39m \u001b[39m \u001b[39m \u001b[39m \n",
       "  \u001b[39m▇\u001b[39m▇\u001b[39m▁\u001b[39m▁\u001b[39m▁\u001b[39m▁\u001b[39m▁\u001b[39m▇\u001b[39m▁\u001b[39m▇\u001b[39m▇\u001b[39m█\u001b[39m▁\u001b[34m█\u001b[39m\u001b[39m▁\u001b[39m▁\u001b[39m▁\u001b[39m▁\u001b[39m▁\u001b[39m▁\u001b[39m▁\u001b[32m▁\u001b[39m\u001b[39m▁\u001b[39m▇\u001b[39m▇\u001b[39m▇\u001b[39m▁\u001b[39m▁\u001b[39m█\u001b[39m▇\u001b[39m▁\u001b[39m▁\u001b[39m▁\u001b[39m▁\u001b[39m▁\u001b[39m▁\u001b[39m▇\u001b[39m▁\u001b[39m▇\u001b[39m▁\u001b[39m▁\u001b[39m▁\u001b[39m▇\u001b[39m▁\u001b[39m▁\u001b[39m▁\u001b[39m▁\u001b[39m▁\u001b[39m▁\u001b[39m▁\u001b[39m▁\u001b[39m▁\u001b[39m▁\u001b[39m▁\u001b[39m▁\u001b[39m▁\u001b[39m▁\u001b[39m▇\u001b[39m \u001b[39m▁\n",
       "  1.5 s\u001b[90m          Histogram: frequency by time\u001b[39m         3.97 s \u001b[0m\u001b[1m<\u001b[22m\n",
       "\n",
       " Memory estimate\u001b[90m: \u001b[39m\u001b[33m36.19 MiB\u001b[39m, allocs estimate\u001b[90m: \u001b[39m\u001b[33m1504646\u001b[39m."
      ]
     },
     "execution_count": 64,
     "metadata": {},
     "output_type": "execute_result"
    }
   ],
   "source": [
    "@benchmark solve_tsp(50, Gurobi.Optimizer) evals=3 samples=20 seconds=3600"
   ]
  },
  {
   "cell_type": "code",
   "execution_count": 71,
   "id": "bfea8a36",
   "metadata": {},
   "outputs": [
    {
     "data": {
      "text/plain": [
       "BenchmarkTools.Trial: 20 samples with 3 evaluations.\n",
       " Range \u001b[90m(\u001b[39m\u001b[36m\u001b[1mmin\u001b[22m\u001b[39m … \u001b[35mmax\u001b[39m\u001b[90m):  \u001b[39m\u001b[36m\u001b[1m3.672 s\u001b[22m\u001b[39m … \u001b[35m22.751 s\u001b[39m  \u001b[90m┊\u001b[39m GC \u001b[90m(\u001b[39mmin … max\u001b[90m): \u001b[39m0.13% … 0.03%\n",
       " Time  \u001b[90m(\u001b[39m\u001b[34m\u001b[1mmedian\u001b[22m\u001b[39m\u001b[90m):     \u001b[39m\u001b[34m\u001b[1m6.097 s             \u001b[22m\u001b[39m\u001b[90m┊\u001b[39m GC \u001b[90m(\u001b[39mmedian\u001b[90m):    \u001b[39m0.07%\n",
       " Time  \u001b[90m(\u001b[39m\u001b[32m\u001b[1mmean\u001b[22m\u001b[39m ± \u001b[32mσ\u001b[39m\u001b[90m):   \u001b[39m\u001b[32m\u001b[1m6.927 s\u001b[22m\u001b[39m ± \u001b[32m 4.070 s\u001b[39m  \u001b[90m┊\u001b[39m GC \u001b[90m(\u001b[39mmean ± σ\u001b[90m):  \u001b[39m0.06% ± 0.03%\n",
       "\n",
       "  \u001b[39m▁\u001b[39m \u001b[39m█\u001b[39m \u001b[39m \u001b[39m \u001b[39m▁\u001b[34m▄\u001b[39m\u001b[39m \u001b[39m \u001b[32m \u001b[39m\u001b[39m \u001b[39m▄\u001b[39m \u001b[39m \u001b[39m▁\u001b[39m \u001b[39m \u001b[39m \u001b[39m \u001b[39m \u001b[39m \u001b[39m \u001b[39m \u001b[39m \u001b[39m \u001b[39m \u001b[39m \u001b[39m \u001b[39m \u001b[39m \u001b[39m \u001b[39m \u001b[39m \u001b[39m \u001b[39m \u001b[39m \u001b[39m \u001b[39m \u001b[39m \u001b[39m \u001b[39m \u001b[39m \u001b[39m \u001b[39m \u001b[39m \u001b[39m \u001b[39m \u001b[39m \u001b[39m \u001b[39m \u001b[39m \u001b[39m \u001b[39m \u001b[39m \u001b[39m \u001b[39m \u001b[39m \n",
       "  \u001b[39m█\u001b[39m▁\u001b[39m█\u001b[39m▁\u001b[39m▆\u001b[39m▆\u001b[39m█\u001b[34m█\u001b[39m\u001b[39m▁\u001b[39m▁\u001b[32m▆\u001b[39m\u001b[39m▁\u001b[39m█\u001b[39m▁\u001b[39m▁\u001b[39m█\u001b[39m▁\u001b[39m▁\u001b[39m▁\u001b[39m▁\u001b[39m▁\u001b[39m▁\u001b[39m▁\u001b[39m▁\u001b[39m▁\u001b[39m▁\u001b[39m▁\u001b[39m▁\u001b[39m▁\u001b[39m▁\u001b[39m▁\u001b[39m▁\u001b[39m▁\u001b[39m▁\u001b[39m▁\u001b[39m▁\u001b[39m▁\u001b[39m▁\u001b[39m▁\u001b[39m▁\u001b[39m▁\u001b[39m▁\u001b[39m▁\u001b[39m▁\u001b[39m▁\u001b[39m▁\u001b[39m▁\u001b[39m▁\u001b[39m▁\u001b[39m▁\u001b[39m▁\u001b[39m▁\u001b[39m▁\u001b[39m▁\u001b[39m▁\u001b[39m▆\u001b[39m \u001b[39m▁\n",
       "  3.67 s\u001b[90m        Histogram: frequency by time\u001b[39m        22.8 s \u001b[0m\u001b[1m<\u001b[22m\n",
       "\n",
       " Memory estimate\u001b[90m: \u001b[39m\u001b[33m47.44 MiB\u001b[39m, allocs estimate\u001b[90m: \u001b[39m\u001b[33m1664826\u001b[39m."
      ]
     },
     "execution_count": 71,
     "metadata": {},
     "output_type": "execute_result"
    }
   ],
   "source": [
    "@benchmark solve_tsp(50, HiGHS.Optimizer) evals=3 samples=20 seconds=3600"
   ]
  },
  {
   "cell_type": "code",
   "execution_count": 80,
   "id": "d27717c6",
   "metadata": {},
   "outputs": [
    {
     "data": {
      "text/plain": [
       "BenchmarkTools.Trial: 20 samples with 3 evaluations.\n",
       " Range \u001b[90m(\u001b[39m\u001b[36m\u001b[1mmin\u001b[22m\u001b[39m … \u001b[35mmax\u001b[39m\u001b[90m):  \u001b[39m\u001b[36m\u001b[1m4.042 s\u001b[22m\u001b[39m … \u001b[35m   7.180 s\u001b[39m  \u001b[90m┊\u001b[39m GC \u001b[90m(\u001b[39mmin … max\u001b[90m): \u001b[39m1.69% … 1.16%\n",
       " Time  \u001b[90m(\u001b[39m\u001b[34m\u001b[1mmedian\u001b[22m\u001b[39m\u001b[90m):     \u001b[39m\u001b[34m\u001b[1m5.826 s               \u001b[22m\u001b[39m\u001b[90m┊\u001b[39m GC \u001b[90m(\u001b[39mmedian\u001b[90m):    \u001b[39m1.42%\n",
       " Time  \u001b[90m(\u001b[39m\u001b[32m\u001b[1mmean\u001b[22m\u001b[39m ± \u001b[32mσ\u001b[39m\u001b[90m):   \u001b[39m\u001b[32m\u001b[1m5.736 s\u001b[22m\u001b[39m ± \u001b[32m893.781 ms\u001b[39m  \u001b[90m┊\u001b[39m GC \u001b[90m(\u001b[39mmean ± σ\u001b[90m):  \u001b[39m1.57% ± 0.67%\n",
       "\n",
       "  \u001b[39m \u001b[39m \u001b[39m \u001b[39m \u001b[39m \u001b[39m \u001b[39m \u001b[39m \u001b[39m \u001b[39m \u001b[39m \u001b[39m \u001b[39m \u001b[39m \u001b[39m \u001b[39m \u001b[39m \u001b[39m▁\u001b[39m \u001b[39m \u001b[39m \u001b[39m \u001b[39m \u001b[39m \u001b[39m \u001b[39m \u001b[39m \u001b[39m \u001b[39m \u001b[39m \u001b[39m \u001b[32m \u001b[39m\u001b[34m \u001b[39m\u001b[39m█\u001b[39m \u001b[39m \u001b[39m \u001b[39m \u001b[39m \u001b[39m \u001b[39m \u001b[39m \u001b[39m \u001b[39m \u001b[39m \u001b[39m \u001b[39m \u001b[39m \u001b[39m \u001b[39m \u001b[39m \u001b[39m \u001b[39m \u001b[39m \u001b[39m \u001b[39m \u001b[39m \u001b[39m▁\u001b[39m \u001b[39m \n",
       "  \u001b[39m▆\u001b[39m▁\u001b[39m▁\u001b[39m▆\u001b[39m▁\u001b[39m▁\u001b[39m▁\u001b[39m▁\u001b[39m▁\u001b[39m▁\u001b[39m▁\u001b[39m▆\u001b[39m▁\u001b[39m▁\u001b[39m▁\u001b[39m▁\u001b[39m▁\u001b[39m█\u001b[39m▁\u001b[39m▁\u001b[39m▁\u001b[39m▁\u001b[39m▁\u001b[39m▁\u001b[39m▁\u001b[39m▆\u001b[39m▆\u001b[39m▆\u001b[39m▁\u001b[39m▆\u001b[39m▁\u001b[32m▁\u001b[39m\u001b[34m▆\u001b[39m\u001b[39m█\u001b[39m▆\u001b[39m▁\u001b[39m▁\u001b[39m▁\u001b[39m▁\u001b[39m▁\u001b[39m▁\u001b[39m▁\u001b[39m▁\u001b[39m▆\u001b[39m▁\u001b[39m▁\u001b[39m▁\u001b[39m▁\u001b[39m▁\u001b[39m▁\u001b[39m▁\u001b[39m▁\u001b[39m▆\u001b[39m▁\u001b[39m▆\u001b[39m▁\u001b[39m▁\u001b[39m█\u001b[39m \u001b[39m▁\n",
       "  4.04 s\u001b[90m         Histogram: frequency by time\u001b[39m         7.18 s \u001b[0m\u001b[1m<\u001b[22m\n",
       "\n",
       " Memory estimate\u001b[90m: \u001b[39m\u001b[33m337.28 MiB\u001b[39m, allocs estimate\u001b[90m: \u001b[39m\u001b[33m5695500\u001b[39m."
      ]
     },
     "execution_count": 80,
     "metadata": {},
     "output_type": "execute_result"
    }
   ],
   "source": [
    "@benchmark solve_tsp(50, EAGO.Optimizer) evals=3 samples=20 seconds=3600"
   ]
  },
  {
   "cell_type": "code",
   "execution_count": null,
   "id": "f8bd8d84",
   "metadata": {},
   "outputs": [],
   "source": []
  }
 ],
 "metadata": {
  "kernelspec": {
   "display_name": "Julia 1.7.3",
   "language": "julia",
   "name": "julia-1.7"
  },
  "language_info": {
   "file_extension": ".jl",
   "mimetype": "application/julia",
   "name": "julia",
   "version": "1.7.3"
  }
 },
 "nbformat": 4,
 "nbformat_minor": 5
}
