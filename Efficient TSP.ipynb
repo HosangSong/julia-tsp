{
 "cells": [
  {
   "cell_type": "code",
   "execution_count": 9,
   "id": "4602daa3",
   "metadata": {},
   "outputs": [
    {
     "name": "stderr",
     "output_type": "stream",
     "text": [
      "\u001b[32m\u001b[1m    Updating\u001b[22m\u001b[39m registry at `~/.julia/registries/General.toml`\n",
      "\u001b[32m\u001b[1m   Resolving\u001b[22m\u001b[39m package versions...\n",
      "\u001b[32m\u001b[1m  No Changes\u001b[22m\u001b[39m to `~/.julia/environments/v1.7/Project.toml`\n",
      "\u001b[32m\u001b[1m  No Changes\u001b[22m\u001b[39m to `~/.julia/environments/v1.7/Manifest.toml`\n",
      "\u001b[32m\u001b[1m   Resolving\u001b[22m\u001b[39m package versions...\n",
      "\u001b[32m\u001b[1m  No Changes\u001b[22m\u001b[39m to `~/.julia/environments/v1.7/Project.toml`\n",
      "\u001b[32m\u001b[1m  No Changes\u001b[22m\u001b[39m to `~/.julia/environments/v1.7/Manifest.toml`\n",
      "\u001b[32m\u001b[1m   Resolving\u001b[22m\u001b[39m package versions...\n",
      "\u001b[32m\u001b[1m  No Changes\u001b[22m\u001b[39m to `~/.julia/environments/v1.7/Project.toml`\n",
      "\u001b[32m\u001b[1m  No Changes\u001b[22m\u001b[39m to `~/.julia/environments/v1.7/Manifest.toml`\n",
      "\u001b[32m\u001b[1m   Resolving\u001b[22m\u001b[39m package versions...\n",
      "\u001b[32m\u001b[1m  No Changes\u001b[22m\u001b[39m to `~/.julia/environments/v1.7/Project.toml`\n",
      "\u001b[32m\u001b[1m  No Changes\u001b[22m\u001b[39m to `~/.julia/environments/v1.7/Manifest.toml`\n",
      "\u001b[32m\u001b[1m   Resolving\u001b[22m\u001b[39m package versions...\n",
      "\u001b[32m\u001b[1m  No Changes\u001b[22m\u001b[39m to `~/.julia/environments/v1.7/Project.toml`\n",
      "\u001b[32m\u001b[1m  No Changes\u001b[22m\u001b[39m to `~/.julia/environments/v1.7/Manifest.toml`\n",
      "\u001b[32m\u001b[1m   Resolving\u001b[22m\u001b[39m package versions...\n",
      "\u001b[32m\u001b[1m   Installed\u001b[22m\u001b[39m Gurobi ─ v0.11.3\n",
      "\u001b[32m\u001b[1m    Updating\u001b[22m\u001b[39m `~/.julia/environments/v1.7/Project.toml`\n",
      " \u001b[90m [2e9cd046] \u001b[39m\u001b[92m+ Gurobi v0.11.3\u001b[39m\n",
      "\u001b[32m\u001b[1m    Updating\u001b[22m\u001b[39m `~/.julia/environments/v1.7/Manifest.toml`\n",
      " \u001b[90m [2e9cd046] \u001b[39m\u001b[92m+ Gurobi v0.11.3\u001b[39m\n",
      "\u001b[32m\u001b[1m    Building\u001b[22m\u001b[39m Gurobi → `~/.julia/scratchspaces/44cfe95a-1eb2-52ea-b672-e2afdf69b78f/87c018cbd2fd33e6d2462d486abee53a27c91c91/build.log`\n",
      "\u001b[32m\u001b[1mPrecompiling\u001b[22m\u001b[39m project...\n",
      "\u001b[32m  ✓ \u001b[39mGurobi\n",
      "  1 dependency successfully precompiled in 4 seconds (218 already precompiled, 1 skipped during auto due to previous errors)\n",
      "\u001b[32m\u001b[1m    Building\u001b[22m\u001b[39m Gurobi → `~/.julia/scratchspaces/44cfe95a-1eb2-52ea-b672-e2afdf69b78f/87c018cbd2fd33e6d2462d486abee53a27c91c91/build.log`\n",
      "\u001b[32m\u001b[1mPrecompiling\u001b[22m\u001b[39m project...\n",
      "\u001b[32m  ✓ \u001b[39mGurobi\n",
      "  1 dependency successfully precompiled in 4 seconds (218 already precompiled, 1 skipped during auto due to previous errors)\n"
     ]
    }
   ],
   "source": [
    "using Pkg\n",
    "\n",
    "Pkg.add(\"JuMP\")\n",
    "Pkg.add(\"GLPK\")\n",
    "Pkg.add(\"BenchmarkTools\")\n",
    "Pkg.add(\"Distances\")\n",
    "Pkg.add(\"Plots\")\n",
    "ENV[\"GUROBI_HOME\"] = \"/Library/gurobi952/macos_universal2/\"\n",
    "Pkg.add(\"Gurobi\")\n",
    "Pkg.build(\"Gurobi\")"
   ]
  },
  {
   "cell_type": "code",
   "execution_count": 64,
   "id": "8fe06e97",
   "metadata": {},
   "outputs": [
    {
     "data": {
      "text/plain": [
       "calc_travelmatrix (generic function with 1 method)"
      ]
     },
     "execution_count": 64,
     "metadata": {},
     "output_type": "execute_result"
    }
   ],
   "source": [
    "struct Delivery\n",
    "    x::Float64\n",
    "    y::Float64\n",
    "end;\n",
    "function random_delivery()\n",
    "    x = rand(0.0:0.1:100.0)\n",
    "    y = rand(0.0:0.1:100.0)\n",
    "    return Delivery(x, y)\n",
    "end;\n",
    "\n",
    "struct TSProblem\n",
    "    deliveries::Array{Delivery}\n",
    "end;\n",
    "\n",
    "function random_instance(n_deliveries)\n",
    "    deliveries = [random_delivery() for _=1:n_deliveries]\n",
    "    problem = TSProblem(deliveries)\n",
    "    return problem\n",
    "end;\n",
    "\n",
    "function dist(del1::Delivery, del2::Delivery)\n",
    "    return sqrt((del1.x - del2.x)^2 + (del1.y - del2.y)^2)\n",
    "end\n",
    "function calc_travelmatrix(deliveries::Array{Delivery})\n",
    "    tm = zeros(Float64, length(deliveries), length(deliveries))\n",
    "    for i = 1:length(deliveries)\n",
    "        for j = 1:length(deliveries)\n",
    "            tm[i, j] = dist(deliveries[i], deliveries[j])\n",
    "        end\n",
    "    end\n",
    "    return tm\n",
    "end\n"
   ]
  },
  {
   "cell_type": "code",
   "execution_count": 153,
   "id": "74ee5bca",
   "metadata": {},
   "outputs": [
    {
     "data": {
      "text/plain": [
       "\u001b[32m\u001b[1mTest Passed\u001b[22m\u001b[39m\n",
       "  Expression: to_edges(test_m) == [[1, 2], [2, 1], [3, 4], [4, 3]]\n",
       "   Evaluated: Any[[1, 2], [2, 1], [3, 4], [4, 3]] == [[1, 2], [2, 1], [3, 4], [4, 3]]"
      ]
     },
     "execution_count": 153,
     "metadata": {},
     "output_type": "execute_result"
    }
   ],
   "source": [
    "using Test\n",
    "function to_edges(matrix::Matrix{Int64})\n",
    "    width = size(matrix)[2]\n",
    "    height = size(matrix)[1]\n",
    "    edges = []\n",
    "    for row = 1:width, col = 1:height\n",
    "        if matrix[row, col] == 1\n",
    "            push!(edges, [row, col])\n",
    "        end\n",
    "    end\n",
    "    return edges\n",
    "end\n",
    "test_m = [0 1 0 0; \n",
    "          1 0 0 0;\n",
    "          0 0 0 1;\n",
    "          0 0 1 0;]\n",
    "\n",
    "@test to_edges(test_m) == [[1, 2], [2, 1], [3, 4], [4, 3]]"
   ]
  },
  {
   "cell_type": "code",
   "execution_count": 209,
   "id": "3c613e24",
   "metadata": {},
   "outputs": [
    {
     "name": "stderr",
     "output_type": "stream",
     "text": [
      "\u001b[32m\u001b[1m    Updating\u001b[22m\u001b[39m registry at `~/.julia/registries/General.toml`\n",
      "\u001b[32m\u001b[1m   Resolving\u001b[22m\u001b[39m package versions...\n",
      "\u001b[32m\u001b[1m   Installed\u001b[22m\u001b[39m SimpleTraits ── v0.9.4\n",
      "\u001b[32m\u001b[1m   Installed\u001b[22m\u001b[39m Inflate ─────── v0.1.2\n",
      "\u001b[32m\u001b[1m   Installed\u001b[22m\u001b[39m ArnoldiMethod ─ v0.2.0\n",
      "\u001b[32m\u001b[1m   Installed\u001b[22m\u001b[39m Graphs ──────── v1.7.1\n",
      "\u001b[32m\u001b[1m    Updating\u001b[22m\u001b[39m `~/.julia/environments/v1.7/Project.toml`\n",
      " \u001b[90m [86223c79] \u001b[39m\u001b[92m+ Graphs v1.7.1\u001b[39m\n",
      "\u001b[32m\u001b[1m    Updating\u001b[22m\u001b[39m `~/.julia/environments/v1.7/Manifest.toml`\n",
      " \u001b[90m [ec485272] \u001b[39m\u001b[92m+ ArnoldiMethod v0.2.0\u001b[39m\n",
      " \u001b[90m [86223c79] \u001b[39m\u001b[92m+ Graphs v1.7.1\u001b[39m\n",
      " \u001b[90m [d25df0c9] \u001b[39m\u001b[92m+ Inflate v0.1.2\u001b[39m\n",
      " \u001b[90m [699a6c99] \u001b[39m\u001b[92m+ SimpleTraits v0.9.4\u001b[39m\n",
      " \u001b[90m [1a1011a3] \u001b[39m\u001b[92m+ SharedArrays\u001b[39m\n",
      "\u001b[32m\u001b[1mPrecompiling\u001b[22m\u001b[39m project...\n",
      "\u001b[32m  ✓ \u001b[39m\u001b[90mInflate\u001b[39m\n",
      "\u001b[32m  ✓ \u001b[39m\u001b[90mSimpleTraits\u001b[39m\n",
      "\u001b[32m  ✓ \u001b[39m\u001b[90mArnoldiMethod\u001b[39m\n",
      "\u001b[32m  ✓ \u001b[39mGraphs\n",
      "  4 dependencies successfully precompiled in 5 seconds (219 already precompiled, 1 skipped during auto due to previous errors)\n"
     ]
    }
   ],
   "source": [
    "import Pkg\n",
    "Pkg.add(\"Graphs\")"
   ]
  },
  {
   "cell_type": "code",
   "execution_count": 206,
   "id": "46903bae",
   "metadata": {},
   "outputs": [
    {
     "name": "stdout",
     "output_type": "stream",
     "text": [
      "Any[[1, 2], [2, 1], [3, 4], [4, 3]]\n",
      "will add [1, 2]\n",
      "will add [2, 1]\n",
      "Set([2, 1])\n",
      "will add [1, 2]\n",
      "will add [2, 1]\n",
      "Set([2, 1])\n",
      "will add [3, 4]\n",
      "will add [4, 3]\n",
      "Set([2, 1])\n",
      "will add [3, 4]\n",
      "will add [4, 3]\n",
      "Set([2, 1])\n"
     ]
    },
    {
     "data": {
      "text/plain": [
       "\u001b[32m\u001b[1mTest Passed\u001b[22m\u001b[39m\n",
       "  Expression: shortest_cycle(test_m) == [2, 1]\n",
       "   Evaluated: [2, 1] == [2, 1]"
      ]
     },
     "execution_count": 206,
     "metadata": {},
     "output_type": "execute_result"
    }
   ],
   "source": [
    "\"\"\"\n",
    "given an incidence matrix of a tsp route return nodes of the shortest cycle\n",
    "\"\"\"\n",
    "function shortest_cycle(matrix::Matrix{Int64})\n",
    "    edges = to_edges(matrix)\n",
    "    println(edges)\n",
    "    shortest_cycle = Set()\n",
    "    for edge1 in edges\n",
    "        ed1_nbs = Set([edge1[1], edge1[2]])\n",
    "        for edge2 in edges\n",
    "            if edge2[1] in ed1_nbs\n",
    "                push!(ed1_nbs, edge2[2])\n",
    "                push!(ed1_nbs, edge2[1])\n",
    "            elseif edge2[2] in ed1_nbs\n",
    "                push!(ed1_nbs, edge2[1])\n",
    "                push!(ed1_nbs, edge2[2])\n",
    "            end\n",
    "        end\n",
    "        shortest = length(shortest_cycle)\n",
    "        if  shortest == 0 || length(ed1_nbs) < shortest\n",
    "            shortest_cycle = ed1_nbs\n",
    "        end\n",
    "    end\n",
    "    return collect(shortest_cycle)\n",
    "end\n",
    "@test shortest_cycle(test_m) == [2, 1]"
   ]
  },
  {
   "cell_type": "code",
   "execution_count": 134,
   "id": "2e336d70",
   "metadata": {},
   "outputs": [
    {
     "data": {
      "text/plain": [
       "\u001b[32m\u001b[1mTest Passed\u001b[22m\u001b[39m\n",
       "  Expression: shortest_cycle(test_m_empty) == []\n",
       "   Evaluated: Any[] == Any[]"
      ]
     },
     "execution_count": 134,
     "metadata": {},
     "output_type": "execute_result"
    }
   ],
   "source": [
    "test_m_empty = [0 0 0 0; \n",
    "          0 0 0 0;\n",
    "          0 0 0 0;\n",
    "          0 0 0 0;]\n",
    "@test shortest_cycle(test_m_empty) == []"
   ]
  },
  {
   "cell_type": "code",
   "execution_count": 135,
   "id": "e9eb28e9",
   "metadata": {},
   "outputs": [
    {
     "data": {
      "text/plain": [
       "\u001b[32m\u001b[1mTest Passed\u001b[22m\u001b[39m\n",
       "  Expression: shortest_cycle(test_m_empty) == []\n",
       "   Evaluated: Any[] == Any[]"
      ]
     },
     "execution_count": 135,
     "metadata": {},
     "output_type": "execute_result"
    }
   ],
   "source": [
    "test_m_no_subtours = \n",
    "         [0 1 0 0; \n",
    "          0 0 1 0;\n",
    "          0 0 0 1;\n",
    "          1 0 0 0;]\n",
    "@test shortest_cycle(test_m_empty) == []"
   ]
  },
  {
   "cell_type": "code",
   "execution_count": 136,
   "id": "3a623229",
   "metadata": {},
   "outputs": [
    {
     "data": {
      "text/plain": [
       "\u001b[32m\u001b[1mTest Passed\u001b[22m\u001b[39m\n",
       "  Expression: shortest_cycle(test_subtours) == [6, 3, 1]\n",
       "   Evaluated: [6, 3, 1] == [6, 3, 1]"
      ]
     },
     "execution_count": 136,
     "metadata": {},
     "output_type": "execute_result"
    }
   ],
   "source": [
    "# taken from a failing random case\n",
    "test_subtours = \n",
    "    [0 0 1 0 0 0;\n",
    "     0 0 0 0 1 0;\n",
    "     0 0 0 0 0 1;\n",
    "     0 1 0 0 0 0;\n",
    "     0 0 0 1 0 0;\n",
    "     1 0 0 0 0 0]\n",
    "@test shortest_cycle(test_subtours) == [6, 3, 1]"
   ]
  },
  {
   "cell_type": "code",
   "execution_count": 207,
   "id": "c9f939ed",
   "metadata": {},
   "outputs": [
    {
     "name": "stdout",
     "output_type": "stream",
     "text": [
      "Any[[1, 3], [2, 1], [3, 5], [4, 2], [5, 4]]\n",
      "will add [1, 3]\n",
      "will add [2, 1]\n",
      "will add [3, 5]\n",
      "will add [4, 2]\n",
      "will add [5, 4]\n",
      "Set([5, 4, 2, 3, 1])\n",
      "will add [1, 3]\n",
      "will add [2, 1]\n",
      "will add [3, 5]\n",
      "will add [4, 2]\n",
      "will add [5, 4]\n",
      "Set([5, 4, 2, 3, 1])\n",
      "will add [1, 3]\n",
      "will add [2, 1]\n",
      "will add [3, 5]\n",
      "will add [4, 2]\n",
      "will add [5, 4]\n",
      "Set([5, 4, 2, 3, 1])\n",
      "will add [2, 1]\n",
      "will add [4, 2]\n",
      "will add [5, 4]\n",
      "Set([5, 4, 2, 1])\n",
      "will add [3, 5]\n",
      "will add [4, 2]\n",
      "will add [5, 4]\n",
      "Set([5, 4, 2, 1])\n",
      "\u001b[91m\u001b[1mTest Failed\u001b[22m\u001b[39m at \u001b[39m\u001b[1mIn[207]:8\u001b[22m\n",
      "  Expression: shortest_cycle(test_subtours2) == []\n",
      "   Evaluated: [5, 4, 2, 1] == Any[]\n"
     ]
    },
    {
     "ename": "LoadError",
     "evalue": "\u001b[91mThere was an error during testing\u001b[39m",
     "output_type": "error",
     "traceback": [
      "\u001b[91mThere was an error during testing\u001b[39m",
      "",
      "Stacktrace:",
      " [1] record(ts::Test.FallbackTestSet, t::Union{Test.Error, Test.Fail})",
      "   @ Test /Applications/Julia-1.7.app/Contents/Resources/julia/share/julia/stdlib/v1.7/Test/src/Test.jl:903",
      " [2] do_test(result::Test.ExecutionResult, orig_expr::Any)",
      "   @ Test /Applications/Julia-1.7.app/Contents/Resources/julia/share/julia/stdlib/v1.7/Test/src/Test.jl:637",
      " [3] top-level scope",
      "   @ /Applications/Julia-1.7.app/Contents/Resources/julia/share/julia/stdlib/v1.7/Test/src/Test.jl:445",
      " [4] eval",
      "   @ ./boot.jl:373 [inlined]",
      " [5] include_string(mapexpr::typeof(REPL.softscope), mod::Module, code::String, filename::String)",
      "   @ Base ./loading.jl:1196"
     ]
    }
   ],
   "source": [
    "# taken from a failing random case\n",
    "test_subtours2 = \n",
    "   [0 0 1 0 0; \n",
    "    1 0 0 0 0;\n",
    "    0 0 0 0 1;\n",
    "    0 1 0 0 0;\n",
    "    0 0 0 1 0]\n",
    "@test shortest_cycle(test_subtours2) == []"
   ]
  },
  {
   "cell_type": "code",
   "execution_count": 147,
   "id": "3559f279",
   "metadata": {},
   "outputs": [
    {
     "data": {
      "text/plain": [
       "3-element Vector{Tuple{Int64, Int64}}:\n",
       " (3, 6)\n",
       " (1, 6)\n",
       " (1, 3)"
      ]
     },
     "execution_count": 147,
     "metadata": {},
     "output_type": "execute_result"
    }
   ],
   "source": [
    "cycle = shortest_cycle(test_subtours)\n",
    "[(i, j) for (i, j) in Iterators.product(cycle, cycle) if i < j]"
   ]
  },
  {
   "cell_type": "code",
   "execution_count": 198,
   "id": "363db71d",
   "metadata": {},
   "outputs": [
    {
     "name": "stdout",
     "output_type": "stream",
     "text": [
      "Done in 20 iterations\n",
      "[5, 4, 2, 1]\n",
      "[0 0 1 0 0; 1 0 0 0 0; 0 0 0 0 1; 0 1 0 0 0; 0 0 0 1 0]\n"
     ]
    },
    {
     "data": {
      "image/svg+xml": [
       "<?xml version=\"1.0\" encoding=\"utf-8\"?>\n",
       "<svg xmlns=\"http://www.w3.org/2000/svg\" xmlns:xlink=\"http://www.w3.org/1999/xlink\" width=\"600\" height=\"400\" viewBox=\"0 0 2400 1600\">\n",
       "<defs>\n",
       "  <clipPath id=\"clip010\">\n",
       "    <rect x=\"0\" y=\"0\" width=\"2400\" height=\"1600\"/>\n",
       "  </clipPath>\n",
       "</defs>\n",
       "<path clip-path=\"url(#clip010)\" d=\"\n",
       "M0 1600 L2400 1600 L2400 0 L0 0  Z\n",
       "  \" fill=\"#ffffff\" fill-rule=\"evenodd\" fill-opacity=\"1\"/>\n",
       "<defs>\n",
       "  <clipPath id=\"clip011\">\n",
       "    <rect x=\"480\" y=\"0\" width=\"1681\" height=\"1600\"/>\n",
       "  </clipPath>\n",
       "</defs>\n",
       "<path clip-path=\"url(#clip010)\" d=\"\n",
       "M141.853 1486.45 L2352.76 1486.45 L2352.76 47.2441 L141.853 47.2441  Z\n",
       "  \" fill=\"#ffffff\" fill-rule=\"evenodd\" fill-opacity=\"1\"/>\n",
       "<defs>\n",
       "  <clipPath id=\"clip012\">\n",
       "    <rect x=\"141\" y=\"47\" width=\"2212\" height=\"1440\"/>\n",
       "  </clipPath>\n",
       "</defs>\n",
       "<polyline clip-path=\"url(#clip012)\" style=\"stroke:#000000; stroke-linecap:butt; stroke-linejoin:round; stroke-width:2; stroke-opacity:0.1; fill:none\" points=\"\n",
       "  306.463,1486.45 306.463,47.2441 \n",
       "  \"/>\n",
       "<polyline clip-path=\"url(#clip012)\" style=\"stroke:#000000; stroke-linecap:butt; stroke-linejoin:round; stroke-width:2; stroke-opacity:0.1; fill:none\" points=\"\n",
       "  606.572,1486.45 606.572,47.2441 \n",
       "  \"/>\n",
       "<polyline clip-path=\"url(#clip012)\" style=\"stroke:#000000; stroke-linecap:butt; stroke-linejoin:round; stroke-width:2; stroke-opacity:0.1; fill:none\" points=\"\n",
       "  906.681,1486.45 906.681,47.2441 \n",
       "  \"/>\n",
       "<polyline clip-path=\"url(#clip012)\" style=\"stroke:#000000; stroke-linecap:butt; stroke-linejoin:round; stroke-width:2; stroke-opacity:0.1; fill:none\" points=\"\n",
       "  1206.79,1486.45 1206.79,47.2441 \n",
       "  \"/>\n",
       "<polyline clip-path=\"url(#clip012)\" style=\"stroke:#000000; stroke-linecap:butt; stroke-linejoin:round; stroke-width:2; stroke-opacity:0.1; fill:none\" points=\"\n",
       "  1506.9,1486.45 1506.9,47.2441 \n",
       "  \"/>\n",
       "<polyline clip-path=\"url(#clip012)\" style=\"stroke:#000000; stroke-linecap:butt; stroke-linejoin:round; stroke-width:2; stroke-opacity:0.1; fill:none\" points=\"\n",
       "  1807.01,1486.45 1807.01,47.2441 \n",
       "  \"/>\n",
       "<polyline clip-path=\"url(#clip012)\" style=\"stroke:#000000; stroke-linecap:butt; stroke-linejoin:round; stroke-width:2; stroke-opacity:0.1; fill:none\" points=\"\n",
       "  2107.12,1486.45 2107.12,47.2441 \n",
       "  \"/>\n",
       "<polyline clip-path=\"url(#clip010)\" style=\"stroke:#000000; stroke-linecap:butt; stroke-linejoin:round; stroke-width:4; stroke-opacity:1; fill:none\" points=\"\n",
       "  141.853,1486.45 2352.76,1486.45 \n",
       "  \"/>\n",
       "<polyline clip-path=\"url(#clip010)\" style=\"stroke:#000000; stroke-linecap:butt; stroke-linejoin:round; stroke-width:4; stroke-opacity:1; fill:none\" points=\"\n",
       "  306.463,1486.45 306.463,1467.55 \n",
       "  \"/>\n",
       "<polyline clip-path=\"url(#clip010)\" style=\"stroke:#000000; stroke-linecap:butt; stroke-linejoin:round; stroke-width:4; stroke-opacity:1; fill:none\" points=\"\n",
       "  606.572,1486.45 606.572,1467.55 \n",
       "  \"/>\n",
       "<polyline clip-path=\"url(#clip010)\" style=\"stroke:#000000; stroke-linecap:butt; stroke-linejoin:round; stroke-width:4; stroke-opacity:1; fill:none\" points=\"\n",
       "  906.681,1486.45 906.681,1467.55 \n",
       "  \"/>\n",
       "<polyline clip-path=\"url(#clip010)\" style=\"stroke:#000000; stroke-linecap:butt; stroke-linejoin:round; stroke-width:4; stroke-opacity:1; fill:none\" points=\"\n",
       "  1206.79,1486.45 1206.79,1467.55 \n",
       "  \"/>\n",
       "<polyline clip-path=\"url(#clip010)\" style=\"stroke:#000000; stroke-linecap:butt; stroke-linejoin:round; stroke-width:4; stroke-opacity:1; fill:none\" points=\"\n",
       "  1506.9,1486.45 1506.9,1467.55 \n",
       "  \"/>\n",
       "<polyline clip-path=\"url(#clip010)\" style=\"stroke:#000000; stroke-linecap:butt; stroke-linejoin:round; stroke-width:4; stroke-opacity:1; fill:none\" points=\"\n",
       "  1807.01,1486.45 1807.01,1467.55 \n",
       "  \"/>\n",
       "<polyline clip-path=\"url(#clip010)\" style=\"stroke:#000000; stroke-linecap:butt; stroke-linejoin:round; stroke-width:4; stroke-opacity:1; fill:none\" points=\"\n",
       "  2107.12,1486.45 2107.12,1467.55 \n",
       "  \"/>\n",
       "<path clip-path=\"url(#clip010)\" d=\"M285.236 1544.91 L301.555 1544.91 L301.555 1548.85 L279.611 1548.85 L279.611 1544.91 Q282.273 1542.16 286.856 1537.53 Q291.463 1532.88 292.643 1531.53 Q294.889 1529.01 295.768 1527.27 Q296.671 1525.51 296.671 1523.82 Q296.671 1521.07 294.727 1519.33 Q292.805 1517.6 289.704 1517.6 Q287.504 1517.6 285.051 1518.36 Q282.62 1519.13 279.842 1520.68 L279.842 1515.95 Q282.667 1514.82 285.12 1514.24 Q287.574 1513.66 289.611 1513.66 Q294.981 1513.66 298.176 1516.35 Q301.37 1519.03 301.37 1523.52 Q301.37 1525.65 300.56 1527.57 Q299.773 1529.47 297.666 1532.07 Q297.088 1532.74 293.986 1535.95 Q290.884 1539.15 285.236 1544.91 Z\" fill=\"#000000\" fill-rule=\"evenodd\" fill-opacity=\"1\" /><path clip-path=\"url(#clip010)\" d=\"M321.37 1517.37 Q317.759 1517.37 315.93 1520.93 Q314.125 1524.47 314.125 1531.6 Q314.125 1538.71 315.93 1542.27 Q317.759 1545.82 321.37 1545.82 Q325.004 1545.82 326.81 1542.27 Q328.639 1538.71 328.639 1531.6 Q328.639 1524.47 326.81 1520.93 Q325.004 1517.37 321.37 1517.37 M321.37 1513.66 Q327.18 1513.66 330.236 1518.27 Q333.314 1522.85 333.314 1531.6 Q333.314 1540.33 330.236 1544.94 Q327.18 1549.52 321.37 1549.52 Q315.56 1549.52 312.481 1544.94 Q309.426 1540.33 309.426 1531.6 Q309.426 1522.85 312.481 1518.27 Q315.56 1513.66 321.37 1513.66 Z\" fill=\"#000000\" fill-rule=\"evenodd\" fill-opacity=\"1\" /><path clip-path=\"url(#clip010)\" d=\"M595.414 1530.21 Q598.771 1530.93 600.646 1533.2 Q602.544 1535.47 602.544 1538.8 Q602.544 1543.92 599.025 1546.72 Q595.507 1549.52 589.026 1549.52 Q586.85 1549.52 584.535 1549.08 Q582.243 1548.66 579.789 1547.81 L579.789 1543.29 Q581.734 1544.43 584.049 1545.01 Q586.363 1545.58 588.887 1545.58 Q593.285 1545.58 595.576 1543.85 Q597.891 1542.11 597.891 1538.8 Q597.891 1535.75 595.738 1534.03 Q593.609 1532.3 589.789 1532.3 L585.762 1532.3 L585.762 1528.45 L589.975 1528.45 Q593.424 1528.45 595.252 1527.09 Q597.081 1525.7 597.081 1523.11 Q597.081 1520.45 595.183 1519.03 Q593.308 1517.6 589.789 1517.6 Q587.868 1517.6 585.669 1518.01 Q583.47 1518.43 580.831 1519.31 L580.831 1515.14 Q583.493 1514.4 585.808 1514.03 Q588.146 1513.66 590.206 1513.66 Q595.53 1513.66 598.632 1516.09 Q601.734 1518.5 601.734 1522.62 Q601.734 1525.49 600.09 1527.48 Q598.447 1529.45 595.414 1530.21 Z\" fill=\"#000000\" fill-rule=\"evenodd\" fill-opacity=\"1\" /><path clip-path=\"url(#clip010)\" d=\"M621.41 1517.37 Q617.799 1517.37 615.97 1520.93 Q614.164 1524.47 614.164 1531.6 Q614.164 1538.71 615.97 1542.27 Q617.799 1545.82 621.41 1545.82 Q625.044 1545.82 626.849 1542.27 Q628.678 1538.71 628.678 1531.6 Q628.678 1524.47 626.849 1520.93 Q625.044 1517.37 621.41 1517.37 M621.41 1513.66 Q627.22 1513.66 630.275 1518.27 Q633.354 1522.85 633.354 1531.6 Q633.354 1540.33 630.275 1544.94 Q627.22 1549.52 621.41 1549.52 Q615.599 1549.52 612.521 1544.94 Q609.465 1540.33 609.465 1531.6 Q609.465 1522.85 612.521 1518.27 Q615.599 1513.66 621.41 1513.66 Z\" fill=\"#000000\" fill-rule=\"evenodd\" fill-opacity=\"1\" /><path clip-path=\"url(#clip010)\" d=\"M894.852 1518.36 L883.047 1536.81 L894.852 1536.81 L894.852 1518.36 M893.625 1514.29 L899.505 1514.29 L899.505 1536.81 L904.435 1536.81 L904.435 1540.7 L899.505 1540.7 L899.505 1548.85 L894.852 1548.85 L894.852 1540.7 L879.25 1540.7 L879.25 1536.19 L893.625 1514.29 Z\" fill=\"#000000\" fill-rule=\"evenodd\" fill-opacity=\"1\" /><path clip-path=\"url(#clip010)\" d=\"M922.167 1517.37 Q918.556 1517.37 916.727 1520.93 Q914.921 1524.47 914.921 1531.6 Q914.921 1538.71 916.727 1542.27 Q918.556 1545.82 922.167 1545.82 Q925.801 1545.82 927.607 1542.27 Q929.435 1538.71 929.435 1531.6 Q929.435 1524.47 927.607 1520.93 Q925.801 1517.37 922.167 1517.37 M922.167 1513.66 Q927.977 1513.66 931.032 1518.27 Q934.111 1522.85 934.111 1531.6 Q934.111 1540.33 931.032 1544.94 Q927.977 1549.52 922.167 1549.52 Q916.357 1549.52 913.278 1544.94 Q910.222 1540.33 910.222 1531.6 Q910.222 1522.85 913.278 1518.27 Q916.357 1513.66 922.167 1513.66 Z\" fill=\"#000000\" fill-rule=\"evenodd\" fill-opacity=\"1\" /><path clip-path=\"url(#clip010)\" d=\"M1181.49 1514.29 L1199.85 1514.29 L1199.85 1518.22 L1185.77 1518.22 L1185.77 1526.7 Q1186.79 1526.35 1187.81 1526.19 Q1188.83 1526 1189.85 1526 Q1195.63 1526 1199.01 1529.17 Q1202.39 1532.34 1202.39 1537.76 Q1202.39 1543.34 1198.92 1546.44 Q1195.45 1549.52 1189.13 1549.52 Q1186.95 1549.52 1184.68 1549.15 Q1182.44 1548.78 1180.03 1548.04 L1180.03 1543.34 Q1182.11 1544.47 1184.34 1545.03 Q1186.56 1545.58 1189.04 1545.58 Q1193.04 1545.58 1195.38 1543.48 Q1197.72 1541.37 1197.72 1537.76 Q1197.72 1534.15 1195.38 1532.04 Q1193.04 1529.94 1189.04 1529.94 Q1187.16 1529.94 1185.29 1530.35 Q1183.43 1530.77 1181.49 1531.65 L1181.49 1514.29 Z\" fill=\"#000000\" fill-rule=\"evenodd\" fill-opacity=\"1\" /><path clip-path=\"url(#clip010)\" d=\"M1221.6 1517.37 Q1217.99 1517.37 1216.16 1520.93 Q1214.36 1524.47 1214.36 1531.6 Q1214.36 1538.71 1216.16 1542.27 Q1217.99 1545.82 1221.6 1545.82 Q1225.24 1545.82 1227.04 1542.27 Q1228.87 1538.71 1228.87 1531.6 Q1228.87 1524.47 1227.04 1520.93 Q1225.24 1517.37 1221.6 1517.37 M1221.6 1513.66 Q1227.41 1513.66 1230.47 1518.27 Q1233.55 1522.85 1233.55 1531.6 Q1233.55 1540.33 1230.47 1544.94 Q1227.41 1549.52 1221.6 1549.52 Q1215.79 1549.52 1212.72 1544.94 Q1209.66 1540.33 1209.66 1531.6 Q1209.66 1522.85 1212.72 1518.27 Q1215.79 1513.66 1221.6 1513.66 Z\" fill=\"#000000\" fill-rule=\"evenodd\" fill-opacity=\"1\" /><path clip-path=\"url(#clip010)\" d=\"M1492.3 1529.7 Q1489.16 1529.7 1487.3 1531.86 Q1485.48 1534.01 1485.48 1537.76 Q1485.48 1541.49 1487.3 1543.66 Q1489.16 1545.82 1492.3 1545.82 Q1495.45 1545.82 1497.28 1543.66 Q1499.13 1541.49 1499.13 1537.76 Q1499.13 1534.01 1497.28 1531.86 Q1495.45 1529.7 1492.3 1529.7 M1501.59 1515.05 L1501.59 1519.31 Q1499.83 1518.48 1498.02 1518.04 Q1496.24 1517.6 1494.48 1517.6 Q1489.85 1517.6 1487.4 1520.72 Q1484.97 1523.85 1484.62 1530.17 Q1485.98 1528.15 1488.04 1527.09 Q1490.1 1526 1492.58 1526 Q1497.79 1526 1500.8 1529.17 Q1503.83 1532.32 1503.83 1537.76 Q1503.83 1543.08 1500.68 1546.3 Q1497.54 1549.52 1492.3 1549.52 Q1486.31 1549.52 1483.14 1544.94 Q1479.97 1540.33 1479.97 1531.6 Q1479.97 1523.41 1483.85 1518.55 Q1487.74 1513.66 1494.29 1513.66 Q1496.05 1513.66 1497.84 1514.01 Q1499.64 1514.36 1501.59 1515.05 Z\" fill=\"#000000\" fill-rule=\"evenodd\" fill-opacity=\"1\" /><path clip-path=\"url(#clip010)\" d=\"M1521.89 1517.37 Q1518.28 1517.37 1516.45 1520.93 Q1514.64 1524.47 1514.64 1531.6 Q1514.64 1538.71 1516.45 1542.27 Q1518.28 1545.82 1521.89 1545.82 Q1525.52 1545.82 1527.33 1542.27 Q1529.16 1538.71 1529.16 1531.6 Q1529.16 1524.47 1527.33 1520.93 Q1525.52 1517.37 1521.89 1517.37 M1521.89 1513.66 Q1527.7 1513.66 1530.75 1518.27 Q1533.83 1522.85 1533.83 1531.6 Q1533.83 1540.33 1530.75 1544.94 Q1527.7 1549.52 1521.89 1549.52 Q1516.08 1549.52 1513 1544.94 Q1509.94 1540.33 1509.94 1531.6 Q1509.94 1522.85 1513 1518.27 Q1516.08 1513.66 1521.89 1513.66 Z\" fill=\"#000000\" fill-rule=\"evenodd\" fill-opacity=\"1\" /><path clip-path=\"url(#clip010)\" d=\"M1780.36 1514.29 L1802.59 1514.29 L1802.59 1516.28 L1790.04 1548.85 L1785.16 1548.85 L1796.96 1518.22 L1780.36 1518.22 L1780.36 1514.29 Z\" fill=\"#000000\" fill-rule=\"evenodd\" fill-opacity=\"1\" /><path clip-path=\"url(#clip010)\" d=\"M1821.71 1517.37 Q1818.1 1517.37 1816.27 1520.93 Q1814.46 1524.47 1814.46 1531.6 Q1814.46 1538.71 1816.27 1542.27 Q1818.1 1545.82 1821.71 1545.82 Q1825.34 1545.82 1827.15 1542.27 Q1828.98 1538.71 1828.98 1531.6 Q1828.98 1524.47 1827.15 1520.93 Q1825.34 1517.37 1821.71 1517.37 M1821.71 1513.66 Q1827.52 1513.66 1830.57 1518.27 Q1833.65 1522.85 1833.65 1531.6 Q1833.65 1540.33 1830.57 1544.94 Q1827.52 1549.52 1821.71 1549.52 Q1815.9 1549.52 1812.82 1544.94 Q1809.76 1540.33 1809.76 1531.6 Q1809.76 1522.85 1812.82 1518.27 Q1815.9 1513.66 1821.71 1513.66 Z\" fill=\"#000000\" fill-rule=\"evenodd\" fill-opacity=\"1\" /><path clip-path=\"url(#clip010)\" d=\"M2091.99 1532.44 Q2088.66 1532.44 2086.73 1534.22 Q2084.84 1536 2084.84 1539.13 Q2084.84 1542.25 2086.73 1544.03 Q2088.66 1545.82 2091.99 1545.82 Q2095.32 1545.82 2097.24 1544.03 Q2099.17 1542.23 2099.17 1539.13 Q2099.17 1536 2097.24 1534.22 Q2095.35 1532.44 2091.99 1532.44 M2087.31 1530.45 Q2084.3 1529.7 2082.61 1527.64 Q2080.95 1525.58 2080.95 1522.62 Q2080.95 1518.48 2083.89 1516.07 Q2086.85 1513.66 2091.99 1513.66 Q2097.15 1513.66 2100.09 1516.07 Q2103.03 1518.48 2103.03 1522.62 Q2103.03 1525.58 2101.34 1527.64 Q2099.67 1529.7 2096.69 1530.45 Q2100.07 1531.23 2101.94 1533.52 Q2103.84 1535.82 2103.84 1539.13 Q2103.84 1544.15 2100.76 1546.83 Q2097.71 1549.52 2091.99 1549.52 Q2086.27 1549.52 2083.19 1546.83 Q2080.14 1544.15 2080.14 1539.13 Q2080.14 1535.82 2082.04 1533.52 Q2083.93 1531.23 2087.31 1530.45 M2085.6 1523.06 Q2085.6 1525.75 2087.27 1527.25 Q2088.96 1528.76 2091.99 1528.76 Q2095 1528.76 2096.69 1527.25 Q2098.4 1525.75 2098.4 1523.06 Q2098.4 1520.38 2096.69 1518.87 Q2095 1517.37 2091.99 1517.37 Q2088.96 1517.37 2087.27 1518.87 Q2085.6 1520.38 2085.6 1523.06 Z\" fill=\"#000000\" fill-rule=\"evenodd\" fill-opacity=\"1\" /><path clip-path=\"url(#clip010)\" d=\"M2122.15 1517.37 Q2118.54 1517.37 2116.71 1520.93 Q2114.91 1524.47 2114.91 1531.6 Q2114.91 1538.71 2116.71 1542.27 Q2118.54 1545.82 2122.15 1545.82 Q2125.79 1545.82 2127.59 1542.27 Q2129.42 1538.71 2129.42 1531.6 Q2129.42 1524.47 2127.59 1520.93 Q2125.79 1517.37 2122.15 1517.37 M2122.15 1513.66 Q2127.96 1513.66 2131.02 1518.27 Q2134.1 1522.85 2134.1 1531.6 Q2134.1 1540.33 2131.02 1544.94 Q2127.96 1549.52 2122.15 1549.52 Q2116.34 1549.52 2113.26 1544.94 Q2110.21 1540.33 2110.21 1531.6 Q2110.21 1522.85 2113.26 1518.27 Q2116.34 1513.66 2122.15 1513.66 Z\" fill=\"#000000\" fill-rule=\"evenodd\" fill-opacity=\"1\" /><polyline clip-path=\"url(#clip012)\" style=\"stroke:#000000; stroke-linecap:butt; stroke-linejoin:round; stroke-width:2; stroke-opacity:0.1; fill:none\" points=\"\n",
       "  141.853,1479.52 2352.76,1479.52 \n",
       "  \"/>\n",
       "<polyline clip-path=\"url(#clip012)\" style=\"stroke:#000000; stroke-linecap:butt; stroke-linejoin:round; stroke-width:2; stroke-opacity:0.1; fill:none\" points=\"\n",
       "  141.853,1103.93 2352.76,1103.93 \n",
       "  \"/>\n",
       "<polyline clip-path=\"url(#clip012)\" style=\"stroke:#000000; stroke-linecap:butt; stroke-linejoin:round; stroke-width:2; stroke-opacity:0.1; fill:none\" points=\"\n",
       "  141.853,728.349 2352.76,728.349 \n",
       "  \"/>\n",
       "<polyline clip-path=\"url(#clip012)\" style=\"stroke:#000000; stroke-linecap:butt; stroke-linejoin:round; stroke-width:2; stroke-opacity:0.1; fill:none\" points=\"\n",
       "  141.853,352.764 2352.76,352.764 \n",
       "  \"/>\n",
       "<polyline clip-path=\"url(#clip010)\" style=\"stroke:#000000; stroke-linecap:butt; stroke-linejoin:round; stroke-width:4; stroke-opacity:1; fill:none\" points=\"\n",
       "  141.853,1486.45 141.853,47.2441 \n",
       "  \"/>\n",
       "<polyline clip-path=\"url(#clip010)\" style=\"stroke:#000000; stroke-linecap:butt; stroke-linejoin:round; stroke-width:4; stroke-opacity:1; fill:none\" points=\"\n",
       "  141.853,1479.52 160.751,1479.52 \n",
       "  \"/>\n",
       "<polyline clip-path=\"url(#clip010)\" style=\"stroke:#000000; stroke-linecap:butt; stroke-linejoin:round; stroke-width:4; stroke-opacity:1; fill:none\" points=\"\n",
       "  141.853,1103.93 160.751,1103.93 \n",
       "  \"/>\n",
       "<polyline clip-path=\"url(#clip010)\" style=\"stroke:#000000; stroke-linecap:butt; stroke-linejoin:round; stroke-width:4; stroke-opacity:1; fill:none\" points=\"\n",
       "  141.853,728.349 160.751,728.349 \n",
       "  \"/>\n",
       "<polyline clip-path=\"url(#clip010)\" style=\"stroke:#000000; stroke-linecap:butt; stroke-linejoin:round; stroke-width:4; stroke-opacity:1; fill:none\" points=\"\n",
       "  141.853,352.764 160.751,352.764 \n",
       "  \"/>\n",
       "<path clip-path=\"url(#clip010)\" d=\"M93.9086 1465.32 Q90.2975 1465.32 88.4688 1468.88 Q86.6632 1472.42 86.6632 1479.55 Q86.6632 1486.66 88.4688 1490.22 Q90.2975 1493.77 93.9086 1493.77 Q97.5428 1493.77 99.3483 1490.22 Q101.177 1486.66 101.177 1479.55 Q101.177 1472.42 99.3483 1468.88 Q97.5428 1465.32 93.9086 1465.32 M93.9086 1461.61 Q99.7187 1461.61 102.774 1466.22 Q105.853 1470.8 105.853 1479.55 Q105.853 1488.28 102.774 1492.89 Q99.7187 1497.47 93.9086 1497.47 Q88.0984 1497.47 85.0197 1492.89 Q81.9642 1488.28 81.9642 1479.55 Q81.9642 1470.8 85.0197 1466.22 Q88.0984 1461.61 93.9086 1461.61 Z\" fill=\"#000000\" fill-rule=\"evenodd\" fill-opacity=\"1\" /><path clip-path=\"url(#clip010)\" d=\"M57.7745 1117.28 L74.0939 1117.28 L74.0939 1121.21 L52.1495 1121.21 L52.1495 1117.28 Q54.8115 1114.52 59.3949 1109.89 Q64.0013 1105.24 65.1819 1103.9 Q67.4272 1101.38 68.3068 1099.64 Q69.2096 1097.88 69.2096 1096.19 Q69.2096 1093.44 67.2652 1091.7 Q65.3439 1089.96 62.2421 1089.96 Q60.043 1089.96 57.5893 1090.73 Q55.1588 1091.49 52.381 1093.04 L52.381 1088.32 Q55.2051 1087.19 57.6588 1086.61 Q60.1124 1086.03 62.1495 1086.03 Q67.5198 1086.03 70.7142 1088.71 Q73.9087 1091.4 73.9087 1095.89 Q73.9087 1098.02 73.0985 1099.94 Q72.3115 1101.84 70.205 1104.43 Q69.6263 1105.1 66.5245 1108.32 Q63.4226 1111.51 57.7745 1117.28 Z\" fill=\"#000000\" fill-rule=\"evenodd\" fill-opacity=\"1\" /><path clip-path=\"url(#clip010)\" d=\"M93.9086 1089.73 Q90.2975 1089.73 88.4688 1093.3 Q86.6632 1096.84 86.6632 1103.97 Q86.6632 1111.07 88.4688 1114.64 Q90.2975 1118.18 93.9086 1118.18 Q97.5428 1118.18 99.3483 1114.64 Q101.177 1111.07 101.177 1103.97 Q101.177 1096.84 99.3483 1093.3 Q97.5428 1089.73 93.9086 1089.73 M93.9086 1086.03 Q99.7187 1086.03 102.774 1090.63 Q105.853 1095.22 105.853 1103.97 Q105.853 1112.69 102.774 1117.3 Q99.7187 1121.88 93.9086 1121.88 Q88.0984 1121.88 85.0197 1117.3 Q81.9642 1112.69 81.9642 1103.97 Q81.9642 1095.22 85.0197 1090.63 Q88.0984 1086.03 93.9086 1086.03 Z\" fill=\"#000000\" fill-rule=\"evenodd\" fill-opacity=\"1\" /><path clip-path=\"url(#clip010)\" d=\"M66.5939 715.143 L54.7884 733.592 L66.5939 733.592 L66.5939 715.143 M65.367 711.069 L71.2466 711.069 L71.2466 733.592 L76.1772 733.592 L76.1772 737.48 L71.2466 737.48 L71.2466 745.629 L66.5939 745.629 L66.5939 737.48 L50.9921 737.48 L50.9921 732.967 L65.367 711.069 Z\" fill=\"#000000\" fill-rule=\"evenodd\" fill-opacity=\"1\" /><path clip-path=\"url(#clip010)\" d=\"M93.9086 714.147 Q90.2975 714.147 88.4688 717.712 Q86.6632 721.254 86.6632 728.383 Q86.6632 735.49 88.4688 739.054 Q90.2975 742.596 93.9086 742.596 Q97.5428 742.596 99.3483 739.054 Q101.177 735.49 101.177 728.383 Q101.177 721.254 99.3483 717.712 Q97.5428 714.147 93.9086 714.147 M93.9086 710.444 Q99.7187 710.444 102.774 715.05 Q105.853 719.633 105.853 728.383 Q105.853 737.11 102.774 741.717 Q99.7187 746.3 93.9086 746.3 Q88.0984 746.3 85.0197 741.717 Q81.9642 737.11 81.9642 728.383 Q81.9642 719.633 85.0197 715.05 Q88.0984 710.444 93.9086 710.444 Z\" fill=\"#000000\" fill-rule=\"evenodd\" fill-opacity=\"1\" /><path clip-path=\"url(#clip010)\" d=\"M64.3254 350.9 Q61.1773 350.9 59.3254 353.053 Q57.4967 355.206 57.4967 358.956 Q57.4967 362.683 59.3254 364.858 Q61.1773 367.011 64.3254 367.011 Q67.4735 367.011 69.3022 364.858 Q71.1541 362.683 71.1541 358.956 Q71.1541 355.206 69.3022 353.053 Q67.4735 350.9 64.3254 350.9 M73.6077 336.248 L73.6077 340.507 Q71.8485 339.673 70.0429 339.234 Q68.2606 338.794 66.5013 338.794 Q61.8717 338.794 59.418 341.919 Q56.9875 345.044 56.6402 351.363 Q58.006 349.349 60.0662 348.284 Q62.1263 347.197 64.6032 347.197 Q69.8115 347.197 72.8207 350.368 Q75.8531 353.516 75.8531 358.956 Q75.8531 364.28 72.705 367.497 Q69.5568 370.715 64.3254 370.715 Q58.33 370.715 55.1588 366.132 Q51.9875 361.525 51.9875 352.798 Q51.9875 344.604 55.8764 339.743 Q59.7652 334.859 66.3161 334.859 Q68.0754 334.859 69.8578 335.206 Q71.6633 335.553 73.6077 336.248 Z\" fill=\"#000000\" fill-rule=\"evenodd\" fill-opacity=\"1\" /><path clip-path=\"url(#clip010)\" d=\"M93.9086 338.562 Q90.2975 338.562 88.4688 342.127 Q86.6632 345.669 86.6632 352.798 Q86.6632 359.905 88.4688 363.47 Q90.2975 367.011 93.9086 367.011 Q97.5428 367.011 99.3483 363.47 Q101.177 359.905 101.177 352.798 Q101.177 345.669 99.3483 342.127 Q97.5428 338.562 93.9086 338.562 M93.9086 334.859 Q99.7187 334.859 102.774 339.465 Q105.853 344.048 105.853 352.798 Q105.853 361.525 102.774 366.132 Q99.7187 370.715 93.9086 370.715 Q88.0984 370.715 85.0197 366.132 Q81.9642 361.525 81.9642 352.798 Q81.9642 344.048 85.0197 339.465 Q88.0984 334.859 93.9086 334.859 Z\" fill=\"#000000\" fill-rule=\"evenodd\" fill-opacity=\"1\" /><circle clip-path=\"url(#clip012)\" cx=\"1305.83\" cy=\"1445.72\" r=\"21.6\" fill=\"#009af9\" fill-rule=\"evenodd\" fill-opacity=\"1\" stroke=\"#000000\" stroke-opacity=\"1\" stroke-width=\"3.2\"/>\n",
       "<circle clip-path=\"url(#clip012)\" cx=\"2290.18\" cy=\"856.047\" r=\"21.6\" fill=\"#009af9\" fill-rule=\"evenodd\" fill-opacity=\"1\" stroke=\"#000000\" stroke-opacity=\"1\" stroke-width=\"3.2\"/>\n",
       "<circle clip-path=\"url(#clip012)\" cx=\"204.426\" cy=\"1047.6\" r=\"21.6\" fill=\"#009af9\" fill-rule=\"evenodd\" fill-opacity=\"1\" stroke=\"#000000\" stroke-opacity=\"1\" stroke-width=\"3.2\"/>\n",
       "<circle clip-path=\"url(#clip012)\" cx=\"1918.05\" cy=\"210.041\" r=\"21.6\" fill=\"#009af9\" fill-rule=\"evenodd\" fill-opacity=\"1\" stroke=\"#000000\" stroke-opacity=\"1\" stroke-width=\"3.2\"/>\n",
       "<circle clip-path=\"url(#clip012)\" cx=\"1062.74\" cy=\"87.9763\" r=\"21.6\" fill=\"#009af9\" fill-rule=\"evenodd\" fill-opacity=\"1\" stroke=\"#000000\" stroke-opacity=\"1\" stroke-width=\"3.2\"/>\n",
       "<polyline clip-path=\"url(#clip012)\" style=\"stroke:#e26f46; stroke-linecap:butt; stroke-linejoin:round; stroke-width:4; stroke-opacity:1; fill:none\" points=\"\n",
       "  1305.83,1445.72 204.426,1047.6 \n",
       "  \"/>\n",
       "<polyline clip-path=\"url(#clip012)\" style=\"stroke:#3da44d; stroke-linecap:butt; stroke-linejoin:round; stroke-width:4; stroke-opacity:1; fill:none\" points=\"\n",
       "  2290.18,856.047 1305.83,1445.72 \n",
       "  \"/>\n",
       "<polyline clip-path=\"url(#clip012)\" style=\"stroke:#c271d2; stroke-linecap:butt; stroke-linejoin:round; stroke-width:4; stroke-opacity:1; fill:none\" points=\"\n",
       "  204.426,1047.6 1062.74,87.9763 \n",
       "  \"/>\n",
       "<polyline clip-path=\"url(#clip012)\" style=\"stroke:#ac8d18; stroke-linecap:butt; stroke-linejoin:round; stroke-width:4; stroke-opacity:1; fill:none\" points=\"\n",
       "  1918.05,210.041 2290.18,856.047 \n",
       "  \"/>\n",
       "<polyline clip-path=\"url(#clip012)\" style=\"stroke:#00a9ad; stroke-linecap:butt; stroke-linejoin:round; stroke-width:4; stroke-opacity:1; fill:none\" points=\"\n",
       "  1062.74,87.9763 1918.05,210.041 \n",
       "  \"/>\n",
       "</svg>\n"
      ]
     },
     "execution_count": 198,
     "metadata": {},
     "output_type": "execute_result"
    }
   ],
   "source": [
    "using JuMP\n",
    "import GLPK\n",
    "import Gurobi\n",
    "using BenchmarkTools\n",
    "using Plots\n",
    "\n",
    "function has_sub_tours(m, routes)\n",
    "    x_val = Int64.(JuMP.value.(routes))\n",
    "    cycle = shortest_cycle(x_val)\n",
    "    if length(cycle) == 1\n",
    "        println(\"found an invalid 1-long cycle $cycle\")\n",
    "    end\n",
    "    if length(cycle) <= 1\n",
    "        return false\n",
    "    end\n",
    "    indices_to_ban = [(i, j) for (i, j) in Iterators.product(cycle, cycle) if i != j]\n",
    "    @constraint(m, sum(routes[i, j] for (i,j) in indices_to_ban) <= length(cycle) -1 )\n",
    "    return true\n",
    "end\n",
    "\n",
    "function display_solution(problem, route)\n",
    "    x_pos = [c.x for c in problem.deliveries]\n",
    "    y_pos = [c.y for c in problem.deliveries]\n",
    "    plot_result = scatter(x_pos, y_pos, shape = :circle, markersize = 6)\n",
    "    for i in 1:length(problem.deliveries)\n",
    "        for j in 1:length(problem.deliveries)\n",
    "            val = route[i, j]\n",
    "            if val > 0\n",
    "                del1 = problem.deliveries[i]\n",
    "                del2 = problem.deliveries[j]\n",
    "                plot!([del1.x, del2.x], [del1.y, del2.y], legend = false)\n",
    "            end\n",
    "        end\n",
    "    end\n",
    "    return plot_result\n",
    "end;\n",
    "\n",
    "function solve_tsp(deliveries::Int64, solver)\n",
    "    problem=random_instance(deliveries)\n",
    "    travelmatrix = calc_travelmatrix(problem.deliveries)\n",
    "    model = Model(solver)\n",
    "#     set_optimizer_attribute(model, \"OutputFlag\", 0)\n",
    "    # route is an adjence matrix representing a route traveled\n",
    "    route=@variable(model, route[1:length(problem.deliveries), 1:length(problem.deliveries)], Bin)\n",
    "\n",
    "    # ensure all events are planned\n",
    "    @constraint(model, [i = 1:length(problem.deliveries)], sum(route[i, :]) == 1.0)\n",
    "    @constraint(model, [c = 1:length(problem.deliveries)], sum(route[:, c]) == 1.0)\n",
    "    # disallow traveling to itself\n",
    "    @constraint(model, [j = 1:length(problem.deliveries)], route[j, j] == 0)\n",
    "\n",
    "    traveltime = travelmatrix.* route \n",
    "    @objective(model, Min, sum(traveltime))\n",
    "    set_time_limit_sec(model, 60.0)\n",
    "    optimize!(model)\n",
    "    route_val = JuMP.value.(route)\n",
    "    routes_copy = deepcopy(route_val)\n",
    "    iterations =0\n",
    "    max_iter = 20\n",
    "    while has_sub_tours(model, route)\n",
    "        optimize!(model)\n",
    "#         println(model)\n",
    "        route_val = JuMP.value.(route)\n",
    "#         println(route_val)\n",
    "        if iterations >= max_iter\n",
    "            break\n",
    "        end\n",
    "        iterations += 1\n",
    "    end\n",
    "    println(\"Done in $iterations iterations\")\n",
    "    val= Int64.(JuMP.value.(route))\n",
    "    println(shortest_cycle(val))\n",
    "    println(val)\n",
    "    return display_solution(problem, route_val)\n",
    "end\n",
    "\n",
    "solve_tsp(5, GLPK.Optimizer)\n"
   ]
  },
  {
   "cell_type": "code",
   "execution_count": 162,
   "id": "3c28322b",
   "metadata": {},
   "outputs": [],
   "source": [
    "gmod"
   ]
  },
  {
   "cell_type": "code",
   "execution_count": 14,
   "id": "114b17b5",
   "metadata": {},
   "outputs": [
    {
     "data": {
      "text/plain": [
       "BenchmarkTools.Trial: 20 samples with 3 evaluations.\n",
       " Range \u001b[90m(\u001b[39m\u001b[36m\u001b[1mmin\u001b[22m\u001b[39m … \u001b[35mmax\u001b[39m\u001b[90m):  \u001b[39m\u001b[36m\u001b[1m 49.265 ms\u001b[22m\u001b[39m … \u001b[35m   2.590 s\u001b[39m  \u001b[90m┊\u001b[39m GC \u001b[90m(\u001b[39mmin … max\u001b[90m): \u001b[39m0.00% … 0.08%\n",
       " Time  \u001b[90m(\u001b[39m\u001b[34m\u001b[1mmedian\u001b[22m\u001b[39m\u001b[90m):     \u001b[39m\u001b[34m\u001b[1m374.093 ms               \u001b[22m\u001b[39m\u001b[90m┊\u001b[39m GC \u001b[90m(\u001b[39mmedian\u001b[90m):    \u001b[39m0.00%\n",
       " Time  \u001b[90m(\u001b[39m\u001b[32m\u001b[1mmean\u001b[22m\u001b[39m ± \u001b[32mσ\u001b[39m\u001b[90m):   \u001b[39m\u001b[32m\u001b[1m529.068 ms\u001b[22m\u001b[39m ± \u001b[32m570.773 ms\u001b[39m  \u001b[90m┊\u001b[39m GC \u001b[90m(\u001b[39mmean ± σ\u001b[90m):  \u001b[39m0.15% ± 0.25%\n",
       "\n",
       "  \u001b[39m█\u001b[39m█\u001b[39m▁\u001b[39m▁\u001b[39m▁\u001b[39m▁\u001b[39m▁\u001b[39m█\u001b[34m \u001b[39m\u001b[39m▁\u001b[39m \u001b[39m█\u001b[32m \u001b[39m\u001b[39m \u001b[39m▁\u001b[39m \u001b[39m \u001b[39m▁\u001b[39m \u001b[39m█\u001b[39m \u001b[39m \u001b[39m \u001b[39m \u001b[39m \u001b[39m▁\u001b[39m \u001b[39m \u001b[39m \u001b[39m \u001b[39m \u001b[39m \u001b[39m \u001b[39m \u001b[39m \u001b[39m \u001b[39m \u001b[39m \u001b[39m \u001b[39m \u001b[39m \u001b[39m \u001b[39m \u001b[39m \u001b[39m \u001b[39m \u001b[39m \u001b[39m \u001b[39m \u001b[39m \u001b[39m \u001b[39m \u001b[39m \u001b[39m \u001b[39m \u001b[39m \u001b[39m \u001b[39m \u001b[39m \u001b[39m \u001b[39m▁\u001b[39m \u001b[39m \n",
       "  \u001b[39m█\u001b[39m█\u001b[39m█\u001b[39m█\u001b[39m█\u001b[39m█\u001b[39m█\u001b[39m█\u001b[34m▁\u001b[39m\u001b[39m█\u001b[39m▁\u001b[39m█\u001b[32m▁\u001b[39m\u001b[39m▁\u001b[39m█\u001b[39m▁\u001b[39m▁\u001b[39m█\u001b[39m▁\u001b[39m█\u001b[39m▁\u001b[39m▁\u001b[39m▁\u001b[39m▁\u001b[39m▁\u001b[39m█\u001b[39m▁\u001b[39m▁\u001b[39m▁\u001b[39m▁\u001b[39m▁\u001b[39m▁\u001b[39m▁\u001b[39m▁\u001b[39m▁\u001b[39m▁\u001b[39m▁\u001b[39m▁\u001b[39m▁\u001b[39m▁\u001b[39m▁\u001b[39m▁\u001b[39m▁\u001b[39m▁\u001b[39m▁\u001b[39m▁\u001b[39m▁\u001b[39m▁\u001b[39m▁\u001b[39m▁\u001b[39m▁\u001b[39m▁\u001b[39m▁\u001b[39m▁\u001b[39m▁\u001b[39m▁\u001b[39m▁\u001b[39m▁\u001b[39m▁\u001b[39m▁\u001b[39m█\u001b[39m \u001b[39m▁\n",
       "  49.3 ms\u001b[90m          Histogram: frequency by time\u001b[39m          2.59 s \u001b[0m\u001b[1m<\u001b[22m\n",
       "\n",
       " Memory estimate\u001b[90m: \u001b[39m\u001b[33m5.99 MiB\u001b[39m, allocs estimate\u001b[90m: \u001b[39m\u001b[33m218079\u001b[39m."
      ]
     },
     "execution_count": 14,
     "metadata": {},
     "output_type": "execute_result"
    }
   ],
   "source": [
    "@benchmark solve_tsp(20, GLPK.Optimizer) evals=3 samples=20 seconds=3600"
   ]
  },
  {
   "cell_type": "code",
   "execution_count": 4,
   "id": "f16274ed",
   "metadata": {},
   "outputs": [
    {
     "data": {
      "text/plain": [
       "BenchmarkTools.Trial: 20 samples with 3 evaluations.\n",
       " Range \u001b[90m(\u001b[39m\u001b[36m\u001b[1mmin\u001b[22m\u001b[39m … \u001b[35mmax\u001b[39m\u001b[90m):  \u001b[39m\u001b[36m\u001b[1m 73.846 ms\u001b[22m\u001b[39m … \u001b[35m4.737 s\u001b[39m  \u001b[90m┊\u001b[39m GC \u001b[90m(\u001b[39mmin … max\u001b[90m): \u001b[39m0.00% … 0.03%\n",
       " Time  \u001b[90m(\u001b[39m\u001b[34m\u001b[1mmedian\u001b[22m\u001b[39m\u001b[90m):     \u001b[39m\u001b[34m\u001b[1m595.524 ms            \u001b[22m\u001b[39m\u001b[90m┊\u001b[39m GC \u001b[90m(\u001b[39mmedian\u001b[90m):    \u001b[39m0.23%\n",
       " Time  \u001b[90m(\u001b[39m\u001b[32m\u001b[1mmean\u001b[22m\u001b[39m ± \u001b[32mσ\u001b[39m\u001b[90m):   \u001b[39m\u001b[32m\u001b[1m892.395 ms\u001b[22m\u001b[39m ± \u001b[32m1.063 s\u001b[39m  \u001b[90m┊\u001b[39m GC \u001b[90m(\u001b[39mmean ± σ\u001b[90m):  \u001b[39m0.10% ± 0.43%\n",
       "\n",
       "  \u001b[39m█\u001b[39m \u001b[39m▁\u001b[39m \u001b[39m \u001b[39m \u001b[34m▁\u001b[39m\u001b[39m \u001b[39m \u001b[39m \u001b[32m \u001b[39m\u001b[39m \u001b[39m \u001b[39m \u001b[39m \u001b[39m \u001b[39m \u001b[39m \u001b[39m \u001b[39m \u001b[39m \u001b[39m \u001b[39m \u001b[39m \u001b[39m \u001b[39m \u001b[39m \u001b[39m \u001b[39m \u001b[39m \u001b[39m \u001b[39m \u001b[39m \u001b[39m \u001b[39m \u001b[39m \u001b[39m \u001b[39m \u001b[39m \u001b[39m \u001b[39m \u001b[39m \u001b[39m \u001b[39m \u001b[39m \u001b[39m \u001b[39m \u001b[39m \u001b[39m \u001b[39m \u001b[39m \u001b[39m \u001b[39m \u001b[39m \u001b[39m \u001b[39m \u001b[39m \u001b[39m \u001b[39m \u001b[39m \n",
       "  \u001b[39m█\u001b[39m▆\u001b[39m█\u001b[39m▆\u001b[39m▆\u001b[39m▁\u001b[34m█\u001b[39m\u001b[39m▆\u001b[39m▁\u001b[39m▆\u001b[32m▁\u001b[39m\u001b[39m▁\u001b[39m▆\u001b[39m▆\u001b[39m▆\u001b[39m▆\u001b[39m▁\u001b[39m▆\u001b[39m▁\u001b[39m▁\u001b[39m▁\u001b[39m▁\u001b[39m▁\u001b[39m▁\u001b[39m▁\u001b[39m▆\u001b[39m▁\u001b[39m▁\u001b[39m▁\u001b[39m▁\u001b[39m▁\u001b[39m▁\u001b[39m▁\u001b[39m▁\u001b[39m▁\u001b[39m▁\u001b[39m▁\u001b[39m▁\u001b[39m▁\u001b[39m▁\u001b[39m▁\u001b[39m▁\u001b[39m▁\u001b[39m▁\u001b[39m▁\u001b[39m▁\u001b[39m▁\u001b[39m▁\u001b[39m▁\u001b[39m▁\u001b[39m▁\u001b[39m▁\u001b[39m▁\u001b[39m▁\u001b[39m▁\u001b[39m▁\u001b[39m▁\u001b[39m▆\u001b[39m \u001b[39m▁\n",
       "  73.8 ms\u001b[90m        Histogram: frequency by time\u001b[39m         4.74 s \u001b[0m\u001b[1m<\u001b[22m\n",
       "\n",
       " Memory estimate\u001b[90m: \u001b[39m\u001b[33m6.69 MiB\u001b[39m, allocs estimate\u001b[90m: \u001b[39m\u001b[33m263043\u001b[39m."
      ]
     },
     "execution_count": 4,
     "metadata": {},
     "output_type": "execute_result"
    }
   ],
   "source": [
    "@benchmark solve_tsp(21, GLPK.Optimizer) evals=3 samples=20 seconds=3600"
   ]
  },
  {
   "cell_type": "code",
   "execution_count": 5,
   "id": "1575c278",
   "metadata": {},
   "outputs": [
    {
     "data": {
      "text/plain": [
       "BenchmarkTools.Trial: 20 samples with 3 evaluations.\n",
       " Range \u001b[90m(\u001b[39m\u001b[36m\u001b[1mmin\u001b[22m\u001b[39m … \u001b[35mmax\u001b[39m\u001b[90m):  \u001b[39m\u001b[36m\u001b[1m110.582 ms\u001b[22m\u001b[39m … \u001b[35m9.828 s\u001b[39m  \u001b[90m┊\u001b[39m GC \u001b[90m(\u001b[39mmin … max\u001b[90m): \u001b[39m0.00% … 0.02%\n",
       " Time  \u001b[90m(\u001b[39m\u001b[34m\u001b[1mmedian\u001b[22m\u001b[39m\u001b[90m):     \u001b[39m\u001b[34m\u001b[1m   1.917 s            \u001b[22m\u001b[39m\u001b[90m┊\u001b[39m GC \u001b[90m(\u001b[39mmedian\u001b[90m):    \u001b[39m0.07%\n",
       " Time  \u001b[90m(\u001b[39m\u001b[32m\u001b[1mmean\u001b[22m\u001b[39m ± \u001b[32mσ\u001b[39m\u001b[90m):   \u001b[39m\u001b[32m\u001b[1m   2.719 s\u001b[22m\u001b[39m ± \u001b[32m2.701 s\u001b[39m  \u001b[90m┊\u001b[39m GC \u001b[90m(\u001b[39mmean ± σ\u001b[90m):  \u001b[39m0.05% ± 0.19%\n",
       "\n",
       "  \u001b[39m█\u001b[39m▃\u001b[39m \u001b[39m \u001b[39m \u001b[39m \u001b[39m \u001b[39m \u001b[39m \u001b[39m \u001b[34m▃\u001b[39m\u001b[39m▃\u001b[39m \u001b[39m \u001b[39m \u001b[39m \u001b[32m \u001b[39m\u001b[39m \u001b[39m \u001b[39m \u001b[39m \u001b[39m \u001b[39m \u001b[39m \u001b[39m \u001b[39m▃\u001b[39m \u001b[39m \u001b[39m \u001b[39m \u001b[39m \u001b[39m \u001b[39m \u001b[39m \u001b[39m \u001b[39m \u001b[39m \u001b[39m \u001b[39m \u001b[39m \u001b[39m \u001b[39m \u001b[39m \u001b[39m \u001b[39m \u001b[39m \u001b[39m \u001b[39m \u001b[39m \u001b[39m \u001b[39m \u001b[39m \u001b[39m \u001b[39m \u001b[39m \u001b[39m \u001b[39m \u001b[39m \u001b[39m \u001b[39m \n",
       "  \u001b[39m█\u001b[39m█\u001b[39m▇\u001b[39m▇\u001b[39m▁\u001b[39m▁\u001b[39m▁\u001b[39m▇\u001b[39m▁\u001b[39m▁\u001b[34m█\u001b[39m\u001b[39m█\u001b[39m▇\u001b[39m▁\u001b[39m▁\u001b[39m▁\u001b[32m▁\u001b[39m\u001b[39m▁\u001b[39m▁\u001b[39m▇\u001b[39m▁\u001b[39m▁\u001b[39m▁\u001b[39m▁\u001b[39m▁\u001b[39m█\u001b[39m▁\u001b[39m▁\u001b[39m▁\u001b[39m▁\u001b[39m▇\u001b[39m▁\u001b[39m▁\u001b[39m▁\u001b[39m▁\u001b[39m▁\u001b[39m▇\u001b[39m▁\u001b[39m▁\u001b[39m▁\u001b[39m▁\u001b[39m▁\u001b[39m▇\u001b[39m▁\u001b[39m▁\u001b[39m▁\u001b[39m▁\u001b[39m▁\u001b[39m▁\u001b[39m▁\u001b[39m▁\u001b[39m▁\u001b[39m▁\u001b[39m▁\u001b[39m▁\u001b[39m▁\u001b[39m▁\u001b[39m▇\u001b[39m \u001b[39m▁\n",
       "  111 ms\u001b[90m         Histogram: frequency by time\u001b[39m         9.83 s \u001b[0m\u001b[1m<\u001b[22m\n",
       "\n",
       " Memory estimate\u001b[90m: \u001b[39m\u001b[33m9.02 MiB\u001b[39m, allocs estimate\u001b[90m: \u001b[39m\u001b[33m347515\u001b[39m."
      ]
     },
     "execution_count": 5,
     "metadata": {},
     "output_type": "execute_result"
    }
   ],
   "source": [
    "@benchmark solve_tsp(22, GLPK.Optimizer) evals=3 samples=20 seconds=3600"
   ]
  },
  {
   "cell_type": "code",
   "execution_count": 21,
   "id": "87399eec",
   "metadata": {},
   "outputs": [
    {
     "name": "stdout",
     "output_type": "stream",
     "text": [
      "Set parameter TimeLimit to value 60\n",
      "Set parameter TimeLimit to value 60\n",
      "Set parameter TimeLimit to value 60\n",
      "Set parameter TimeLimit to value 60\n",
      "Set parameter TimeLimit to value 60\n",
      "Set parameter TimeLimit to value 60\n",
      "Set parameter TimeLimit to value 60\n",
      "Set parameter TimeLimit to value 60\n",
      "Set parameter TimeLimit to value 60\n",
      "Set parameter TimeLimit to value 60\n",
      "Set parameter TimeLimit to value 60\n",
      "Set parameter TimeLimit to value 60\n",
      "Set parameter TimeLimit to value 60\n",
      "Set parameter TimeLimit to value 60\n",
      "Set parameter TimeLimit to value 60\n",
      "Set parameter TimeLimit to value 60\n",
      "Set parameter TimeLimit to value 60\n",
      "Set parameter TimeLimit to value 60\n",
      "Set parameter TimeLimit to value 60\n",
      "Set parameter TimeLimit to value 60\n",
      "Set parameter TimeLimit to value 60\n",
      "Set parameter TimeLimit to value 60\n",
      "Set parameter TimeLimit to value 60\n",
      "Set parameter TimeLimit to value 60\n",
      "Set parameter TimeLimit to value 60\n",
      "Set parameter TimeLimit to value 60\n",
      "Set parameter TimeLimit to value 60\n",
      "Set parameter TimeLimit to value 60\n",
      "Set parameter TimeLimit to value 60\n",
      "Set parameter TimeLimit to value 60\n",
      "Set parameter TimeLimit to value 60\n",
      "Set parameter TimeLimit to value 60\n",
      "Set parameter TimeLimit to value 60\n",
      "Set parameter TimeLimit to value 60\n",
      "Set parameter TimeLimit to value 60\n",
      "Set parameter TimeLimit to value 60\n",
      "Set parameter TimeLimit to value 60\n",
      "Set parameter TimeLimit to value 60\n",
      "Set parameter TimeLimit to value 60\n",
      "Set parameter TimeLimit to value 60\n",
      "Set parameter TimeLimit to value 60\n",
      "Set parameter TimeLimit to value 60\n",
      "Set parameter TimeLimit to value 60\n",
      "Set parameter TimeLimit to value 60\n",
      "Set parameter TimeLimit to value 60\n",
      "Set parameter TimeLimit to value 60\n",
      "Set parameter TimeLimit to value 60\n",
      "Set parameter TimeLimit to value 60\n",
      "Set parameter TimeLimit to value 60\n",
      "Set parameter TimeLimit to value 60\n",
      "Set parameter TimeLimit to value 60\n",
      "Set parameter TimeLimit to value 60\n",
      "Set parameter TimeLimit to value 60\n",
      "Set parameter TimeLimit to value 60\n",
      "Set parameter TimeLimit to value 60\n",
      "Set parameter TimeLimit to value 60\n",
      "Set parameter TimeLimit to value 60\n",
      "Set parameter TimeLimit to value 60\n",
      "Set parameter TimeLimit to value 60\n",
      "Set parameter TimeLimit to value 60\n",
      "Set parameter TimeLimit to value 60\n"
     ]
    },
    {
     "data": {
      "text/plain": [
       "BenchmarkTools.Trial: 20 samples with 3 evaluations.\n",
       " Range \u001b[90m(\u001b[39m\u001b[36m\u001b[1mmin\u001b[22m\u001b[39m … \u001b[35mmax\u001b[39m\u001b[90m):  \u001b[39m\u001b[36m\u001b[1m261.217 ms\u001b[22m\u001b[39m … \u001b[35m   4.081 s\u001b[39m  \u001b[90m┊\u001b[39m GC \u001b[90m(\u001b[39mmin … max\u001b[90m): \u001b[39m0.00% … 0.05%\n",
       " Time  \u001b[90m(\u001b[39m\u001b[34m\u001b[1mmedian\u001b[22m\u001b[39m\u001b[90m):     \u001b[39m\u001b[34m\u001b[1m982.174 ms               \u001b[22m\u001b[39m\u001b[90m┊\u001b[39m GC \u001b[90m(\u001b[39mmedian\u001b[90m):    \u001b[39m0.00%\n",
       " Time  \u001b[90m(\u001b[39m\u001b[32m\u001b[1mmean\u001b[22m\u001b[39m ± \u001b[32mσ\u001b[39m\u001b[90m):   \u001b[39m\u001b[32m\u001b[1m   1.139 s\u001b[22m\u001b[39m ± \u001b[32m958.876 ms\u001b[39m  \u001b[90m┊\u001b[39m GC \u001b[90m(\u001b[39mmean ± σ\u001b[90m):  \u001b[39m0.08% ± 0.10%\n",
       "\n",
       "  \u001b[39m█\u001b[39m \u001b[39m \u001b[39m▄\u001b[39m \u001b[39m \u001b[39m \u001b[39m \u001b[39m \u001b[39m \u001b[39m \u001b[34m▁\u001b[39m\u001b[39m \u001b[39m \u001b[32m \u001b[39m\u001b[39m \u001b[39m▁\u001b[39m \u001b[39m \u001b[39m \u001b[39m \u001b[39m \u001b[39m▁\u001b[39m \u001b[39m \u001b[39m \u001b[39m \u001b[39m \u001b[39m \u001b[39m \u001b[39m \u001b[39m \u001b[39m \u001b[39m \u001b[39m \u001b[39m \u001b[39m \u001b[39m \u001b[39m \u001b[39m \u001b[39m \u001b[39m \u001b[39m \u001b[39m \u001b[39m \u001b[39m \u001b[39m \u001b[39m \u001b[39m \u001b[39m \u001b[39m \u001b[39m \u001b[39m \u001b[39m \u001b[39m \u001b[39m \u001b[39m \u001b[39m \u001b[39m \u001b[39m \u001b[39m \u001b[39m \u001b[39m \n",
       "  \u001b[39m█\u001b[39m▁\u001b[39m▁\u001b[39m█\u001b[39m▁\u001b[39m▁\u001b[39m▆\u001b[39m▁\u001b[39m▆\u001b[39m▁\u001b[39m▁\u001b[34m█\u001b[39m\u001b[39m▁\u001b[39m▆\u001b[32m▆\u001b[39m\u001b[39m▁\u001b[39m█\u001b[39m▁\u001b[39m▁\u001b[39m▁\u001b[39m▆\u001b[39m▁\u001b[39m█\u001b[39m▁\u001b[39m▁\u001b[39m▁\u001b[39m▁\u001b[39m▁\u001b[39m▁\u001b[39m▁\u001b[39m▁\u001b[39m▁\u001b[39m▁\u001b[39m▁\u001b[39m▁\u001b[39m▁\u001b[39m▁\u001b[39m▁\u001b[39m▁\u001b[39m▁\u001b[39m▁\u001b[39m▁\u001b[39m▁\u001b[39m▆\u001b[39m▁\u001b[39m▁\u001b[39m▁\u001b[39m▁\u001b[39m▁\u001b[39m▁\u001b[39m▁\u001b[39m▁\u001b[39m▁\u001b[39m▁\u001b[39m▁\u001b[39m▁\u001b[39m▁\u001b[39m▁\u001b[39m▁\u001b[39m▁\u001b[39m▆\u001b[39m \u001b[39m▁\n",
       "  261 ms\u001b[90m           Histogram: frequency by time\u001b[39m          4.08 s \u001b[0m\u001b[1m<\u001b[22m\n",
       "\n",
       " Memory estimate\u001b[90m: \u001b[39m\u001b[33m5.95 MiB\u001b[39m, allocs estimate\u001b[90m: \u001b[39m\u001b[33m219053\u001b[39m."
      ]
     },
     "execution_count": 21,
     "metadata": {},
     "output_type": "execute_result"
    }
   ],
   "source": [
    "@benchmark solve_tsp(20, Gurobi.Optimizer) evals=3 samples=20 seconds=3600"
   ]
  },
  {
   "cell_type": "code",
   "execution_count": 22,
   "id": "927e755f",
   "metadata": {},
   "outputs": [
    {
     "name": "stdout",
     "output_type": "stream",
     "text": [
      "Set parameter TimeLimit to value 60\n",
      "Set parameter TimeLimit to value 60\n",
      "Set parameter TimeLimit to value 60\n",
      "Set parameter TimeLimit to value 60\n",
      "Set parameter TimeLimit to value 60\n",
      "Set parameter TimeLimit to value 60\n",
      "Set parameter TimeLimit to value 60\n",
      "Set parameter TimeLimit to value 60\n",
      "Set parameter TimeLimit to value 60\n",
      "Set parameter TimeLimit to value 60\n",
      "Set parameter TimeLimit to value 60\n",
      "Set parameter TimeLimit to value 60\n",
      "Set parameter TimeLimit to value 60\n",
      "Set parameter TimeLimit to value 60\n",
      "Set parameter TimeLimit to value 60\n",
      "Set parameter TimeLimit to value 60\n",
      "Set parameter TimeLimit to value 60\n",
      "Set parameter TimeLimit to value 60\n",
      "Set parameter TimeLimit to value 60\n",
      "Set parameter TimeLimit to value 60\n",
      "Set parameter TimeLimit to value 60\n",
      "Set parameter TimeLimit to value 60\n",
      "Set parameter TimeLimit to value 60\n",
      "Set parameter TimeLimit to value 60\n",
      "Set parameter TimeLimit to value 60\n",
      "Set parameter TimeLimit to value 60\n",
      "Set parameter TimeLimit to value 60\n",
      "Set parameter TimeLimit to value 60\n",
      "Set parameter TimeLimit to value 60\n",
      "Set parameter TimeLimit to value 60\n",
      "Set parameter TimeLimit to value 60\n",
      "Set parameter TimeLimit to value 60\n",
      "Set parameter TimeLimit to value 60\n",
      "Set parameter TimeLimit to value 60\n",
      "Set parameter TimeLimit to value 60\n",
      "Set parameter TimeLimit to value 60\n",
      "Set parameter TimeLimit to value 60\n",
      "Set parameter TimeLimit to value 60\n",
      "Set parameter TimeLimit to value 60\n",
      "Set parameter TimeLimit to value 60\n",
      "Set parameter TimeLimit to value 60\n",
      "Set parameter TimeLimit to value 60\n",
      "Set parameter TimeLimit to value 60\n",
      "Set parameter TimeLimit to value 60\n",
      "Set parameter TimeLimit to value 60\n",
      "Set parameter TimeLimit to value 60\n",
      "Set parameter TimeLimit to value 60\n",
      "Set parameter TimeLimit to value 60\n",
      "Set parameter TimeLimit to value 60\n",
      "Set parameter TimeLimit to value 60\n",
      "Set parameter TimeLimit to value 60\n",
      "Set parameter TimeLimit to value 60\n",
      "Set parameter TimeLimit to value 60\n",
      "Set parameter TimeLimit to value 60\n",
      "Set parameter TimeLimit to value 60\n",
      "Set parameter TimeLimit to value 60\n",
      "Set parameter TimeLimit to value 60\n",
      "Set parameter TimeLimit to value 60\n",
      "Set parameter TimeLimit to value 60\n",
      "Set parameter TimeLimit to value 60\n",
      "Set parameter TimeLimit to value 60\n"
     ]
    },
    {
     "data": {
      "text/plain": [
       "BenchmarkTools.Trial: 20 samples with 3 evaluations.\n",
       " Range \u001b[90m(\u001b[39m\u001b[36m\u001b[1mmin\u001b[22m\u001b[39m … \u001b[35mmax\u001b[39m\u001b[90m):  \u001b[39m\u001b[36m\u001b[1m272.636 ms\u001b[22m\u001b[39m … \u001b[35m7.167 s\u001b[39m  \u001b[90m┊\u001b[39m GC \u001b[90m(\u001b[39mmin … max\u001b[90m): \u001b[39m0.00% … 0.00%\n",
       " Time  \u001b[90m(\u001b[39m\u001b[34m\u001b[1mmedian\u001b[22m\u001b[39m\u001b[90m):     \u001b[39m\u001b[34m\u001b[1m   1.340 s            \u001b[22m\u001b[39m\u001b[90m┊\u001b[39m GC \u001b[90m(\u001b[39mmedian\u001b[90m):    \u001b[39m0.08%\n",
       " Time  \u001b[90m(\u001b[39m\u001b[32m\u001b[1mmean\u001b[22m\u001b[39m ± \u001b[32mσ\u001b[39m\u001b[90m):   \u001b[39m\u001b[32m\u001b[1m   1.913 s\u001b[22m\u001b[39m ± \u001b[32m1.656 s\u001b[39m  \u001b[90m┊\u001b[39m GC \u001b[90m(\u001b[39mmean ± σ\u001b[90m):  \u001b[39m0.06% ± 0.19%\n",
       "\n",
       "  \u001b[39m▃\u001b[39m \u001b[39m \u001b[39m▃\u001b[39m \u001b[39m \u001b[39m \u001b[39m█\u001b[34m \u001b[39m\u001b[39m \u001b[39m \u001b[39m \u001b[39m \u001b[39m \u001b[32m \u001b[39m\u001b[39m \u001b[39m \u001b[39m \u001b[39m \u001b[39m \u001b[39m \u001b[39m▃\u001b[39m \u001b[39m \u001b[39m \u001b[39m \u001b[39m \u001b[39m \u001b[39m \u001b[39m \u001b[39m \u001b[39m \u001b[39m \u001b[39m \u001b[39m \u001b[39m \u001b[39m \u001b[39m \u001b[39m \u001b[39m \u001b[39m \u001b[39m \u001b[39m \u001b[39m \u001b[39m \u001b[39m \u001b[39m \u001b[39m \u001b[39m \u001b[39m \u001b[39m \u001b[39m \u001b[39m \u001b[39m \u001b[39m \u001b[39m \u001b[39m \u001b[39m \u001b[39m \u001b[39m \n",
       "  \u001b[39m█\u001b[39m▁\u001b[39m▁\u001b[39m█\u001b[39m▇\u001b[39m▇\u001b[39m▁\u001b[39m█\u001b[34m▇\u001b[39m\u001b[39m▇\u001b[39m▁\u001b[39m▁\u001b[39m▇\u001b[39m▇\u001b[32m▇\u001b[39m\u001b[39m▇\u001b[39m▁\u001b[39m▁\u001b[39m▁\u001b[39m▁\u001b[39m▁\u001b[39m█\u001b[39m▁\u001b[39m▁\u001b[39m▁\u001b[39m▁\u001b[39m▁\u001b[39m▁\u001b[39m▁\u001b[39m▁\u001b[39m▁\u001b[39m▇\u001b[39m▇\u001b[39m▁\u001b[39m▁\u001b[39m▁\u001b[39m▁\u001b[39m▁\u001b[39m▁\u001b[39m▁\u001b[39m▁\u001b[39m▁\u001b[39m▁\u001b[39m▁\u001b[39m▁\u001b[39m▁\u001b[39m▁\u001b[39m▁\u001b[39m▁\u001b[39m▁\u001b[39m▁\u001b[39m▁\u001b[39m▁\u001b[39m▁\u001b[39m▁\u001b[39m▁\u001b[39m▁\u001b[39m▇\u001b[39m \u001b[39m▁\n",
       "  273 ms\u001b[90m         Histogram: frequency by time\u001b[39m         7.17 s \u001b[0m\u001b[1m<\u001b[22m\n",
       "\n",
       " Memory estimate\u001b[90m: \u001b[39m\u001b[33m6.68 MiB\u001b[39m, allocs estimate\u001b[90m: \u001b[39m\u001b[33m247805\u001b[39m."
      ]
     },
     "execution_count": 22,
     "metadata": {},
     "output_type": "execute_result"
    }
   ],
   "source": [
    "@benchmark solve_tsp(21, Gurobi.Optimizer) evals=3 samples=20 seconds=3600"
   ]
  },
  {
   "cell_type": "code",
   "execution_count": 23,
   "id": "d07747f1",
   "metadata": {},
   "outputs": [
    {
     "name": "stdout",
     "output_type": "stream",
     "text": [
      "Set parameter TimeLimit to value 60\n",
      "Set parameter TimeLimit to value 60\n",
      "Set parameter TimeLimit to value 60\n",
      "Set parameter TimeLimit to value 60\n",
      "Set parameter TimeLimit to value 60\n",
      "Set parameter TimeLimit to value 60\n",
      "Set parameter TimeLimit to value 60\n",
      "Set parameter TimeLimit to value 60\n",
      "Set parameter TimeLimit to value 60\n",
      "Set parameter TimeLimit to value 60\n",
      "Set parameter TimeLimit to value 60\n",
      "Set parameter TimeLimit to value 60\n",
      "Set parameter TimeLimit to value 60\n",
      "Set parameter TimeLimit to value 60\n",
      "Set parameter TimeLimit to value 60\n",
      "Set parameter TimeLimit to value 60\n",
      "Set parameter TimeLimit to value 60\n",
      "Set parameter TimeLimit to value 60\n",
      "Set parameter TimeLimit to value 60\n",
      "Set parameter TimeLimit to value 60\n",
      "Set parameter TimeLimit to value 60\n",
      "Set parameter TimeLimit to value 60\n",
      "Set parameter TimeLimit to value 60\n",
      "Set parameter TimeLimit to value 60\n",
      "Set parameter TimeLimit to value 60\n",
      "Set parameter TimeLimit to value 60\n",
      "Set parameter TimeLimit to value 60\n",
      "Set parameter TimeLimit to value 60\n",
      "Set parameter TimeLimit to value 60\n",
      "Set parameter TimeLimit to value 60\n",
      "Set parameter TimeLimit to value 60\n",
      "Set parameter TimeLimit to value 60\n",
      "Set parameter TimeLimit to value 60\n",
      "Set parameter TimeLimit to value 60\n",
      "Set parameter TimeLimit to value 60\n",
      "Set parameter TimeLimit to value 60\n",
      "Set parameter TimeLimit to value 60\n",
      "Set parameter TimeLimit to value 60\n",
      "Set parameter TimeLimit to value 60\n",
      "Set parameter TimeLimit to value 60\n",
      "Set parameter TimeLimit to value 60\n",
      "Set parameter TimeLimit to value 60\n",
      "Set parameter TimeLimit to value 60\n",
      "Set parameter TimeLimit to value 60\n",
      "Set parameter TimeLimit to value 60\n",
      "Set parameter TimeLimit to value 60\n",
      "Set parameter TimeLimit to value 60\n",
      "Set parameter TimeLimit to value 60\n",
      "Set parameter TimeLimit to value 60\n",
      "Set parameter TimeLimit to value 60\n",
      "Set parameter TimeLimit to value 60\n",
      "Set parameter TimeLimit to value 60\n",
      "Set parameter TimeLimit to value 60\n",
      "Set parameter TimeLimit to value 60\n",
      "Set parameter TimeLimit to value 60\n",
      "Set parameter TimeLimit to value 60\n",
      "Set parameter TimeLimit to value 60\n",
      "Set parameter TimeLimit to value 60\n",
      "Set parameter TimeLimit to value 60\n",
      "Set parameter TimeLimit to value 60\n",
      "Set parameter TimeLimit to value 60\n"
     ]
    },
    {
     "data": {
      "text/plain": [
       "BenchmarkTools.Trial: 20 samples with 3 evaluations.\n",
       " Range \u001b[90m(\u001b[39m\u001b[36m\u001b[1mmin\u001b[22m\u001b[39m … \u001b[35mmax\u001b[39m\u001b[90m):  \u001b[39m\u001b[36m\u001b[1m391.703 ms\u001b[22m\u001b[39m … \u001b[35m7.620 s\u001b[39m  \u001b[90m┊\u001b[39m GC \u001b[90m(\u001b[39mmin … max\u001b[90m): \u001b[39m0.00% … 0.03%\n",
       " Time  \u001b[90m(\u001b[39m\u001b[34m\u001b[1mmedian\u001b[22m\u001b[39m\u001b[90m):     \u001b[39m\u001b[34m\u001b[1m   1.755 s            \u001b[22m\u001b[39m\u001b[90m┊\u001b[39m GC \u001b[90m(\u001b[39mmedian\u001b[90m):    \u001b[39m0.12%\n",
       " Time  \u001b[90m(\u001b[39m\u001b[32m\u001b[1mmean\u001b[22m\u001b[39m ± \u001b[32mσ\u001b[39m\u001b[90m):   \u001b[39m\u001b[32m\u001b[1m   2.459 s\u001b[22m\u001b[39m ± \u001b[32m2.099 s\u001b[39m  \u001b[90m┊\u001b[39m GC \u001b[90m(\u001b[39mmean ± σ\u001b[90m):  \u001b[39m0.06% ± 0.07%\n",
       "\n",
       "  \u001b[39m█\u001b[39m \u001b[39m█\u001b[39m▁\u001b[39m█\u001b[39m \u001b[39m \u001b[39m \u001b[39m \u001b[39m█\u001b[39m▁\u001b[34m█\u001b[39m\u001b[39m \u001b[39m \u001b[39m \u001b[39m \u001b[39m▁\u001b[32m \u001b[39m\u001b[39m▁\u001b[39m▁\u001b[39m \u001b[39m \u001b[39m \u001b[39m \u001b[39m \u001b[39m \u001b[39m \u001b[39m \u001b[39m \u001b[39m \u001b[39m▁\u001b[39m▁\u001b[39m \u001b[39m▁\u001b[39m \u001b[39m \u001b[39m \u001b[39m \u001b[39m \u001b[39m \u001b[39m \u001b[39m \u001b[39m \u001b[39m \u001b[39m \u001b[39m \u001b[39m \u001b[39m \u001b[39m \u001b[39m \u001b[39m \u001b[39m \u001b[39m \u001b[39m▁\u001b[39m \u001b[39m \u001b[39m \u001b[39m▁\u001b[39m \u001b[39m \n",
       "  \u001b[39m█\u001b[39m▁\u001b[39m█\u001b[39m█\u001b[39m█\u001b[39m▁\u001b[39m▁\u001b[39m▁\u001b[39m▁\u001b[39m█\u001b[39m█\u001b[34m█\u001b[39m\u001b[39m▁\u001b[39m▁\u001b[39m▁\u001b[39m▁\u001b[39m█\u001b[32m▁\u001b[39m\u001b[39m█\u001b[39m█\u001b[39m▁\u001b[39m▁\u001b[39m▁\u001b[39m▁\u001b[39m▁\u001b[39m▁\u001b[39m▁\u001b[39m▁\u001b[39m▁\u001b[39m▁\u001b[39m█\u001b[39m█\u001b[39m▁\u001b[39m█\u001b[39m▁\u001b[39m▁\u001b[39m▁\u001b[39m▁\u001b[39m▁\u001b[39m▁\u001b[39m▁\u001b[39m▁\u001b[39m▁\u001b[39m▁\u001b[39m▁\u001b[39m▁\u001b[39m▁\u001b[39m▁\u001b[39m▁\u001b[39m▁\u001b[39m▁\u001b[39m▁\u001b[39m▁\u001b[39m█\u001b[39m▁\u001b[39m▁\u001b[39m▁\u001b[39m█\u001b[39m \u001b[39m▁\n",
       "  392 ms\u001b[90m         Histogram: frequency by time\u001b[39m         7.62 s \u001b[0m\u001b[1m<\u001b[22m\n",
       "\n",
       " Memory estimate\u001b[90m: \u001b[39m\u001b[33m8.84 MiB\u001b[39m, allocs estimate\u001b[90m: \u001b[39m\u001b[33m348262\u001b[39m."
      ]
     },
     "execution_count": 23,
     "metadata": {},
     "output_type": "execute_result"
    }
   ],
   "source": [
    "@benchmark solve_tsp(22, Gurobi.Optimizer) evals=3 samples=20 seconds=3600"
   ]
  },
  {
   "cell_type": "code",
   "execution_count": null,
   "id": "de08ca22",
   "metadata": {},
   "outputs": [],
   "source": [
    "@benchmark solve_tsp(25, Gurobi.Optimizer) evals=3 samples=20 seconds=3600"
   ]
  },
  {
   "cell_type": "code",
   "execution_count": null,
   "id": "bfea8a36",
   "metadata": {},
   "outputs": [],
   "source": []
  }
 ],
 "metadata": {
  "kernelspec": {
   "display_name": "Julia 1.7.3",
   "language": "julia",
   "name": "julia-1.7"
  },
  "language_info": {
   "file_extension": ".jl",
   "mimetype": "application/julia",
   "name": "julia",
   "version": "1.7.3"
  }
 },
 "nbformat": 4,
 "nbformat_minor": 5
}
