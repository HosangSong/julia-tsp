{
 "cells": [
  {
   "cell_type": "code",
   "execution_count": null,
   "id": "4602daa3",
   "metadata": {},
   "outputs": [],
   "source": []
  },
  {
   "cell_type": "code",
   "execution_count": 1,
   "id": "8fe06e97",
   "metadata": {},
   "outputs": [
    {
     "data": {
      "text/plain": [
       "calc_travelmatrix (generic function with 1 method)"
      ]
     },
     "execution_count": 1,
     "metadata": {},
     "output_type": "execute_result"
    }
   ],
   "source": [
    "struct Delivery\n",
    "    x::Float64\n",
    "    y::Float64\n",
    "end;\n",
    "function random_delivery()\n",
    "    x = rand(0.0:0.1:100.0)\n",
    "    y = rand(0.0:0.1:100.0)\n",
    "    return Delivery(x, y)\n",
    "end;\n",
    "\n",
    "struct TSProblem\n",
    "    deliveries::Array{Delivery}\n",
    "end;\n",
    "\n",
    "function random_instance(n_deliveries)\n",
    "    deliveries = [random_delivery() for _=1:n_deliveries]\n",
    "    problem = TSProblem(deliveries)\n",
    "    return problem\n",
    "end;\n",
    "\n",
    "function dist(del1::Delivery, del2::Delivery)\n",
    "    return sqrt((del1.x - del2.x)^2 + (del1.y - del2.y)^2)\n",
    "end\n",
    "function calc_travelmatrix(deliveries::Array{Delivery})\n",
    "    tm = zeros(Float64, length(deliveries), length(deliveries))\n",
    "    for i = 1:length(deliveries)\n",
    "        for j = 1:length(deliveries)\n",
    "            tm[i, j] = dist(deliveries[i], deliveries[j])\n",
    "        end\n",
    "    end\n",
    "    return tm\n",
    "end\n"
   ]
  },
  {
   "cell_type": "code",
   "execution_count": 19,
   "id": "363db71d",
   "metadata": {},
   "outputs": [],
   "source": [
    "using JuMP\n",
    "\n",
    "import GLPK\n",
    "import EAGO\n",
    "import HiGHS\n",
    "\n",
    "using BenchmarkTools\n",
    "\n",
    "\n",
    "function basic_mtz(problem, solver, supress_output=false)\n",
    "    travelmatrix = calc_travelmatrix(problem.deliveries)\n",
    "    model = Model(solver)\n",
    "    if supress_output\n",
    "        set_optimizer_attribute(model, \"log_to_console\", false)\n",
    "    end\n",
    "    # route is an adjence matrix representing a route traveled\n",
    "    route=@variable(model, route[1:length(problem.deliveries), 1:length(problem.deliveries)], Bin)\n",
    "    # mtzu is a helper variable to ensure no subtours are allowed (only one continous tour)\n",
    "    # see MTZ constraint\n",
    "    mtzu = @variable(model, mtzu[1:length(problem.deliveries)], Int)\n",
    "\n",
    "    # ensure all events are planned\n",
    "    @constraint(model, [i = 1:length(problem.deliveries)], sum(route[i, :]) == 1.0)\n",
    "    # ensure there is just one route\n",
    "    @constraint(model, [c = 1:length(problem.deliveries)], sum(route[:, c]) == 1.0)\n",
    "    # disallow traveling to itself\n",
    "    @constraint(model, [j = 1:length(problem.deliveries)], route[j, j] == 0)\n",
    "\n",
    "    # MTZ constraints for removing subtours\n",
    "    n = length(problem.deliveries)\n",
    "    @constraint(model, [ui = 1:n, uj = 2:n], mtzu[ui] + route[ui, uj] <= mtzu[uj]+ (n - 1) * (1 - route[ui, uj]) )\n",
    "\n",
    "    traveltime = travelmatrix.* route \n",
    "    @objective(model, Min, sum(traveltime))\n",
    "    optimize!(model)\n",
    "end\n",
    "\n",
    "problem=random_instance(5)\n",
    "basic_mtz(problem, EAGO.Optimizer)\n",
    "basic_mtz(problem, GLPK.Optimizer)\n",
    "\n",
    "# nl_solver = optimizer_with_attributes(Ipopt.Optimizer)\n",
    "# juniper_minlp_solver = optimizer_with_attributes(Juniper.Optimizer, \"nl_solver\"=>nl_solver)\n",
    "\n",
    "basic_mtz(problem, HiGHS.Optimizer, true)"
   ]
  },
  {
   "cell_type": "code",
   "execution_count": 3,
   "id": "c50ac51e",
   "metadata": {},
   "outputs": [
    {
     "name": "stdout",
     "output_type": "stream",
     "text": [
      "  0.000750 seconds (3.33 k allocations: 186.484 KiB)\n"
     ]
    }
   ],
   "source": [
    "problem=random_instance(5)\n",
    "@time  basic_mtz(problem, GLPK.Optimizer)"
   ]
  },
  {
   "cell_type": "code",
   "execution_count": 4,
   "id": "50809ee7",
   "metadata": {},
   "outputs": [
    {
     "name": "stdout",
     "output_type": "stream",
     "text": [
      "  0.005408 seconds (8.74 k allocations: 598.047 KiB)\n"
     ]
    }
   ],
   "source": [
    "problem=random_instance(10)\n",
    "@time  basic_mtz(problem, GLPK.Optimizer)"
   ]
  },
  {
   "cell_type": "code",
   "execution_count": 5,
   "id": "7b761015",
   "metadata": {},
   "outputs": [],
   "source": [
    "# problem=random_instance(15)\n",
    "# @time  basic_mtz(problem, GLPK.Optimizer)"
   ]
  },
  {
   "cell_type": "code",
   "execution_count": 6,
   "id": "4a1d0bc5",
   "metadata": {},
   "outputs": [],
   "source": [
    "# problem=random_instance(20)\n",
    "# @time  basic_mtz(problem, GLPK.Optimizer)"
   ]
  },
  {
   "cell_type": "code",
   "execution_count": 7,
   "id": "d72932cd",
   "metadata": {},
   "outputs": [
    {
     "data": {
      "text/plain": [
       "BenchmarkTools.Trial: 20 samples with 3 evaluations.\n",
       " Range \u001b[90m(\u001b[39m\u001b[36m\u001b[1mmin\u001b[22m\u001b[39m … \u001b[35mmax\u001b[39m\u001b[90m):  \u001b[39m\u001b[36m\u001b[1m 2.684 ms\u001b[22m\u001b[39m … \u001b[35m64.186 ms\u001b[39m  \u001b[90m┊\u001b[39m GC \u001b[90m(\u001b[39mmin … max\u001b[90m): \u001b[39m0.00% … 0.00%\n",
       " Time  \u001b[90m(\u001b[39m\u001b[34m\u001b[1mmedian\u001b[22m\u001b[39m\u001b[90m):     \u001b[39m\u001b[34m\u001b[1m16.479 ms              \u001b[22m\u001b[39m\u001b[90m┊\u001b[39m GC \u001b[90m(\u001b[39mmedian\u001b[90m):    \u001b[39m0.00%\n",
       " Time  \u001b[90m(\u001b[39m\u001b[32m\u001b[1mmean\u001b[22m\u001b[39m ± \u001b[32mσ\u001b[39m\u001b[90m):   \u001b[39m\u001b[32m\u001b[1m22.201 ms\u001b[22m\u001b[39m ± \u001b[32m18.491 ms\u001b[39m  \u001b[90m┊\u001b[39m GC \u001b[90m(\u001b[39mmean ± σ\u001b[90m):  \u001b[39m0.00% ± 0.00%\n",
       "\n",
       "  \u001b[39m▃\u001b[39m▃\u001b[39m \u001b[39m \u001b[39m \u001b[39m \u001b[39m \u001b[39m \u001b[39m█\u001b[39m \u001b[39m \u001b[39m \u001b[34m \u001b[39m\u001b[39m \u001b[39m▃\u001b[39m \u001b[39m \u001b[39m \u001b[39m \u001b[32m \u001b[39m\u001b[39m \u001b[39m \u001b[39m \u001b[39m \u001b[39m \u001b[39m \u001b[39m \u001b[39m \u001b[39m \u001b[39m \u001b[39m \u001b[39m \u001b[39m \u001b[39m \u001b[39m \u001b[39m \u001b[39m \u001b[39m \u001b[39m \u001b[39m \u001b[39m \u001b[39m \u001b[39m \u001b[39m \u001b[39m \u001b[39m \u001b[39m \u001b[39m \u001b[39m \u001b[39m \u001b[39m \u001b[39m \u001b[39m \u001b[39m \u001b[39m \u001b[39m \u001b[39m \u001b[39m \u001b[39m \u001b[39m \u001b[39m \n",
       "  \u001b[39m█\u001b[39m█\u001b[39m▁\u001b[39m▁\u001b[39m▁\u001b[39m▁\u001b[39m▇\u001b[39m▇\u001b[39m█\u001b[39m▁\u001b[39m▁\u001b[39m▁\u001b[34m▇\u001b[39m\u001b[39m▁\u001b[39m█\u001b[39m▁\u001b[39m▇\u001b[39m▁\u001b[39m▇\u001b[32m▁\u001b[39m\u001b[39m▁\u001b[39m▁\u001b[39m▁\u001b[39m▁\u001b[39m▁\u001b[39m▁\u001b[39m▁\u001b[39m▁\u001b[39m▇\u001b[39m▁\u001b[39m▁\u001b[39m▁\u001b[39m▁\u001b[39m▁\u001b[39m▁\u001b[39m▇\u001b[39m▁\u001b[39m▇\u001b[39m▁\u001b[39m▁\u001b[39m▁\u001b[39m▁\u001b[39m▁\u001b[39m▁\u001b[39m▁\u001b[39m▁\u001b[39m▇\u001b[39m▁\u001b[39m▇\u001b[39m▁\u001b[39m▁\u001b[39m▁\u001b[39m▁\u001b[39m▁\u001b[39m▁\u001b[39m▁\u001b[39m▁\u001b[39m▁\u001b[39m▇\u001b[39m \u001b[39m▁\n",
       "  2.68 ms\u001b[90m         Histogram: frequency by time\u001b[39m        64.2 ms \u001b[0m\u001b[1m<\u001b[22m\n",
       "\n",
       " Memory estimate\u001b[90m: \u001b[39m\u001b[33m598.05 KiB\u001b[39m, allocs estimate\u001b[90m: \u001b[39m\u001b[33m8744\u001b[39m."
      ]
     },
     "execution_count": 7,
     "metadata": {},
     "output_type": "execute_result"
    }
   ],
   "source": [
    "@benchmark basic_mtz(p, GLPK.Optimizer) setup=(p=random_instance(10)) evals=3 samples=20 seconds=60"
   ]
  },
  {
   "cell_type": "code",
   "execution_count": 8,
   "id": "dd698bbb",
   "metadata": {},
   "outputs": [
    {
     "data": {
      "text/plain": [
       "BenchmarkTools.Trial: 20 samples with 3 evaluations.\n",
       " Range \u001b[90m(\u001b[39m\u001b[36m\u001b[1mmin\u001b[22m\u001b[39m … \u001b[35mmax\u001b[39m\u001b[90m):  \u001b[39m\u001b[36m\u001b[1m 84.888 ms\u001b[22m\u001b[39m … \u001b[35m708.156 ms\u001b[39m  \u001b[90m┊\u001b[39m GC \u001b[90m(\u001b[39mmin … max\u001b[90m): \u001b[39m0.00% … 0.25%\n",
       " Time  \u001b[90m(\u001b[39m\u001b[34m\u001b[1mmedian\u001b[22m\u001b[39m\u001b[90m):     \u001b[39m\u001b[34m\u001b[1m221.245 ms               \u001b[22m\u001b[39m\u001b[90m┊\u001b[39m GC \u001b[90m(\u001b[39mmedian\u001b[90m):    \u001b[39m0.00%\n",
       " Time  \u001b[90m(\u001b[39m\u001b[32m\u001b[1mmean\u001b[22m\u001b[39m ± \u001b[32mσ\u001b[39m\u001b[90m):   \u001b[39m\u001b[32m\u001b[1m271.278 ms\u001b[22m\u001b[39m ± \u001b[32m186.007 ms\u001b[39m  \u001b[90m┊\u001b[39m GC \u001b[90m(\u001b[39mmean ± σ\u001b[90m):  \u001b[39m0.03% ± 0.06%\n",
       "\n",
       "  \u001b[39m \u001b[39m▃\u001b[39m \u001b[39m█\u001b[39m \u001b[39m \u001b[39m \u001b[39m \u001b[39m \u001b[39m \u001b[39m \u001b[34m \u001b[39m\u001b[39m \u001b[39m \u001b[39m \u001b[39m \u001b[39m \u001b[39m▃\u001b[32m \u001b[39m\u001b[39m \u001b[39m \u001b[39m \u001b[39m \u001b[39m \u001b[39m \u001b[39m \u001b[39m \u001b[39m \u001b[39m \u001b[39m \u001b[39m \u001b[39m \u001b[39m \u001b[39m \u001b[39m \u001b[39m \u001b[39m▃\u001b[39m \u001b[39m \u001b[39m \u001b[39m \u001b[39m \u001b[39m \u001b[39m \u001b[39m \u001b[39m \u001b[39m \u001b[39m \u001b[39m \u001b[39m \u001b[39m \u001b[39m \u001b[39m \u001b[39m \u001b[39m \u001b[39m \u001b[39m \u001b[39m \u001b[39m \u001b[39m \u001b[39m \u001b[39m \u001b[39m \n",
       "  \u001b[39m▇\u001b[39m█\u001b[39m▇\u001b[39m█\u001b[39m▁\u001b[39m▁\u001b[39m▇\u001b[39m▁\u001b[39m▁\u001b[39m▇\u001b[39m▁\u001b[34m▇\u001b[39m\u001b[39m▁\u001b[39m▁\u001b[39m▁\u001b[39m▇\u001b[39m▁\u001b[39m█\u001b[32m▁\u001b[39m\u001b[39m▁\u001b[39m▇\u001b[39m▁\u001b[39m▁\u001b[39m▁\u001b[39m▇\u001b[39m▁\u001b[39m▁\u001b[39m▁\u001b[39m▁\u001b[39m▁\u001b[39m▁\u001b[39m▁\u001b[39m▁\u001b[39m▁\u001b[39m▁\u001b[39m▁\u001b[39m█\u001b[39m▁\u001b[39m▁\u001b[39m▇\u001b[39m▁\u001b[39m▁\u001b[39m▁\u001b[39m▁\u001b[39m▁\u001b[39m▁\u001b[39m▁\u001b[39m▁\u001b[39m▁\u001b[39m▁\u001b[39m▁\u001b[39m▁\u001b[39m▇\u001b[39m▁\u001b[39m▁\u001b[39m▁\u001b[39m▁\u001b[39m▁\u001b[39m▁\u001b[39m▁\u001b[39m▇\u001b[39m \u001b[39m▁\n",
       "  84.9 ms\u001b[90m          Histogram: frequency by time\u001b[39m          708 ms \u001b[0m\u001b[1m<\u001b[22m\n",
       "\n",
       " Memory estimate\u001b[90m: \u001b[39m\u001b[33m1.29 MiB\u001b[39m, allocs estimate\u001b[90m: \u001b[39m\u001b[33m23128\u001b[39m."
      ]
     },
     "execution_count": 8,
     "metadata": {},
     "output_type": "execute_result"
    }
   ],
   "source": [
    "@benchmark basic_mtz(p, EAGO.Optimizer) setup=(p=random_instance(10)) evals=3 samples=20 seconds=60"
   ]
  },
  {
   "cell_type": "code",
   "execution_count": 16,
   "id": "3c861302",
   "metadata": {},
   "outputs": [
    {
     "data": {
      "text/plain": [
       "BenchmarkTools.Trial: 20 samples with 3 evaluations.\n",
       " Range \u001b[90m(\u001b[39m\u001b[36m\u001b[1mmin\u001b[22m\u001b[39m … \u001b[35mmax\u001b[39m\u001b[90m):  \u001b[39m\u001b[36m\u001b[1m  3.399 ms\u001b[22m\u001b[39m … \u001b[35m   1.037 s\u001b[39m  \u001b[90m┊\u001b[39m GC \u001b[90m(\u001b[39mmin … max\u001b[90m): \u001b[39m0.00% … 0.00%\n",
       " Time  \u001b[90m(\u001b[39m\u001b[34m\u001b[1mmedian\u001b[22m\u001b[39m\u001b[90m):     \u001b[39m\u001b[34m\u001b[1m 18.381 ms               \u001b[22m\u001b[39m\u001b[90m┊\u001b[39m GC \u001b[90m(\u001b[39mmedian\u001b[90m):    \u001b[39m0.00%\n",
       " Time  \u001b[90m(\u001b[39m\u001b[32m\u001b[1mmean\u001b[22m\u001b[39m ± \u001b[32mσ\u001b[39m\u001b[90m):   \u001b[39m\u001b[32m\u001b[1m274.959 ms\u001b[22m\u001b[39m ± \u001b[32m389.529 ms\u001b[39m  \u001b[90m┊\u001b[39m GC \u001b[90m(\u001b[39mmean ± σ\u001b[90m):  \u001b[39m0.00% ± 0.00%\n",
       "\n",
       "  \u001b[39m█\u001b[34m \u001b[39m\u001b[39m \u001b[39m \u001b[39m \u001b[39m \u001b[39m \u001b[39m \u001b[39m \u001b[39m \u001b[39m \u001b[39m \u001b[39m \u001b[39m \u001b[39m \u001b[39m \u001b[32m \u001b[39m\u001b[39m \u001b[39m \u001b[39m \u001b[39m \u001b[39m \u001b[39m \u001b[39m \u001b[39m \u001b[39m \u001b[39m \u001b[39m \u001b[39m \u001b[39m \u001b[39m \u001b[39m \u001b[39m \u001b[39m \u001b[39m \u001b[39m \u001b[39m \u001b[39m \u001b[39m \u001b[39m \u001b[39m \u001b[39m \u001b[39m \u001b[39m \u001b[39m \u001b[39m \u001b[39m \u001b[39m \u001b[39m \u001b[39m \u001b[39m \u001b[39m \u001b[39m \u001b[39m \u001b[39m \u001b[39m \u001b[39m \u001b[39m \u001b[39m \u001b[39m \u001b[39m \u001b[39m \u001b[39m \n",
       "  \u001b[39m█\u001b[34m▁\u001b[39m\u001b[39m▁\u001b[39m▃\u001b[39m▁\u001b[39m▃\u001b[39m▁\u001b[39m▁\u001b[39m▁\u001b[39m▁\u001b[39m▁\u001b[39m▁\u001b[39m▁\u001b[39m▁\u001b[39m▁\u001b[39m▁\u001b[32m▁\u001b[39m\u001b[39m▁\u001b[39m▃\u001b[39m▁\u001b[39m▁\u001b[39m▁\u001b[39m▁\u001b[39m▃\u001b[39m▁\u001b[39m▁\u001b[39m▁\u001b[39m▁\u001b[39m▁\u001b[39m▁\u001b[39m▁\u001b[39m▁\u001b[39m▁\u001b[39m▁\u001b[39m▁\u001b[39m▁\u001b[39m▁\u001b[39m▁\u001b[39m▁\u001b[39m▁\u001b[39m▁\u001b[39m▁\u001b[39m▃\u001b[39m▁\u001b[39m▁\u001b[39m▁\u001b[39m▁\u001b[39m▁\u001b[39m▁\u001b[39m▃\u001b[39m▁\u001b[39m▁\u001b[39m▁\u001b[39m▃\u001b[39m▁\u001b[39m▁\u001b[39m▁\u001b[39m▃\u001b[39m▁\u001b[39m▁\u001b[39m▃\u001b[39m \u001b[39m▁\n",
       "  3.4 ms\u001b[90m           Histogram: frequency by time\u001b[39m          1.04 s \u001b[0m\u001b[1m<\u001b[22m\n",
       "\n",
       " Memory estimate\u001b[90m: \u001b[39m\u001b[33m962.17 KiB\u001b[39m, allocs estimate\u001b[90m: \u001b[39m\u001b[33m8692\u001b[39m."
      ]
     },
     "execution_count": 16,
     "metadata": {},
     "output_type": "execute_result"
    }
   ],
   "source": [
    "@benchmark basic_mtz(p, HiGHS.Optimizer, true) setup=(p=random_instance(10)) evals=3 samples=20 seconds=60"
   ]
  },
  {
   "cell_type": "code",
   "execution_count": 17,
   "id": "3cdcbee8",
   "metadata": {},
   "outputs": [
    {
     "name": "stderr",
     "output_type": "stream",
     "text": [
      "\u001b[32m\u001b[1m   Resolving\u001b[22m\u001b[39m package versions...\n",
      "\u001b[32m\u001b[1m   Installed\u001b[22m\u001b[39m Pavito ─ v0.3.5\n",
      "\u001b[32m\u001b[1m    Updating\u001b[22m\u001b[39m `~/.julia/environments/v1.7/Project.toml`\n",
      " \u001b[90m [cd433a01] \u001b[39m\u001b[92m+ Pavito v0.3.5\u001b[39m\n",
      "\u001b[32m\u001b[1m    Updating\u001b[22m\u001b[39m `~/.julia/environments/v1.7/Manifest.toml`\n",
      " \u001b[90m [cd433a01] \u001b[39m\u001b[92m+ Pavito v0.3.5\u001b[39m\n",
      "\u001b[32m\u001b[1mPrecompiling\u001b[22m\u001b[39m project...\n",
      "\u001b[32m  ✓ \u001b[39mPavito\n",
      "  1 dependency successfully precompiled in 3 seconds (215 already precompiled)\n"
     ]
    }
   ],
   "source": [
    "using Pkg; Pkg.add(\"Pavito\")"
   ]
  },
  {
   "cell_type": "code",
   "execution_count": 20,
   "id": "c70a5b4e",
   "metadata": {},
   "outputs": [
    {
     "data": {
      "text/plain": [
       "\"/Applications/CPLEX_Studio1210/cplex/bin/x86-64_osx/\""
      ]
     },
     "execution_count": 20,
     "metadata": {},
     "output_type": "execute_result"
    }
   ],
   "source": [
    "ENV[\"CPLEX_STUDIO_BINARIES\"] = \"/Applications/CPLEX_Studio1210/cplex/bin/x86-64_osx/\""
   ]
  },
  {
   "cell_type": "code",
   "execution_count": 23,
   "id": "0931a7d6",
   "metadata": {},
   "outputs": [
    {
     "ename": "LoadError",
     "evalue": "MethodError: no method matching precompile(::String)\n\u001b[0mClosest candidates are:\n\u001b[0m  precompile(; kwargs...) at /Applications/Julia-1.7.app/Contents/Resources/julia/share/julia/stdlib/v1.7/Pkg/src/API.jl:1011\n\u001b[0m  precompile(\u001b[91m::Pkg.Types.Context\u001b[39m; internal_call, strict, warn_loaded, already_instantiated, kwargs...) at /Applications/Julia-1.7.app/Contents/Resources/julia/share/julia/stdlib/v1.7/Pkg/src/API.jl:1012",
     "output_type": "error",
     "traceback": [
      "MethodError: no method matching precompile(::String)\n\u001b[0mClosest candidates are:\n\u001b[0m  precompile(; kwargs...) at /Applications/Julia-1.7.app/Contents/Resources/julia/share/julia/stdlib/v1.7/Pkg/src/API.jl:1011\n\u001b[0m  precompile(\u001b[91m::Pkg.Types.Context\u001b[39m; internal_call, strict, warn_loaded, already_instantiated, kwargs...) at /Applications/Julia-1.7.app/Contents/Resources/julia/share/julia/stdlib/v1.7/Pkg/src/API.jl:1012",
      "",
      "Stacktrace:",
      " [1] top-level scope",
      "   @ In[23]:2",
      " [2] eval",
      "   @ ./boot.jl:373 [inlined]",
      " [3] include_string(mapexpr::typeof(REPL.softscope), mod::Module, code::String, filename::String)",
      "   @ Base ./loading.jl:1196"
     ]
    }
   ],
   "source": [
    "import Pkg\n",
    "Pkg.precompile(\"CPLEX\")\n",
    "# Pkg.build(\"CPLEX\")"
   ]
  },
  {
   "cell_type": "code",
   "execution_count": null,
   "id": "9bacd297",
   "metadata": {},
   "outputs": [],
   "source": []
  }
 ],
 "metadata": {
  "kernelspec": {
   "display_name": "Julia 1.7.3",
   "language": "julia",
   "name": "julia-1.7"
  },
  "language_info": {
   "file_extension": ".jl",
   "mimetype": "application/julia",
   "name": "julia",
   "version": "1.7.3"
  }
 },
 "nbformat": 4,
 "nbformat_minor": 5
}
